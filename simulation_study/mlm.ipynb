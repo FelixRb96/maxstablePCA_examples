{
 "cells": [
  {
   "cell_type": "markdown",
   "id": "70b35fcc",
   "metadata": {},
   "source": [
    "# Fitting max-stable PCA to max-linear models"
   ]
  },
  {
   "cell_type": "code",
   "execution_count": 1,
   "id": "9e1aa225",
   "metadata": {},
   "outputs": [
    {
     "name": "stderr",
     "output_type": "stream",
     "text": [
      "\n",
      "Attaching package: ‘dplyr’\n",
      "\n",
      "\n",
      "The following objects are masked from ‘package:stats’:\n",
      "\n",
      "    filter, lag\n",
      "\n",
      "\n",
      "The following objects are masked from ‘package:base’:\n",
      "\n",
      "    intersect, setdiff, setequal, union\n",
      "\n",
      "\n",
      "Loading required package: ggplot2\n",
      "\n",
      "Registered S3 method overwritten by 'GGally':\n",
      "  method from   \n",
      "  +.gg   ggplot2\n",
      "\n"
     ]
    }
   ],
   "source": [
    "library(evd)\n",
    "library(maxstablePCA)\n",
    "library(dplyr)\n",
    "library(GGally)"
   ]
  },
  {
   "cell_type": "markdown",
   "id": "fda29af7",
   "metadata": {},
   "source": [
    "### setup parameters and simulate data "
   ]
  },
  {
   "cell_type": "code",
   "execution_count": 2,
   "id": "583b6fb8",
   "metadata": {},
   "outputs": [],
   "source": [
    "set.seed(7142128)\n",
    "s <- 100"
   ]
  },
  {
   "cell_type": "code",
   "execution_count": 3,
   "id": "7a4fe472",
   "metadata": {},
   "outputs": [],
   "source": [
    "A1 <- matrix(\n",
    "    c(\n",
    "        6/10, 1 / 20, 1/10, 6 / 17, 6 / 18, \n",
    "        3 / 10, 15 / 20, 1 / 10, 3 / 17, 4 / 18, \n",
    "        1 / 10, 4 / 20, 8 / 10, 8 / 17, 8 / 18\n",
    "     ), \n",
    "    5, 3\n",
    ")"
   ]
  },
  {
   "cell_type": "code",
   "execution_count": 4,
   "id": "da5c0a98",
   "metadata": {},
   "outputs": [
    {
     "data": {
      "text/html": [
       "<table class=\"dataframe\">\n",
       "<caption>A matrix: 5 × 3 of type dbl</caption>\n",
       "<tbody>\n",
       "\t<tr><td>0.6000000</td><td>0.3000000</td><td>0.1000000</td></tr>\n",
       "\t<tr><td>0.0500000</td><td>0.7500000</td><td>0.2000000</td></tr>\n",
       "\t<tr><td>0.1000000</td><td>0.1000000</td><td>0.8000000</td></tr>\n",
       "\t<tr><td>0.3529412</td><td>0.1764706</td><td>0.4705882</td></tr>\n",
       "\t<tr><td>0.3333333</td><td>0.2222222</td><td>0.4444444</td></tr>\n",
       "</tbody>\n",
       "</table>\n"
      ],
      "text/latex": [
       "A matrix: 5 × 3 of type dbl\n",
       "\\begin{tabular}{lll}\n",
       "\t 0.6000000 & 0.3000000 & 0.1000000\\\\\n",
       "\t 0.0500000 & 0.7500000 & 0.2000000\\\\\n",
       "\t 0.1000000 & 0.1000000 & 0.8000000\\\\\n",
       "\t 0.3529412 & 0.1764706 & 0.4705882\\\\\n",
       "\t 0.3333333 & 0.2222222 & 0.4444444\\\\\n",
       "\\end{tabular}\n"
      ],
      "text/markdown": [
       "\n",
       "A matrix: 5 × 3 of type dbl\n",
       "\n",
       "| 0.6000000 | 0.3000000 | 0.1000000 |\n",
       "| 0.0500000 | 0.7500000 | 0.2000000 |\n",
       "| 0.1000000 | 0.1000000 | 0.8000000 |\n",
       "| 0.3529412 | 0.1764706 | 0.4705882 |\n",
       "| 0.3333333 | 0.2222222 | 0.4444444 |\n",
       "\n"
      ],
      "text/plain": [
       "     [,1]      [,2]      [,3]     \n",
       "[1,] 0.6000000 0.3000000 0.1000000\n",
       "[2,] 0.0500000 0.7500000 0.2000000\n",
       "[3,] 0.1000000 0.1000000 0.8000000\n",
       "[4,] 0.3529412 0.1764706 0.4705882\n",
       "[5,] 0.3333333 0.2222222 0.4444444"
      ]
     },
     "metadata": {},
     "output_type": "display_data"
    }
   ],
   "source": [
    "A1"
   ]
  },
  {
   "cell_type": "code",
   "execution_count": 5,
   "id": "7cfcb91d",
   "metadata": {},
   "outputs": [],
   "source": [
    "Z1 <- matrix(rfrechet(30000), 10000, 3)\n",
    "X1 <- t(maxmatmul(A1, t(Z1)))"
   ]
  },
  {
   "cell_type": "code",
   "execution_count": 6,
   "id": "662e1534",
   "metadata": {},
   "outputs": [],
   "source": [
    "X1trafo <- transform_unitpareto(X1)"
   ]
  },
  {
   "cell_type": "code",
   "execution_count": 7,
   "id": "c6315e7e",
   "metadata": {},
   "outputs": [
    {
     "data": {
      "text/plain": [
       "     Min.   1st Qu.    Median      Mean   3rd Qu.      Max. \n",
       "    1.017     2.121     3.658    19.743     8.014 10000.000 "
      ]
     },
     "metadata": {},
     "output_type": "display_data"
    }
   ],
   "source": [
    "summary(apply(X1trafo, 1, max))"
   ]
  },
  {
   "cell_type": "code",
   "execution_count": 8,
   "id": "fbc50fe8",
   "metadata": {},
   "outputs": [
    {
     "data": {
      "text/html": [
       "216"
      ],
      "text/latex": [
       "216"
      ],
      "text/markdown": [
       "216"
      ],
      "text/plain": [
       "[1] 216"
      ]
     },
     "metadata": {},
     "output_type": "display_data"
    }
   ],
   "source": [
    "length(which(apply(X1trafo, 1, max) > s))"
   ]
  },
  {
   "cell_type": "markdown",
   "id": "099d2a85",
   "metadata": {},
   "source": [
    "# Perform max-stable PCA for perfectly reconstrucable simulated data"
   ]
  },
  {
   "cell_type": "code",
   "execution_count": 9,
   "id": "cee70a07",
   "metadata": {},
   "outputs": [],
   "source": [
    "maxPCAX1P1 <- max_stable_prcomp(X1trafo, p=1, s = s, n_initial_guesses = 15000, norm = \"linfty\")\n",
    "maxPCAX1P2 <- max_stable_prcomp(X1trafo, p=2, s = s, n_initial_guesses = 15000, norm = \"linfty\")\n",
    "maxPCAX1P3 <- max_stable_prcomp(X1trafo, p=3, s = s, n_initial_guesses = 15000, norm = \"linfty\")\n",
    "maxPCAX1P4 <- max_stable_prcomp(X1trafo, p=4, s = s, n_initial_guesses = 15000, norm = \"linfty\")"
   ]
  },
  {
   "cell_type": "code",
   "execution_count": 10,
   "id": "b026007a",
   "metadata": {
    "scrolled": false
   },
   "outputs": [
    {
     "data": {
      "text/plain": [
       "$p\n",
       "[1] 3\n",
       "\n",
       "$d\n",
       "[1] 5\n",
       "\n",
       "$decoder_matrix\n",
       "           [,1]       [,2]       [,3]\n",
       "[1,] 1.34804255 0.30923580 0.04523401\n",
       "[2,] 0.01767006 1.35651271 0.19396480\n",
       "[3,] 0.04599736 0.07576909 1.46619183\n",
       "[4,] 0.82679119 0.24147409 0.83212642\n",
       "[5,] 0.78241050 0.41579434 0.78066715\n",
       "\n",
       "$encoder_matrix\n",
       "           [,1]       [,2]       [,3]        [,4]       [,5]\n",
       "[1,] 0.74182039 0.19600779 0.07199331 0.091336178 0.08527584\n",
       "[2,] 0.04600253 0.73719135 0.08504490 0.069297067 0.01755644\n",
       "[3,] 0.04780269 0.06871423 0.68205411 0.002992819 0.14805921\n",
       "\n",
       "$reconstr_matrix\n",
       "           [,1]      [,2]       [,3]        [,4]       [,5]\n",
       "[1,] 1.00000546 0.2642268 0.09705004 0.123125055 0.11495547\n",
       "[2,] 0.06240302 1.0000094 0.13229449 0.094002352 0.02871828\n",
       "[3,] 0.07008792 0.1007482 1.00002217 0.005250576 0.21708321\n",
       "[4,] 0.61333057 0.1780126 0.56755525 0.075515948 0.12320398\n",
       "[5,] 0.58040806 0.3065200 0.53245724 0.071462385 0.11558496\n",
       "\n",
       "$loss_fctn_value\n",
       "[1] 0.1083508\n",
       "\n",
       "$optim_conv_status\n",
       "[1] 4\n",
       "\n",
       "$s\n",
       "[1] 100\n",
       "\n",
       "$starting_vals\n",
       "$starting_vals$decoder_matrix_x0\n",
       "          [,1]      [,2]      [,3]\n",
       "[1,] 1.0000000 1.0000000 0.6067917\n",
       "[2,] 0.1467707 0.4058391 0.1939648\n",
       "[3,] 0.2907943 0.4124199 0.4876707\n",
       "[4,] 0.7476327 0.1772506 0.8108912\n",
       "[5,] 0.5728055 0.3470930 1.0000000\n",
       "\n",
       "$starting_vals$encoder_matrix_x0\n",
       "          [,1]      [,2]      [,3]      [,4]      [,5]\n",
       "[1,] 0.9938502 0.2958085 0.2753535 0.3824565 0.1335525\n",
       "[2,] 0.6684369 0.2440789 0.4433489 0.7966534 0.6863728\n",
       "[3,] 0.6525044 0.2106392 0.5919198 0.3285527 0.1684622\n",
       "\n",
       "\n",
       "attr(,\"class\")\n",
       "[1] \"max_stable_prcomp\""
      ]
     },
     "metadata": {},
     "output_type": "display_data"
    }
   ],
   "source": [
    "maxPCAX1P3"
   ]
  },
  {
   "cell_type": "code",
   "execution_count": 11,
   "id": "d872ddda",
   "metadata": {},
   "outputs": [
    {
     "data": {
      "text/html": [
       "<table class=\"dataframe\">\n",
       "<caption>A matrix: 5 × 3 of type dbl</caption>\n",
       "<tbody>\n",
       "\t<tr><td>1.35</td><td>0.31</td><td>0.05</td></tr>\n",
       "\t<tr><td>0.02</td><td>1.36</td><td>0.19</td></tr>\n",
       "\t<tr><td>0.05</td><td>0.08</td><td>1.47</td></tr>\n",
       "\t<tr><td>0.83</td><td>0.24</td><td>0.83</td></tr>\n",
       "\t<tr><td>0.78</td><td>0.42</td><td>0.78</td></tr>\n",
       "</tbody>\n",
       "</table>\n"
      ],
      "text/latex": [
       "A matrix: 5 × 3 of type dbl\n",
       "\\begin{tabular}{lll}\n",
       "\t 1.35 & 0.31 & 0.05\\\\\n",
       "\t 0.02 & 1.36 & 0.19\\\\\n",
       "\t 0.05 & 0.08 & 1.47\\\\\n",
       "\t 0.83 & 0.24 & 0.83\\\\\n",
       "\t 0.78 & 0.42 & 0.78\\\\\n",
       "\\end{tabular}\n"
      ],
      "text/markdown": [
       "\n",
       "A matrix: 5 × 3 of type dbl\n",
       "\n",
       "| 1.35 | 0.31 | 0.05 |\n",
       "| 0.02 | 1.36 | 0.19 |\n",
       "| 0.05 | 0.08 | 1.47 |\n",
       "| 0.83 | 0.24 | 0.83 |\n",
       "| 0.78 | 0.42 | 0.78 |\n",
       "\n"
      ],
      "text/plain": [
       "     [,1] [,2] [,3]\n",
       "[1,] 1.35 0.31 0.05\n",
       "[2,] 0.02 1.36 0.19\n",
       "[3,] 0.05 0.08 1.47\n",
       "[4,] 0.83 0.24 0.83\n",
       "[5,] 0.78 0.42 0.78"
      ]
     },
     "metadata": {},
     "output_type": "display_data"
    }
   ],
   "source": [
    "round(maxPCAX1P3$decoder_matrix, 2)"
   ]
  },
  {
   "cell_type": "code",
   "execution_count": 12,
   "id": "7d64c36d",
   "metadata": {},
   "outputs": [
    {
     "data": {
      "text/html": [
       "<table class=\"dataframe\">\n",
       "<caption>A matrix: 3 × 5 of type dbl</caption>\n",
       "<tbody>\n",
       "\t<tr><td>0.74</td><td>0.20</td><td>0.07</td><td>0.09</td><td>0.09</td></tr>\n",
       "\t<tr><td>0.05</td><td>0.74</td><td>0.09</td><td>0.07</td><td>0.02</td></tr>\n",
       "\t<tr><td>0.05</td><td>0.07</td><td>0.68</td><td>0.00</td><td>0.15</td></tr>\n",
       "</tbody>\n",
       "</table>\n"
      ],
      "text/latex": [
       "A matrix: 3 × 5 of type dbl\n",
       "\\begin{tabular}{lllll}\n",
       "\t 0.74 & 0.20 & 0.07 & 0.09 & 0.09\\\\\n",
       "\t 0.05 & 0.74 & 0.09 & 0.07 & 0.02\\\\\n",
       "\t 0.05 & 0.07 & 0.68 & 0.00 & 0.15\\\\\n",
       "\\end{tabular}\n"
      ],
      "text/markdown": [
       "\n",
       "A matrix: 3 × 5 of type dbl\n",
       "\n",
       "| 0.74 | 0.20 | 0.07 | 0.09 | 0.09 |\n",
       "| 0.05 | 0.74 | 0.09 | 0.07 | 0.02 |\n",
       "| 0.05 | 0.07 | 0.68 | 0.00 | 0.15 |\n",
       "\n"
      ],
      "text/plain": [
       "     [,1] [,2] [,3] [,4] [,5]\n",
       "[1,] 0.74 0.20 0.07 0.09 0.09\n",
       "[2,] 0.05 0.74 0.09 0.07 0.02\n",
       "[3,] 0.05 0.07 0.68 0.00 0.15"
      ]
     },
     "metadata": {},
     "output_type": "display_data"
    }
   ],
   "source": [
    "round(maxPCAX1P3$encoder_matrix, 2)"
   ]
  },
  {
   "cell_type": "code",
   "execution_count": 13,
   "id": "1bc8dfb4",
   "metadata": {},
   "outputs": [
    {
     "data": {
      "text/html": [
       "<table class=\"dataframe\">\n",
       "<caption>A matrix: 5 × 5 of type dbl</caption>\n",
       "<tbody>\n",
       "\t<tr><td>1.00</td><td>0.26</td><td>0.10</td><td>0.12</td><td>0.11</td></tr>\n",
       "\t<tr><td>0.06</td><td>1.00</td><td>0.13</td><td>0.09</td><td>0.03</td></tr>\n",
       "\t<tr><td>0.07</td><td>0.10</td><td>1.00</td><td>0.01</td><td>0.22</td></tr>\n",
       "\t<tr><td>0.61</td><td>0.18</td><td>0.57</td><td>0.08</td><td>0.12</td></tr>\n",
       "\t<tr><td>0.58</td><td>0.31</td><td>0.53</td><td>0.07</td><td>0.12</td></tr>\n",
       "</tbody>\n",
       "</table>\n"
      ],
      "text/latex": [
       "A matrix: 5 × 5 of type dbl\n",
       "\\begin{tabular}{lllll}\n",
       "\t 1.00 & 0.26 & 0.10 & 0.12 & 0.11\\\\\n",
       "\t 0.06 & 1.00 & 0.13 & 0.09 & 0.03\\\\\n",
       "\t 0.07 & 0.10 & 1.00 & 0.01 & 0.22\\\\\n",
       "\t 0.61 & 0.18 & 0.57 & 0.08 & 0.12\\\\\n",
       "\t 0.58 & 0.31 & 0.53 & 0.07 & 0.12\\\\\n",
       "\\end{tabular}\n"
      ],
      "text/markdown": [
       "\n",
       "A matrix: 5 × 5 of type dbl\n",
       "\n",
       "| 1.00 | 0.26 | 0.10 | 0.12 | 0.11 |\n",
       "| 0.06 | 1.00 | 0.13 | 0.09 | 0.03 |\n",
       "| 0.07 | 0.10 | 1.00 | 0.01 | 0.22 |\n",
       "| 0.61 | 0.18 | 0.57 | 0.08 | 0.12 |\n",
       "| 0.58 | 0.31 | 0.53 | 0.07 | 0.12 |\n",
       "\n"
      ],
      "text/plain": [
       "     [,1] [,2] [,3] [,4] [,5]\n",
       "[1,] 1.00 0.26 0.10 0.12 0.11\n",
       "[2,] 0.06 1.00 0.13 0.09 0.03\n",
       "[3,] 0.07 0.10 1.00 0.01 0.22\n",
       "[4,] 0.61 0.18 0.57 0.08 0.12\n",
       "[5,] 0.58 0.31 0.53 0.07 0.12"
      ]
     },
     "metadata": {},
     "output_type": "display_data"
    }
   ],
   "source": [
    "round(maxPCAX1P3$reconstr_matrix, 2)"
   ]
  },
  {
   "cell_type": "markdown",
   "id": "413e3efa",
   "metadata": {},
   "source": [
    "#### rescale the matrices such that the largest rowwise entries of $\\hat W$ are equal to one"
   ]
  },
  {
   "cell_type": "code",
   "execution_count": 14,
   "id": "3d17610e",
   "metadata": {},
   "outputs": [
    {
     "data": {
      "text/html": [
       "<table class=\"dataframe\">\n",
       "<caption>A matrix: 5 × 3 of type dbl</caption>\n",
       "<tbody>\n",
       "\t<tr><td>1.00</td><td>0.23</td><td>0.03</td></tr>\n",
       "\t<tr><td>0.01</td><td>1.00</td><td>0.13</td></tr>\n",
       "\t<tr><td>0.03</td><td>0.06</td><td>1.00</td></tr>\n",
       "\t<tr><td>0.61</td><td>0.18</td><td>0.57</td></tr>\n",
       "\t<tr><td>0.58</td><td>0.31</td><td>0.53</td></tr>\n",
       "</tbody>\n",
       "</table>\n"
      ],
      "text/latex": [
       "A matrix: 5 × 3 of type dbl\n",
       "\\begin{tabular}{lll}\n",
       "\t 1.00 & 0.23 & 0.03\\\\\n",
       "\t 0.01 & 1.00 & 0.13\\\\\n",
       "\t 0.03 & 0.06 & 1.00\\\\\n",
       "\t 0.61 & 0.18 & 0.57\\\\\n",
       "\t 0.58 & 0.31 & 0.53\\\\\n",
       "\\end{tabular}\n"
      ],
      "text/markdown": [
       "\n",
       "A matrix: 5 × 3 of type dbl\n",
       "\n",
       "| 1.00 | 0.23 | 0.03 |\n",
       "| 0.01 | 1.00 | 0.13 |\n",
       "| 0.03 | 0.06 | 1.00 |\n",
       "| 0.61 | 0.18 | 0.57 |\n",
       "| 0.58 | 0.31 | 0.53 |\n",
       "\n"
      ],
      "text/plain": [
       "     [,1] [,2] [,3]\n",
       "[1,] 1.00 0.23 0.03\n",
       "[2,] 0.01 1.00 0.13\n",
       "[3,] 0.03 0.06 1.00\n",
       "[4,] 0.61 0.18 0.57\n",
       "[5,] 0.58 0.31 0.53"
      ]
     },
     "metadata": {},
     "output_type": "display_data"
    }
   ],
   "source": [
    "round(maxmatmul(maxPCAX1P3$decoder_matrix, diag(apply(maxPCAX1P3$encoder_matrix, 1, max))), 2)"
   ]
  },
  {
   "cell_type": "code",
   "execution_count": 15,
   "id": "73f50f49",
   "metadata": {},
   "outputs": [
    {
     "data": {
      "text/html": [
       "<table class=\"dataframe\">\n",
       "<caption>A matrix: 3 × 5 of type dbl</caption>\n",
       "<tbody>\n",
       "\t<tr><td>1.00</td><td>0.26</td><td>0.10</td><td>0.12</td><td>0.11</td></tr>\n",
       "\t<tr><td>0.06</td><td>1.00</td><td>0.12</td><td>0.09</td><td>0.02</td></tr>\n",
       "\t<tr><td>0.07</td><td>0.10</td><td>1.00</td><td>0.00</td><td>0.22</td></tr>\n",
       "</tbody>\n",
       "</table>\n"
      ],
      "text/latex": [
       "A matrix: 3 × 5 of type dbl\n",
       "\\begin{tabular}{lllll}\n",
       "\t 1.00 & 0.26 & 0.10 & 0.12 & 0.11\\\\\n",
       "\t 0.06 & 1.00 & 0.12 & 0.09 & 0.02\\\\\n",
       "\t 0.07 & 0.10 & 1.00 & 0.00 & 0.22\\\\\n",
       "\\end{tabular}\n"
      ],
      "text/markdown": [
       "\n",
       "A matrix: 3 × 5 of type dbl\n",
       "\n",
       "| 1.00 | 0.26 | 0.10 | 0.12 | 0.11 |\n",
       "| 0.06 | 1.00 | 0.12 | 0.09 | 0.02 |\n",
       "| 0.07 | 0.10 | 1.00 | 0.00 | 0.22 |\n",
       "\n"
      ],
      "text/plain": [
       "     [,1] [,2] [,3] [,4] [,5]\n",
       "[1,] 1.00 0.26 0.10 0.12 0.11\n",
       "[2,] 0.06 1.00 0.12 0.09 0.02\n",
       "[3,] 0.07 0.10 1.00 0.00 0.22"
      ]
     },
     "metadata": {},
     "output_type": "display_data"
    }
   ],
   "source": [
    "round(t(apply(maxPCAX1P3$encoder_matrix, 1, function(z) z / max(z))), 2)"
   ]
  },
  {
   "cell_type": "markdown",
   "id": "3400ac77",
   "metadata": {},
   "source": [
    "### elbow plot and pairplot to visually inspect fit "
   ]
  },
  {
   "cell_type": "code",
   "execution_count": 16,
   "id": "5b54af22",
   "metadata": {},
   "outputs": [
    {
     "data": {
      "image/png": "[encoded data removed]",
      "text/plain": [
       "plot without title"
      ]
     },
     "metadata": {
      "image/png": {
       "height": 420,
       "width": 420
      }
     },
     "output_type": "display_data"
    }
   ],
   "source": [
    "plotlossdatX1 <- data.frame(\n",
    "    p = 1:4, \n",
    "    loss = c(\n",
    "        maxPCAX1P1$loss_fctn_value,\n",
    "        maxPCAX1P2$loss_fctn_value,\n",
    "        maxPCAX1P3$loss_fctn_value,\n",
    "        maxPCAX1P4$loss_fctn_value\n",
    "    )\n",
    ")\n",
    "\n",
    "pe1 <- ggplot(aes(x = p, y = loss), data = plotlossdatX1) + geom_line() + geom_point() + ylim(0,4) + theme_minimal()\n",
    "pe1"
   ]
  },
  {
   "cell_type": "code",
   "execution_count": 17,
   "id": "7f3e846e",
   "metadata": {},
   "outputs": [
    {
     "name": "stderr",
     "output_type": "stream",
     "text": [
      "\u001b[1m\u001b[22mSaving 7 x 7 in image\n"
     ]
    }
   ],
   "source": [
    "ggsave(\"mlm_lindep_elbow.pdf\", pe1)"
   ]
  },
  {
   "cell_type": "code",
   "execution_count": 18,
   "id": "c4906385",
   "metadata": {},
   "outputs": [
    {
     "name": "stderr",
     "output_type": "stream",
     "text": [
      "\u001b[1m\u001b[22mJoining with `by = join_by(X1, X2, X3, X4, X5, is_rec)`\n"
     ]
    }
   ],
   "source": [
    "rec1 <- t(maxmatmul(maxPCAX1P3$reconstr_matrix, t(X1)))\n",
    "\n",
    "datX1 <- data.frame(X1)\n",
    "datX1$is_rec = \"original\"\n",
    "datrec1 <- data.frame(rec1)\n",
    "datrec1$is_rec = \"reconstruction\"\n",
    "names(datrec1) <- names(datX1)\n",
    "plot_datX1 <- full_join(datX1, datrec1)"
   ]
  },
  {
   "cell_type": "code",
   "execution_count": 19,
   "id": "f1fffbe8",
   "metadata": {
    "scrolled": false
   },
   "outputs": [
    {
     "data": {
      "image/png": "[encoded data removed]",
      "text/plain": [
       "plot without title"
      ]
     },
     "metadata": {
      "image/png": {
       "height": 420,
       "width": 420
      }
     },
     "output_type": "display_data"
    }
   ],
   "source": [
    "p1 <- ggpairs(\n",
    "    plot_datX1, \n",
    "    aes(color = is_rec, shape = is_rec, size = 2),\n",
    "    columns = 1:5,\n",
    "    upper = list(continuous = \"points\", combo = \"dot_no_facet\"),\n",
    "    diag = list(continuous = \"blankDiag\", discrete = \"barDiag\", na = \"naDiag\")\n",
    ") + \n",
    "theme_light() +\n",
    "theme(axis.text.x = element_text(angle = 45, vjust = 1, hjust=1))\n",
    "p1"
   ]
  },
  {
   "cell_type": "code",
   "execution_count": 20,
   "id": "8446f844",
   "metadata": {},
   "outputs": [
    {
     "name": "stderr",
     "output_type": "stream",
     "text": [
      "\u001b[1m\u001b[22mSaving 7 x 7 in image\n"
     ]
    }
   ],
   "source": [
    "ggsave(\"mlm_lindep.png\", p1)"
   ]
  },
  {
   "cell_type": "markdown",
   "id": "19c7c3b5",
   "metadata": {},
   "source": [
    "# not perfectly reconstructable second model"
   ]
  },
  {
   "cell_type": "code",
   "execution_count": 21,
   "id": "57aa9619",
   "metadata": {},
   "outputs": [],
   "source": [
    "A2 <- matrix(\n",
    "    c(\n",
    "        2/3, 2/3, 0, 0, 1 / 5, \n",
    "        0, 1/3, 2/3, 1/3, 3 / 5, \n",
    "        1 / 3, 0, 1/3, 2/3, 1 / 5\n",
    "     ), \n",
    "    5, 3\n",
    ")"
   ]
  },
  {
   "cell_type": "code",
   "execution_count": 22,
   "id": "13bedba8",
   "metadata": {},
   "outputs": [
    {
     "data": {
      "text/html": [
       "<table class=\"dataframe\">\n",
       "<caption>A matrix: 5 × 3 of type dbl</caption>\n",
       "<tbody>\n",
       "\t<tr><td>0.6666667</td><td>0.0000000</td><td>0.3333333</td></tr>\n",
       "\t<tr><td>0.6666667</td><td>0.3333333</td><td>0.0000000</td></tr>\n",
       "\t<tr><td>0.0000000</td><td>0.6666667</td><td>0.3333333</td></tr>\n",
       "\t<tr><td>0.0000000</td><td>0.3333333</td><td>0.6666667</td></tr>\n",
       "\t<tr><td>0.2000000</td><td>0.6000000</td><td>0.2000000</td></tr>\n",
       "</tbody>\n",
       "</table>\n"
      ],
      "text/latex": [
       "A matrix: 5 × 3 of type dbl\n",
       "\\begin{tabular}{lll}\n",
       "\t 0.6666667 & 0.0000000 & 0.3333333\\\\\n",
       "\t 0.6666667 & 0.3333333 & 0.0000000\\\\\n",
       "\t 0.0000000 & 0.6666667 & 0.3333333\\\\\n",
       "\t 0.0000000 & 0.3333333 & 0.6666667\\\\\n",
       "\t 0.2000000 & 0.6000000 & 0.2000000\\\\\n",
       "\\end{tabular}\n"
      ],
      "text/markdown": [
       "\n",
       "A matrix: 5 × 3 of type dbl\n",
       "\n",
       "| 0.6666667 | 0.0000000 | 0.3333333 |\n",
       "| 0.6666667 | 0.3333333 | 0.0000000 |\n",
       "| 0.0000000 | 0.6666667 | 0.3333333 |\n",
       "| 0.0000000 | 0.3333333 | 0.6666667 |\n",
       "| 0.2000000 | 0.6000000 | 0.2000000 |\n",
       "\n"
      ],
      "text/plain": [
       "     [,1]      [,2]      [,3]     \n",
       "[1,] 0.6666667 0.0000000 0.3333333\n",
       "[2,] 0.6666667 0.3333333 0.0000000\n",
       "[3,] 0.0000000 0.6666667 0.3333333\n",
       "[4,] 0.0000000 0.3333333 0.6666667\n",
       "[5,] 0.2000000 0.6000000 0.2000000"
      ]
     },
     "metadata": {},
     "output_type": "display_data"
    }
   ],
   "source": [
    "A2"
   ]
  },
  {
   "cell_type": "code",
   "execution_count": 23,
   "id": "6b92376f",
   "metadata": {},
   "outputs": [],
   "source": [
    "Z2 <- matrix(rfrechet(30000), 10000, 3)\n",
    "X2 <- t(maxmatmul(A2, t(Z2)))\n",
    "X2trafo <- transform_unitpareto(X2)"
   ]
  },
  {
   "cell_type": "code",
   "execution_count": 24,
   "id": "9a7fbd51",
   "metadata": {},
   "outputs": [
    {
     "data": {
      "text/html": [
       "195"
      ],
      "text/latex": [
       "195"
      ],
      "text/markdown": [
       "195"
      ],
      "text/plain": [
       "[1] 195"
      ]
     },
     "metadata": {},
     "output_type": "display_data"
    }
   ],
   "source": [
    "length(which(apply(X2trafo, 1, max) > s))"
   ]
  },
  {
   "cell_type": "code",
   "execution_count": 25,
   "id": "3cfba4be",
   "metadata": {},
   "outputs": [],
   "source": [
    "maxPCAX2P1 <- max_stable_prcomp(X2trafo, p=1, s = s, n_initial_guesses = 15000, norm = \"linfty\")\n",
    "maxPCAX2P2 <- max_stable_prcomp(X2trafo, p=2, s = s, n_initial_guesses = 15000, norm = \"linfty\")\n",
    "maxPCAX2P3 <- max_stable_prcomp(X2trafo, p=3, s = s, n_initial_guesses = 15000, norm = \"linfty\")\n",
    "maxPCAX2P4 <- max_stable_prcomp(X2trafo, p=4, s = s, n_initial_guesses = 15000, norm = \"linfty\")"
   ]
  },
  {
   "cell_type": "code",
   "execution_count": 26,
   "id": "b270e34e",
   "metadata": {},
   "outputs": [
    {
     "data": {
      "text/plain": [
       "$p\n",
       "[1] 3\n",
       "\n",
       "$d\n",
       "[1] 5\n",
       "\n",
       "$decoder_matrix\n",
       "            [,1]         [,2]         [,3]\n",
       "[1,] 0.682371509 0.7856499745 0.0006934797\n",
       "[2,] 0.001405535 1.1376249606 0.0017708992\n",
       "[3,] 0.304802206 0.1068913700 1.1489626010\n",
       "[4,] 1.261355289 0.0004540134 0.0033538690\n",
       "[5,] 0.444003780 0.1766640546 1.0685341913\n",
       "\n",
       "$encoder_matrix\n",
       "             [,1]         [,2]         [,3]         [,4]        [,5]\n",
       "[1,] 0.0005733894 1.580042e-05 0.0640500715 0.7928098575 0.002248232\n",
       "[2,] 0.0008575232 8.790204e-01 0.0002315618 0.0006531885 0.001088386\n",
       "[3,] 0.0298824810 3.148894e-02 0.1574021791 0.4049543888 0.935859170\n",
       "\n",
       "$reconstr_matrix\n",
       "             [,1]        [,2]         [,3]        [,4]        [,5]\n",
       "[1,] 0.0006737131 0.690602352 0.0437059439 0.540990859 0.001534130\n",
       "[2,] 0.0009755398 0.999995544 0.0002787434 0.001114322 0.001657312\n",
       "[3,] 0.0343338531 0.093959694 0.1808492171 0.465277448 1.075267186\n",
       "[4,] 0.0007232477 0.000399087 0.0807898965 1.000014907 0.003138749\n",
       "[5,] 0.0319304527 0.155291307 0.1681896102 0.432707610 0.999997521\n",
       "\n",
       "$loss_fctn_value\n",
       "[1] 0.7068779\n",
       "\n",
       "$optim_conv_status\n",
       "[1] 4\n",
       "\n",
       "$s\n",
       "[1] 100\n",
       "\n",
       "$starting_vals\n",
       "$starting_vals$decoder_matrix_x0\n",
       "          [,1]      [,2]      [,3]\n",
       "[1,] 0.5267561 0.9307883 0.5314962\n",
       "[2,] 0.6704364 1.0000000 0.7040765\n",
       "[3,] 0.3048022 0.4971638 1.0000000\n",
       "[4,] 1.0000000 0.2801981 0.4545492\n",
       "[5,] 0.3015016 0.5910538 0.2276752\n",
       "\n",
       "$starting_vals$encoder_matrix_x0\n",
       "          [,1]      [,2]      [,3]      [,4]      [,5]\n",
       "[1,] 0.2974498 0.3526931 0.4256626 0.9356906 0.4933969\n",
       "[2,] 0.8280283 0.8760143 0.3811520 0.2152402 0.4126193\n",
       "[3,] 0.8499853 0.3325207 0.1574022 0.6611873 0.7845204\n",
       "\n",
       "\n",
       "attr(,\"class\")\n",
       "[1] \"max_stable_prcomp\""
      ]
     },
     "metadata": {},
     "output_type": "display_data"
    }
   ],
   "source": [
    "maxPCAX2P3"
   ]
  },
  {
   "cell_type": "code",
   "execution_count": 27,
   "id": "69e7feaf",
   "metadata": {},
   "outputs": [
    {
     "data": {
      "text/html": [
       "<table class=\"dataframe\">\n",
       "<caption>A matrix: 5 × 3 of type dbl</caption>\n",
       "<tbody>\n",
       "\t<tr><td>0.68</td><td>0.79</td><td>0.00</td></tr>\n",
       "\t<tr><td>0.00</td><td>1.14</td><td>0.00</td></tr>\n",
       "\t<tr><td>0.30</td><td>0.11</td><td>1.15</td></tr>\n",
       "\t<tr><td>1.26</td><td>0.00</td><td>0.00</td></tr>\n",
       "\t<tr><td>0.44</td><td>0.18</td><td>1.07</td></tr>\n",
       "</tbody>\n",
       "</table>\n"
      ],
      "text/latex": [
       "A matrix: 5 × 3 of type dbl\n",
       "\\begin{tabular}{lll}\n",
       "\t 0.68 & 0.79 & 0.00\\\\\n",
       "\t 0.00 & 1.14 & 0.00\\\\\n",
       "\t 0.30 & 0.11 & 1.15\\\\\n",
       "\t 1.26 & 0.00 & 0.00\\\\\n",
       "\t 0.44 & 0.18 & 1.07\\\\\n",
       "\\end{tabular}\n"
      ],
      "text/markdown": [
       "\n",
       "A matrix: 5 × 3 of type dbl\n",
       "\n",
       "| 0.68 | 0.79 | 0.00 |\n",
       "| 0.00 | 1.14 | 0.00 |\n",
       "| 0.30 | 0.11 | 1.15 |\n",
       "| 1.26 | 0.00 | 0.00 |\n",
       "| 0.44 | 0.18 | 1.07 |\n",
       "\n"
      ],
      "text/plain": [
       "     [,1] [,2] [,3]\n",
       "[1,] 0.68 0.79 0.00\n",
       "[2,] 0.00 1.14 0.00\n",
       "[3,] 0.30 0.11 1.15\n",
       "[4,] 1.26 0.00 0.00\n",
       "[5,] 0.44 0.18 1.07"
      ]
     },
     "metadata": {},
     "output_type": "display_data"
    }
   ],
   "source": [
    "round(maxPCAX2P3$decoder_matrix, 2)"
   ]
  },
  {
   "cell_type": "code",
   "execution_count": 28,
   "id": "d4dcf0f1",
   "metadata": {},
   "outputs": [
    {
     "data": {
      "text/html": [
       "<table class=\"dataframe\">\n",
       "<caption>A matrix: 3 × 5 of type dbl</caption>\n",
       "<tbody>\n",
       "\t<tr><td>0.00</td><td>0.00</td><td>0.06</td><td>0.79</td><td>0.00</td></tr>\n",
       "\t<tr><td>0.00</td><td>0.88</td><td>0.00</td><td>0.00</td><td>0.00</td></tr>\n",
       "\t<tr><td>0.03</td><td>0.03</td><td>0.16</td><td>0.40</td><td>0.94</td></tr>\n",
       "</tbody>\n",
       "</table>\n"
      ],
      "text/latex": [
       "A matrix: 3 × 5 of type dbl\n",
       "\\begin{tabular}{lllll}\n",
       "\t 0.00 & 0.00 & 0.06 & 0.79 & 0.00\\\\\n",
       "\t 0.00 & 0.88 & 0.00 & 0.00 & 0.00\\\\\n",
       "\t 0.03 & 0.03 & 0.16 & 0.40 & 0.94\\\\\n",
       "\\end{tabular}\n"
      ],
      "text/markdown": [
       "\n",
       "A matrix: 3 × 5 of type dbl\n",
       "\n",
       "| 0.00 | 0.00 | 0.06 | 0.79 | 0.00 |\n",
       "| 0.00 | 0.88 | 0.00 | 0.00 | 0.00 |\n",
       "| 0.03 | 0.03 | 0.16 | 0.40 | 0.94 |\n",
       "\n"
      ],
      "text/plain": [
       "     [,1] [,2] [,3] [,4] [,5]\n",
       "[1,] 0.00 0.00 0.06 0.79 0.00\n",
       "[2,] 0.00 0.88 0.00 0.00 0.00\n",
       "[3,] 0.03 0.03 0.16 0.40 0.94"
      ]
     },
     "metadata": {},
     "output_type": "display_data"
    }
   ],
   "source": [
    "round(maxPCAX2P3$encoder_matrix, 2)"
   ]
  },
  {
   "cell_type": "code",
   "execution_count": 29,
   "id": "55f34d5d",
   "metadata": {},
   "outputs": [
    {
     "data": {
      "text/html": [
       "<table class=\"dataframe\">\n",
       "<caption>A matrix: 5 × 5 of type dbl</caption>\n",
       "<tbody>\n",
       "\t<tr><td>0.00</td><td>0.69</td><td>0.04</td><td>0.54</td><td>0.00</td></tr>\n",
       "\t<tr><td>0.00</td><td>1.00</td><td>0.00</td><td>0.00</td><td>0.00</td></tr>\n",
       "\t<tr><td>0.03</td><td>0.09</td><td>0.18</td><td>0.47</td><td>1.08</td></tr>\n",
       "\t<tr><td>0.00</td><td>0.00</td><td>0.08</td><td>1.00</td><td>0.00</td></tr>\n",
       "\t<tr><td>0.03</td><td>0.16</td><td>0.17</td><td>0.43</td><td>1.00</td></tr>\n",
       "</tbody>\n",
       "</table>\n"
      ],
      "text/latex": [
       "A matrix: 5 × 5 of type dbl\n",
       "\\begin{tabular}{lllll}\n",
       "\t 0.00 & 0.69 & 0.04 & 0.54 & 0.00\\\\\n",
       "\t 0.00 & 1.00 & 0.00 & 0.00 & 0.00\\\\\n",
       "\t 0.03 & 0.09 & 0.18 & 0.47 & 1.08\\\\\n",
       "\t 0.00 & 0.00 & 0.08 & 1.00 & 0.00\\\\\n",
       "\t 0.03 & 0.16 & 0.17 & 0.43 & 1.00\\\\\n",
       "\\end{tabular}\n"
      ],
      "text/markdown": [
       "\n",
       "A matrix: 5 × 5 of type dbl\n",
       "\n",
       "| 0.00 | 0.69 | 0.04 | 0.54 | 0.00 |\n",
       "| 0.00 | 1.00 | 0.00 | 0.00 | 0.00 |\n",
       "| 0.03 | 0.09 | 0.18 | 0.47 | 1.08 |\n",
       "| 0.00 | 0.00 | 0.08 | 1.00 | 0.00 |\n",
       "| 0.03 | 0.16 | 0.17 | 0.43 | 1.00 |\n",
       "\n"
      ],
      "text/plain": [
       "     [,1] [,2] [,3] [,4] [,5]\n",
       "[1,] 0.00 0.69 0.04 0.54 0.00\n",
       "[2,] 0.00 1.00 0.00 0.00 0.00\n",
       "[3,] 0.03 0.09 0.18 0.47 1.08\n",
       "[4,] 0.00 0.00 0.08 1.00 0.00\n",
       "[5,] 0.03 0.16 0.17 0.43 1.00"
      ]
     },
     "metadata": {},
     "output_type": "display_data"
    }
   ],
   "source": [
    "round(maxPCAX2P3$reconstr_matrix, 2)"
   ]
  },
  {
   "cell_type": "markdown",
   "id": "d78ced0c",
   "metadata": {},
   "source": [
    "#### rescale the matrices such that the largest rowwise entries of $\\hat W$ are equal to one"
   ]
  },
  {
   "cell_type": "code",
   "execution_count": 30,
   "id": "41e61dac",
   "metadata": {},
   "outputs": [
    {
     "data": {
      "text/html": [
       "<table class=\"dataframe\">\n",
       "<caption>A matrix: 5 × 3 of type dbl</caption>\n",
       "<tbody>\n",
       "\t<tr><td>0.54</td><td>0.69</td><td>0.00</td></tr>\n",
       "\t<tr><td>0.00</td><td>1.00</td><td>0.00</td></tr>\n",
       "\t<tr><td>0.24</td><td>0.09</td><td>1.08</td></tr>\n",
       "\t<tr><td>1.00</td><td>0.00</td><td>0.00</td></tr>\n",
       "\t<tr><td>0.35</td><td>0.16</td><td>1.00</td></tr>\n",
       "</tbody>\n",
       "</table>\n"
      ],
      "text/latex": [
       "A matrix: 5 × 3 of type dbl\n",
       "\\begin{tabular}{lll}\n",
       "\t 0.54 & 0.69 & 0.00\\\\\n",
       "\t 0.00 & 1.00 & 0.00\\\\\n",
       "\t 0.24 & 0.09 & 1.08\\\\\n",
       "\t 1.00 & 0.00 & 0.00\\\\\n",
       "\t 0.35 & 0.16 & 1.00\\\\\n",
       "\\end{tabular}\n"
      ],
      "text/markdown": [
       "\n",
       "A matrix: 5 × 3 of type dbl\n",
       "\n",
       "| 0.54 | 0.69 | 0.00 |\n",
       "| 0.00 | 1.00 | 0.00 |\n",
       "| 0.24 | 0.09 | 1.08 |\n",
       "| 1.00 | 0.00 | 0.00 |\n",
       "| 0.35 | 0.16 | 1.00 |\n",
       "\n"
      ],
      "text/plain": [
       "     [,1] [,2] [,3]\n",
       "[1,] 0.54 0.69 0.00\n",
       "[2,] 0.00 1.00 0.00\n",
       "[3,] 0.24 0.09 1.08\n",
       "[4,] 1.00 0.00 0.00\n",
       "[5,] 0.35 0.16 1.00"
      ]
     },
     "metadata": {},
     "output_type": "display_data"
    }
   ],
   "source": [
    "round(maxmatmul(maxPCAX2P3$decoder_matrix, diag(apply(maxPCAX2P3$encoder_matrix, 1, max))), 2)"
   ]
  },
  {
   "cell_type": "code",
   "execution_count": 31,
   "id": "9292e345",
   "metadata": {},
   "outputs": [
    {
     "data": {
      "text/html": [
       "<table class=\"dataframe\">\n",
       "<caption>A matrix: 3 × 5 of type dbl</caption>\n",
       "<tbody>\n",
       "\t<tr><td>0.00</td><td>0.00</td><td>0.08</td><td>1.00</td><td>0</td></tr>\n",
       "\t<tr><td>0.00</td><td>1.00</td><td>0.00</td><td>0.00</td><td>0</td></tr>\n",
       "\t<tr><td>0.03</td><td>0.03</td><td>0.17</td><td>0.43</td><td>1</td></tr>\n",
       "</tbody>\n",
       "</table>\n"
      ],
      "text/latex": [
       "A matrix: 3 × 5 of type dbl\n",
       "\\begin{tabular}{lllll}\n",
       "\t 0.00 & 0.00 & 0.08 & 1.00 & 0\\\\\n",
       "\t 0.00 & 1.00 & 0.00 & 0.00 & 0\\\\\n",
       "\t 0.03 & 0.03 & 0.17 & 0.43 & 1\\\\\n",
       "\\end{tabular}\n"
      ],
      "text/markdown": [
       "\n",
       "A matrix: 3 × 5 of type dbl\n",
       "\n",
       "| 0.00 | 0.00 | 0.08 | 1.00 | 0 |\n",
       "| 0.00 | 1.00 | 0.00 | 0.00 | 0 |\n",
       "| 0.03 | 0.03 | 0.17 | 0.43 | 1 |\n",
       "\n"
      ],
      "text/plain": [
       "     [,1] [,2] [,3] [,4] [,5]\n",
       "[1,] 0.00 0.00 0.08 1.00 0   \n",
       "[2,] 0.00 1.00 0.00 0.00 0   \n",
       "[3,] 0.03 0.03 0.17 0.43 1   "
      ]
     },
     "metadata": {},
     "output_type": "display_data"
    }
   ],
   "source": [
    "round(t(apply(maxPCAX2P3$encoder_matrix, 1, function(z) z / max(z))), 2)"
   ]
  },
  {
   "cell_type": "markdown",
   "id": "6a9421b5",
   "metadata": {},
   "source": [
    "### elbow plot and pairplot to visually inspect fit"
   ]
  },
  {
   "cell_type": "code",
   "execution_count": 32,
   "id": "24bccfd7",
   "metadata": {},
   "outputs": [
    {
     "data": {
      "image/png": "[encoded data removed]",
      "text/plain": [
       "plot without title"
      ]
     },
     "metadata": {
      "image/png": {
       "height": 420,
       "width": 420
      }
     },
     "output_type": "display_data"
    }
   ],
   "source": [
    "plotlossdatX2 <- data.frame(\n",
    "    p = 1:4, \n",
    "    loss = c(\n",
    "        maxPCAX2P1$loss_fctn_value,\n",
    "        maxPCAX2P2$loss_fctn_value,\n",
    "        maxPCAX2P3$loss_fctn_value,\n",
    "        maxPCAX2P4$loss_fctn_value\n",
    "    )\n",
    ")\n",
    "\n",
    "pe2 <- ggplot(aes(x = p, y = loss), data = plotlossdatX2) + geom_line() + geom_point() + ylim(0,4) + theme_minimal()\n",
    "pe2"
   ]
  },
  {
   "cell_type": "code",
   "execution_count": 33,
   "id": "8aed8c57",
   "metadata": {},
   "outputs": [
    {
     "name": "stderr",
     "output_type": "stream",
     "text": [
      "\u001b[1m\u001b[22mSaving 7 x 7 in image\n"
     ]
    }
   ],
   "source": [
    "ggsave(\"mlm_nolindep_elbow.pdf\", pe2)"
   ]
  },
  {
   "cell_type": "code",
   "execution_count": 34,
   "id": "0544c5f5",
   "metadata": {},
   "outputs": [
    {
     "name": "stderr",
     "output_type": "stream",
     "text": [
      "\u001b[1m\u001b[22mJoining with `by = join_by(X1, X2, X3, X4, X5, is_rec)`\n"
     ]
    }
   ],
   "source": [
    "rec2 <- t(maxmatmul(maxPCAX2P3$reconstr_matrix, t(X2)))\n",
    "\n",
    "datX2 <- data.frame(X2)\n",
    "datX2$is_rec = \"original\"\n",
    "datrec2 <- data.frame(rec2)\n",
    "datrec2$is_rec = \"reconstruction\"\n",
    "names(datrec2) <- names(datX2)\n",
    "plot_datX2 <- full_join(datX2, datrec2)"
   ]
  },
  {
   "cell_type": "code",
   "execution_count": 35,
   "id": "e4e301f1",
   "metadata": {},
   "outputs": [
    {
     "data": {
      "image/png": "[encoded data removed]",
      "text/plain": [
       "plot without title"
      ]
     },
     "metadata": {
      "image/png": {
       "height": 420,
       "width": 420
      }
     },
     "output_type": "display_data"
    }
   ],
   "source": [
    "p2 <- ggpairs(\n",
    "    plot_datX2, \n",
    "    aes(color = is_rec, shape = is_rec, size = 2),\n",
    "    columns = c(2,4,5,1,3),\n",
    "    upper = list(continuous = \"points\", combo = \"dot_no_facet\"),\n",
    "    diag = list(continuous = \"blankDiag\", discrete = \"barDiag\", na = \"naDiag\")\n",
    ") + \n",
    "theme_light() +\n",
    "theme(axis.text.x = element_text(angle = 45, vjust = 1, hjust=1))\n",
    "\n",
    "p2"
   ]
  },
  {
   "cell_type": "code",
   "execution_count": 36,
   "id": "c275342e",
   "metadata": {},
   "outputs": [
    {
     "name": "stderr",
     "output_type": "stream",
     "text": [
      "\u001b[1m\u001b[22mSaving 7 x 7 in image\n"
     ]
    }
   ],
   "source": [
    "ggsave(\"mlm_nolindep.png\", p2)"
   ]
  }
 ],
 "metadata": {
  "kernelspec": {
   "display_name": "R",
   "language": "R",
   "name": "ir"
  },
  "language_info": {
   "codemirror_mode": "r",
   "file_extension": ".r",
   "mimetype": "text/x-r-source",
   "name": "R",
   "pygments_lexer": "r",
   "version": "4.5.1"
  }
 },
 "nbformat": 4,
 "nbformat_minor": 5
}
