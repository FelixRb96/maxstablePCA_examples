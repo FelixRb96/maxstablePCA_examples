{
 "cells": [
  {
   "cell_type": "markdown",
   "id": "70b35fcc",
   "metadata": {},
   "source": [
    "# Fitting max-stable PCA to max-linear models"
   ]
  },
  {
   "cell_type": "code",
   "execution_count": 1,
   "id": "9e1aa225",
   "metadata": {},
   "outputs": [
    {
     "name": "stderr",
     "output_type": "stream",
     "text": [
      "\n",
      "Attaching package: ‘dplyr’\n",
      "\n",
      "\n",
      "The following objects are masked from ‘package:stats’:\n",
      "\n",
      "    filter, lag\n",
      "\n",
      "\n",
      "The following objects are masked from ‘package:base’:\n",
      "\n",
      "    intersect, setdiff, setequal, union\n",
      "\n",
      "\n",
      "Loading required package: ggplot2\n",
      "\n",
      "Registered S3 method overwritten by 'GGally':\n",
      "  method from   \n",
      "  +.gg   ggplot2\n",
      "\n"
     ]
    }
   ],
   "source": [
    "library(evd)\n",
    "library(maxstablePCA)\n",
    "library(dplyr)\n",
    "library(GGally)\n",
    "library(ggplot2)"
   ]
  },
  {
   "cell_type": "code",
   "execution_count": 2,
   "id": "583b6fb8",
   "metadata": {},
   "outputs": [],
   "source": [
    "set.seed(1357)\n",
    "s <- 200"
   ]
  },
  {
   "cell_type": "code",
   "execution_count": 3,
   "id": "e3bbbf05",
   "metadata": {},
   "outputs": [
    {
     "name": "stderr",
     "output_type": "stream",
     "text": [
      "Loading required package: iterators\n",
      "\n",
      "Loading required package: parallel\n",
      "\n"
     ]
    }
   ],
   "source": [
    "library(foreach)\n",
    "library(doParallel)\n",
    "\n",
    "#setup parallel backend to use many processors\n",
    "cores=detectCores()\n",
    "cl <- makeCluster(cores[1]-1) #not to overload your computer\n",
    "registerDoParallel(cl)\n",
    "\n",
    "emp_errors_highdep <- foreach(i=1:100, .combine=c) %dopar% {\n",
    "    \n",
    "    library(evd)\n",
    "    library(maxstablePCA)\n",
    "    \n",
    "    X <- rmvevd(10000, dep = .2, model = \"log\", d = 5)\n",
    "    Xtrafo <- transform_unitpareto(X)\n",
    "    \n",
    "    maxPCA_curr <- max_stable_prcomp(Xtrafo, p = 2, s = s)\n",
    "    \n",
    "   emp_error_curr = maxPCA_curr$loss_fctn_value\n",
    "   emp_error_curr \n",
    "}\n",
    "\n",
    "#stop cluster\n",
    "stopCluster(cl)"
   ]
  },
  {
   "cell_type": "code",
   "execution_count": 4,
   "id": "f9b086bc",
   "metadata": {},
   "outputs": [],
   "source": [
    "library(foreach)\n",
    "library(doParallel)\n",
    "\n",
    "#setup parallel backend to use many processors\n",
    "cores=detectCores()\n",
    "cl <- makeCluster(cores[1]-1) #not to overload your computer\n",
    "registerDoParallel(cl)\n",
    "\n",
    "emp_errors_meddep <- foreach(i=1:100, .combine=c) %dopar% {\n",
    "    \n",
    "    library(evd)\n",
    "    library(maxstablePCA)\n",
    "    \n",
    "    X <- rmvevd(10000, dep = .5, model = \"log\", d = 5)\n",
    "    Xtrafo <- transform_unitpareto(X)\n",
    "    \n",
    "    maxPCA_curr <- max_stable_prcomp(Xtrafo, p = 3, s = s)\n",
    "    \n",
    "   emp_error_curr = maxPCA_curr$loss_fctn_value\n",
    "   emp_error_curr \n",
    "}\n",
    "\n",
    "#stop cluster\n",
    "stopCluster(cl)"
   ]
  },
  {
   "cell_type": "code",
   "execution_count": 5,
   "id": "aff8ab67",
   "metadata": {},
   "outputs": [],
   "source": [
    "library(foreach)\n",
    "library(doParallel)\n",
    "\n",
    "#setup parallel backend to use many processors\n",
    "cores=detectCores()\n",
    "cl <- makeCluster(cores[1]-1) #not to overload your computer\n",
    "registerDoParallel(cl)\n",
    "\n",
    "emp_errors_lowdep <- foreach(i=1:100, .combine=c) %dopar% {\n",
    "    \n",
    "    library(evd)\n",
    "    library(maxstablePCA)\n",
    "    \n",
    "    X <- rmvevd(10000, dep = .8, model = \"log\", d = 5)\n",
    "    Xtrafo <- transform_unitpareto(X)\n",
    "    \n",
    "    maxPCA_curr <- max_stable_prcomp(Xtrafo, p = 4, s = s)\n",
    "    \n",
    "   emp_error_curr = maxPCA_curr$loss_fctn_value\n",
    "   emp_error_curr \n",
    "}\n",
    "\n",
    "#stop cluster\n",
    "stopCluster(cl)"
   ]
  },
  {
   "cell_type": "code",
   "execution_count": 6,
   "id": "79dea5b6",
   "metadata": {},
   "outputs": [],
   "source": [
    "plot_dat <- data.frame(\n",
    "    emp_errors = c(emp_errors_highdep, emp_errors_meddep, emp_errors_lowdep), \n",
    "    beta = c(rep(\"0.2\", 100), rep(\"0.5\", 100), rep(\"0.8\", 100))\n",
    ")"
   ]
  },
  {
   "cell_type": "code",
   "execution_count": 10,
   "id": "2913670c",
   "metadata": {},
   "outputs": [
    {
     "data": {
      "text/html": [
       "<style>\n",
       ".list-inline {list-style: none; margin:0; padding: 0}\n",
       ".list-inline>li {display: inline-block}\n",
       ".list-inline>li:not(:last-child)::after {content: \"\\00b7\"; padding: 0 .5ex}\n",
       "</style>\n",
       "<ol class=list-inline><li>0.894199360163344</li><li>0.759814148855046</li><li>0.857295955746053</li><li>0.806002216366763</li><li>0.900417893524381</li><li>0.756807207275565</li><li>0.92223264956821</li><li>0.846158536178574</li><li>0.806105189210523</li><li>0.719891219597066</li><li>0.868021720894182</li><li>0.881654410991561</li><li>0.796388644140044</li><li>0.778244236705873</li><li>0.936963946192447</li><li>0.852131792157168</li><li>0.802248431905068</li><li>0.893876982184875</li><li>0.895783860783369</li><li>0.849822024108799</li><li>0.889694176426422</li><li>0.82395441498682</li><li>0.87247146774605</li><li>0.866477651495478</li><li>0.789047222879468</li><li>0.871960361964987</li><li>0.732197371606793</li><li>0.856951895221214</li><li>0.844017059343243</li><li>0.935277554684002</li><li>0.855562377562348</li><li>0.827025064253458</li><li>0.883191314308894</li><li>0.882484162754432</li><li>0.833408938008489</li><li>0.890843674419267</li><li>0.832511101992265</li><li>0.855169725813455</li><li>0.910488862872309</li><li>0.819194113256091</li><li>0.837221933632324</li><li>0.913011542385915</li><li>0.887263737728682</li><li>0.814705451163128</li><li>0.81402757870994</li><li>0.829287677602646</li><li>0.828753227529204</li><li>0.830445813958068</li><li>0.858650905498065</li><li>0.846335331645553</li><li>0.886961501173875</li><li>0.923513813565697</li><li>0.873146601032442</li><li>0.804366919213154</li><li>0.914058152508502</li><li>0.864352618653388</li><li>0.797145276706671</li><li>0.925875850144905</li><li>1.20675297080345</li><li>0.801060821654777</li><li>0.850009182505322</li><li>0.750506112042147</li><li>0.946477440622204</li><li>0.699110888399537</li><li>0.855359234884605</li><li>0.865404056432015</li><li>0.818387990254638</li><li>0.791443715990382</li><li>0.807756112763287</li><li>0.9048694402112</li><li>0.879364588704235</li><li>0.836943746517995</li><li>0.859084609358307</li><li>0.814226460178704</li><li>0.800656044993886</li><li>0.842910692310348</li><li>0.867643431791187</li><li>0.768845329693481</li><li>0.753095796578175</li><li>0.775413216398584</li><li>0.925177474065622</li><li>0.862892214679656</li><li>0.792763260404584</li><li>0.828712365615155</li><li>0.788357031285739</li><li>0.854465149920096</li><li>0.82786289557523</li><li>0.892441829119079</li><li>0.807244459184718</li><li>0.863571253788465</li><li>0.774571108964017</li><li>0.82581754637472</li><li>0.920523955886315</li><li>0.768140768103913</li><li>0.978577073326571</li><li>0.831053178834271</li><li>0.869889329046084</li><li>0.890722680960424</li><li>0.952869703636843</li><li>0.815200732838139</li></ol>\n"
      ],
      "text/latex": [
       "\\begin{enumerate*}\n",
       "\\item 0.894199360163344\n",
       "\\item 0.759814148855046\n",
       "\\item 0.857295955746053\n",
       "\\item 0.806002216366763\n",
       "\\item 0.900417893524381\n",
       "\\item 0.756807207275565\n",
       "\\item 0.92223264956821\n",
       "\\item 0.846158536178574\n",
       "\\item 0.806105189210523\n",
       "\\item 0.719891219597066\n",
       "\\item 0.868021720894182\n",
       "\\item 0.881654410991561\n",
       "\\item 0.796388644140044\n",
       "\\item 0.778244236705873\n",
       "\\item 0.936963946192447\n",
       "\\item 0.852131792157168\n",
       "\\item 0.802248431905068\n",
       "\\item 0.893876982184875\n",
       "\\item 0.895783860783369\n",
       "\\item 0.849822024108799\n",
       "\\item 0.889694176426422\n",
       "\\item 0.82395441498682\n",
       "\\item 0.87247146774605\n",
       "\\item 0.866477651495478\n",
       "\\item 0.789047222879468\n",
       "\\item 0.871960361964987\n",
       "\\item 0.732197371606793\n",
       "\\item 0.856951895221214\n",
       "\\item 0.844017059343243\n",
       "\\item 0.935277554684002\n",
       "\\item 0.855562377562348\n",
       "\\item 0.827025064253458\n",
       "\\item 0.883191314308894\n",
       "\\item 0.882484162754432\n",
       "\\item 0.833408938008489\n",
       "\\item 0.890843674419267\n",
       "\\item 0.832511101992265\n",
       "\\item 0.855169725813455\n",
       "\\item 0.910488862872309\n",
       "\\item 0.819194113256091\n",
       "\\item 0.837221933632324\n",
       "\\item 0.913011542385915\n",
       "\\item 0.887263737728682\n",
       "\\item 0.814705451163128\n",
       "\\item 0.81402757870994\n",
       "\\item 0.829287677602646\n",
       "\\item 0.828753227529204\n",
       "\\item 0.830445813958068\n",
       "\\item 0.858650905498065\n",
       "\\item 0.846335331645553\n",
       "\\item 0.886961501173875\n",
       "\\item 0.923513813565697\n",
       "\\item 0.873146601032442\n",
       "\\item 0.804366919213154\n",
       "\\item 0.914058152508502\n",
       "\\item 0.864352618653388\n",
       "\\item 0.797145276706671\n",
       "\\item 0.925875850144905\n",
       "\\item 1.20675297080345\n",
       "\\item 0.801060821654777\n",
       "\\item 0.850009182505322\n",
       "\\item 0.750506112042147\n",
       "\\item 0.946477440622204\n",
       "\\item 0.699110888399537\n",
       "\\item 0.855359234884605\n",
       "\\item 0.865404056432015\n",
       "\\item 0.818387990254638\n",
       "\\item 0.791443715990382\n",
       "\\item 0.807756112763287\n",
       "\\item 0.9048694402112\n",
       "\\item 0.879364588704235\n",
       "\\item 0.836943746517995\n",
       "\\item 0.859084609358307\n",
       "\\item 0.814226460178704\n",
       "\\item 0.800656044993886\n",
       "\\item 0.842910692310348\n",
       "\\item 0.867643431791187\n",
       "\\item 0.768845329693481\n",
       "\\item 0.753095796578175\n",
       "\\item 0.775413216398584\n",
       "\\item 0.925177474065622\n",
       "\\item 0.862892214679656\n",
       "\\item 0.792763260404584\n",
       "\\item 0.828712365615155\n",
       "\\item 0.788357031285739\n",
       "\\item 0.854465149920096\n",
       "\\item 0.82786289557523\n",
       "\\item 0.892441829119079\n",
       "\\item 0.807244459184718\n",
       "\\item 0.863571253788465\n",
       "\\item 0.774571108964017\n",
       "\\item 0.82581754637472\n",
       "\\item 0.920523955886315\n",
       "\\item 0.768140768103913\n",
       "\\item 0.978577073326571\n",
       "\\item 0.831053178834271\n",
       "\\item 0.869889329046084\n",
       "\\item 0.890722680960424\n",
       "\\item 0.952869703636843\n",
       "\\item 0.815200732838139\n",
       "\\end{enumerate*}\n"
      ],
      "text/markdown": [
       "1. 0.894199360163344\n",
       "2. 0.759814148855046\n",
       "3. 0.857295955746053\n",
       "4. 0.806002216366763\n",
       "5. 0.900417893524381\n",
       "6. 0.756807207275565\n",
       "7. 0.92223264956821\n",
       "8. 0.846158536178574\n",
       "9. 0.806105189210523\n",
       "10. 0.719891219597066\n",
       "11. 0.868021720894182\n",
       "12. 0.881654410991561\n",
       "13. 0.796388644140044\n",
       "14. 0.778244236705873\n",
       "15. 0.936963946192447\n",
       "16. 0.852131792157168\n",
       "17. 0.802248431905068\n",
       "18. 0.893876982184875\n",
       "19. 0.895783860783369\n",
       "20. 0.849822024108799\n",
       "21. 0.889694176426422\n",
       "22. 0.82395441498682\n",
       "23. 0.87247146774605\n",
       "24. 0.866477651495478\n",
       "25. 0.789047222879468\n",
       "26. 0.871960361964987\n",
       "27. 0.732197371606793\n",
       "28. 0.856951895221214\n",
       "29. 0.844017059343243\n",
       "30. 0.935277554684002\n",
       "31. 0.855562377562348\n",
       "32. 0.827025064253458\n",
       "33. 0.883191314308894\n",
       "34. 0.882484162754432\n",
       "35. 0.833408938008489\n",
       "36. 0.890843674419267\n",
       "37. 0.832511101992265\n",
       "38. 0.855169725813455\n",
       "39. 0.910488862872309\n",
       "40. 0.819194113256091\n",
       "41. 0.837221933632324\n",
       "42. 0.913011542385915\n",
       "43. 0.887263737728682\n",
       "44. 0.814705451163128\n",
       "45. 0.81402757870994\n",
       "46. 0.829287677602646\n",
       "47. 0.828753227529204\n",
       "48. 0.830445813958068\n",
       "49. 0.858650905498065\n",
       "50. 0.846335331645553\n",
       "51. 0.886961501173875\n",
       "52. 0.923513813565697\n",
       "53. 0.873146601032442\n",
       "54. 0.804366919213154\n",
       "55. 0.914058152508502\n",
       "56. 0.864352618653388\n",
       "57. 0.797145276706671\n",
       "58. 0.925875850144905\n",
       "59. 1.20675297080345\n",
       "60. 0.801060821654777\n",
       "61. 0.850009182505322\n",
       "62. 0.750506112042147\n",
       "63. 0.946477440622204\n",
       "64. 0.699110888399537\n",
       "65. 0.855359234884605\n",
       "66. 0.865404056432015\n",
       "67. 0.818387990254638\n",
       "68. 0.791443715990382\n",
       "69. 0.807756112763287\n",
       "70. 0.9048694402112\n",
       "71. 0.879364588704235\n",
       "72. 0.836943746517995\n",
       "73. 0.859084609358307\n",
       "74. 0.814226460178704\n",
       "75. 0.800656044993886\n",
       "76. 0.842910692310348\n",
       "77. 0.867643431791187\n",
       "78. 0.768845329693481\n",
       "79. 0.753095796578175\n",
       "80. 0.775413216398584\n",
       "81. 0.925177474065622\n",
       "82. 0.862892214679656\n",
       "83. 0.792763260404584\n",
       "84. 0.828712365615155\n",
       "85. 0.788357031285739\n",
       "86. 0.854465149920096\n",
       "87. 0.82786289557523\n",
       "88. 0.892441829119079\n",
       "89. 0.807244459184718\n",
       "90. 0.863571253788465\n",
       "91. 0.774571108964017\n",
       "92. 0.82581754637472\n",
       "93. 0.920523955886315\n",
       "94. 0.768140768103913\n",
       "95. 0.978577073326571\n",
       "96. 0.831053178834271\n",
       "97. 0.869889329046084\n",
       "98. 0.890722680960424\n",
       "99. 0.952869703636843\n",
       "100. 0.815200732838139\n",
       "\n",
       "\n"
      ],
      "text/plain": [
       "  [1] 0.8941994 0.7598141 0.8572960 0.8060022 0.9004179 0.7568072 0.9222326\n",
       "  [8] 0.8461585 0.8061052 0.7198912 0.8680217 0.8816544 0.7963886 0.7782442\n",
       " [15] 0.9369639 0.8521318 0.8022484 0.8938770 0.8957839 0.8498220 0.8896942\n",
       " [22] 0.8239544 0.8724715 0.8664777 0.7890472 0.8719604 0.7321974 0.8569519\n",
       " [29] 0.8440171 0.9352776 0.8555624 0.8270251 0.8831913 0.8824842 0.8334089\n",
       " [36] 0.8908437 0.8325111 0.8551697 0.9104889 0.8191941 0.8372219 0.9130115\n",
       " [43] 0.8872637 0.8147055 0.8140276 0.8292877 0.8287532 0.8304458 0.8586509\n",
       " [50] 0.8463353 0.8869615 0.9235138 0.8731466 0.8043669 0.9140582 0.8643526\n",
       " [57] 0.7971453 0.9258759 1.2067530 0.8010608 0.8500092 0.7505061 0.9464774\n",
       " [64] 0.6991109 0.8553592 0.8654041 0.8183880 0.7914437 0.8077561 0.9048694\n",
       " [71] 0.8793646 0.8369437 0.8590846 0.8142265 0.8006560 0.8429107 0.8676434\n",
       " [78] 0.7688453 0.7530958 0.7754132 0.9251775 0.8628922 0.7927633 0.8287124\n",
       " [85] 0.7883570 0.8544651 0.8278629 0.8924418 0.8072445 0.8635713 0.7745711\n",
       " [92] 0.8258175 0.9205240 0.7681408 0.9785771 0.8310532 0.8698893 0.8907227\n",
       " [99] 0.9528697 0.8152007"
      ]
     },
     "metadata": {},
     "output_type": "display_data"
    }
   ],
   "source": [
    "emp_errors_highdep"
   ]
  },
  {
   "cell_type": "code",
   "execution_count": 7,
   "id": "ea14f5b9",
   "metadata": {},
   "outputs": [
    {
     "data": {
      "image/png": "[encoded data removed]",
      "text/plain": [
       "plot without title"
      ]
     },
     "metadata": {
      "image/png": {
       "height": 420,
       "width": 420
      }
     },
     "output_type": "display_data"
    }
   ],
   "source": [
    "p1 <- ggplot(aes(x = beta, y = emp_errors), data = plot_dat) + \n",
    "geom_boxplot() + \n",
    "theme_minimal()\n",
    "\n",
    "p1"
   ]
  },
  {
   "cell_type": "code",
   "execution_count": 8,
   "id": "29faac58",
   "metadata": {},
   "outputs": [
    {
     "data": {
      "image/png": "[encoded data removed]",
      "text/plain": [
       "plot without title"
      ]
     },
     "metadata": {
      "image/png": {
       "height": 420,
       "width": 420
      }
     },
     "output_type": "display_data"
    }
   ],
   "source": [
    "p2 <- ggplot(aes(x = emp_errors, color = beta), data = plot_dat) + \n",
    "geom_density() + \n",
    "theme_minimal()\n",
    "\n",
    "p2"
   ]
  },
  {
   "cell_type": "code",
   "execution_count": 9,
   "id": "62f70f22",
   "metadata": {},
   "outputs": [
    {
     "name": "stderr",
     "output_type": "stream",
     "text": [
      "\u001b[1m\u001b[22mSaving 6.67 x 6.67 in image\n",
      "\u001b[1m\u001b[22mSaving 6.67 x 6.67 in image\n"
     ]
    }
   ],
   "source": [
    "ggsave(\"boxplots_logsim.png\", p1)\n",
    "ggsave(\"densplots_logsim.png\", p2)"
   ]
  }
 ],
 "metadata": {
  "kernelspec": {
   "display_name": "R",
   "language": "R",
   "name": "ir"
  },
  "language_info": {
   "codemirror_mode": "r",
   "file_extension": ".r",
   "mimetype": "text/x-r-source",
   "name": "R",
   "pygments_lexer": "r",
   "version": "4.3.0"
  }
 },
 "nbformat": 4,
 "nbformat_minor": 5
}
