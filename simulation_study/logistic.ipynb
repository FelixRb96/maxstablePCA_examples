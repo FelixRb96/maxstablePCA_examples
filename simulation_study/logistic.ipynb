{
 "cells": [
  {
   "cell_type": "markdown",
   "id": "314e32e1",
   "metadata": {},
   "source": [
    "# Logistic distribution simulation"
   ]
  },
  {
   "cell_type": "code",
   "execution_count": 1,
   "id": "0d9d33da",
   "metadata": {},
   "outputs": [
    {
     "name": "stderr",
     "output_type": "stream",
     "text": [
      "\n",
      "Attaching package: ‘dplyr’\n",
      "\n",
      "\n",
      "The following objects are masked from ‘package:stats’:\n",
      "\n",
      "    filter, lag\n",
      "\n",
      "\n",
      "The following objects are masked from ‘package:base’:\n",
      "\n",
      "    intersect, setdiff, setequal, union\n",
      "\n",
      "\n",
      "Registered S3 method overwritten by 'GGally':\n",
      "  method from   \n",
      "  +.gg   ggplot2\n",
      "\n"
     ]
    }
   ],
   "source": [
    "library(evd)\n",
    "library(maxstablePCA)\n",
    "library(ggplot2)\n",
    "library(dplyr)\n",
    "library(GGally)"
   ]
  },
  {
   "cell_type": "markdown",
   "id": "e8d4c9fd",
   "metadata": {},
   "source": [
    "### setup parameters and simulate data "
   ]
  },
  {
   "cell_type": "code",
   "execution_count": 2,
   "id": "63a98c69",
   "metadata": {},
   "outputs": [],
   "source": [
    "set.seed(1842024)\n",
    "s <- 250"
   ]
  },
  {
   "cell_type": "code",
   "execution_count": 3,
   "id": "e1af8744",
   "metadata": {},
   "outputs": [],
   "source": [
    "X1 <- rmvevd(10000, dep = .2, model = \"log\", d = 5)\n",
    "X2 <- rmvevd(10000, dep = .5, model = \"log\", d = 5)\n",
    "X3 <- rmvevd(10000, dep = .8, model = \"log\", d = 5)"
   ]
  },
  {
   "cell_type": "code",
   "execution_count": 4,
   "id": "c7c0f63d",
   "metadata": {},
   "outputs": [],
   "source": [
    "X1trafo <- transform_unitpareto(X1)\n",
    "X2trafo <- transform_unitpareto(X2)\n",
    "X3trafo <- transform_unitpareto(X3)"
   ]
  },
  {
   "cell_type": "markdown",
   "id": "ef962ee1",
   "metadata": {},
   "source": [
    "# max-stable PCA for X1"
   ]
  },
  {
   "cell_type": "code",
   "execution_count": 5,
   "id": "20d0f9a2",
   "metadata": {},
   "outputs": [
    {
     "data": {
      "text/plain": [
       "    Min.  1st Qu.   Median     Mean  3rd Qu.     Max. \n",
       "    5.00     6.84    10.10    48.94    19.97 50000.00 "
      ]
     },
     "metadata": {},
     "output_type": "display_data"
    }
   ],
   "source": [
    "summary(rowSums(X1trafo))"
   ]
  },
  {
   "cell_type": "code",
   "execution_count": 6,
   "id": "a4122820",
   "metadata": {},
   "outputs": [
    {
     "data": {
      "text/html": [
       "207"
      ],
      "text/latex": [
       "207"
      ],
      "text/markdown": [
       "207"
      ],
      "text/plain": [
       "[1] 207"
      ]
     },
     "metadata": {},
     "output_type": "display_data"
    }
   ],
   "source": [
    "length(which(rowSums(X1trafo) > s))"
   ]
  },
  {
   "cell_type": "code",
   "execution_count": 7,
   "id": "bd8c3ca2",
   "metadata": {},
   "outputs": [],
   "source": [
    "maxPCAX1P1 <- max_stable_prcomp(X1trafo, p = 1, s = s, n_initial_guesses = 15000)\n",
    "maxPCAX1P2 <- max_stable_prcomp(X1trafo, p = 2, s = s, n_initial_guesses = 15000)\n",
    "maxPCAX1P3 <- max_stable_prcomp(X1trafo, p = 3, s = s, n_initial_guesses = 15000)\n",
    "maxPCAX1P4 <- max_stable_prcomp(X1trafo, p = 4, s = s, n_initial_guesses = 15000)"
   ]
  },
  {
   "cell_type": "code",
   "execution_count": 8,
   "id": "262e519a",
   "metadata": {
    "scrolled": false
   },
   "outputs": [
    {
     "data": {
      "text/plain": [
       "$p\n",
       "[1] 3\n",
       "\n",
       "$d\n",
       "[1] 5\n",
       "\n",
       "$decoder_matrix\n",
       "          [,1]      [,2]      [,3]\n",
       "[1,] 0.2210190 0.2555115 1.0846493\n",
       "[2,] 1.2317541 0.1919345 0.2241872\n",
       "[3,] 0.2715682 1.0248831 0.2014875\n",
       "[4,] 0.8459549 0.8409622 0.7489377\n",
       "[5,] 0.8557159 0.8791416 0.6784372\n",
       "\n",
       "$encoder_matrix\n",
       "          [,1]      [,2]      [,3]      [,4]      [,5]\n",
       "[1,] 0.1380066 0.8118467 0.1546157 0.2023784 0.2676179\n",
       "[2,] 0.1258221 0.1903093 0.9757167 0.2566349 0.4108657\n",
       "[3,] 0.9219583 0.2201631 0.2347719 0.1040156 0.2126178\n",
       "\n",
       "$reconstr_matrix\n",
       "          [,1]      [,2]      [,3]      [,4]      [,5]\n",
       "[1,] 1.0000015 0.2387997 0.2546452 0.1128204 0.2306157\n",
       "[2,] 0.2066913 0.9999955 0.1904485 0.2492804 0.3296394\n",
       "[3,] 0.1857630 0.2204718 0.9999955 0.2630207 0.4210893\n",
       "[4,] 0.6904894 0.6867857 0.8205408 0.2158202 0.3455225\n",
       "[5,] 0.6254908 0.6947101 0.8577931 0.2256184 0.3612091\n",
       "\n",
       "$loss_fctn_value\n",
       "[1] 0.5612419\n",
       "\n",
       "$optim_conv_status\n",
       "[1] 4\n",
       "\n",
       "$s\n",
       "[1] 250\n",
       "\n",
       "$starting_vals\n",
       "$starting_vals$decoder_matrix_x0\n",
       "          [,1]      [,2]      [,3]\n",
       "[1,] 0.2210190 0.4759300 1.0000000\n",
       "[2,] 1.0000000 0.3449472 0.2703295\n",
       "[3,] 0.7685145 0.9905162 0.2014875\n",
       "[4,] 0.9945284 0.5055201 0.8069784\n",
       "[5,] 0.8794932 1.0000000 0.5615945\n",
       "\n",
       "$starting_vals$encoder_matrix_x0\n",
       "          [,1]      [,2]      [,3]      [,4]      [,5]\n",
       "[1,] 0.3559226 0.8052888 0.7463004 0.2023784 0.3557571\n",
       "[2,] 0.4186698 0.6864685 0.9988633 0.2566349 0.5263965\n",
       "[3,] 0.9915069 0.2201631 0.4835511 0.3483951 0.5887827\n",
       "\n",
       "\n",
       "attr(,\"class\")\n",
       "[1] \"max_stable_prcomp\""
      ]
     },
     "metadata": {},
     "output_type": "display_data"
    }
   ],
   "source": [
    "maxPCAX1P3"
   ]
  },
  {
   "cell_type": "code",
   "execution_count": 9,
   "id": "b1c36819",
   "metadata": {},
   "outputs": [],
   "source": [
    "estimate_dist <- function(maxpca, n, d, encoded_extr_data) {\n",
    "    result <- maxpca$loss_fctn_value \n",
    "    getxstar <- function(A, b) {\n",
    "        res <- rep(0, maxpca$p)\n",
    "        for(j in 1:(maxpca$p)){\n",
    "            res[j] <- min(b / A[,j])\n",
    "        } \n",
    "        return(res)\n",
    "    }\n",
    "                                    \n",
    "    # determine relevant indices that form basis \n",
    "    rowmax <- apply(maxpca$encoder_matrix, 1, max)\n",
    "    inds <- c()\n",
    "    for(i in 1:maxpca$p) {\n",
    "        inds <- c(inds, which(maxpca$encoder_matrix[i,] == rowmax[i])) \n",
    "    }\n",
    "                  \n",
    "    datinds <- 1:d\n",
    "    notactiveinds <- datinds[which(!(datinds %in% inds))]\n",
    "                  \n",
    "    residmat <- matrix(NA, d - maxpca$p, maxpca$p)\n",
    "    \n",
    "    ind <- 1\n",
    "    for(i in notactiveinds) {\n",
    "        tmpxstar <- getxstar(maxpca$decoder_matrix[inds, ], maxpca$decoder_matrix[i,])\n",
    "        tmpapprox <- maxmatmul(maxpca$decoder_matrix[inds,], tmpxstar)\n",
    "        residmat[ind,] <- maxpca$decoder_matrix[i,] - tmpapprox\n",
    "        ind <- ind + 1\n",
    "    }\n",
    "    if(maxpca$p == 2) return(result)\n",
    "    \n",
    "    end <- apply(encoded_extr_data, 1, function(z) z / sum(z))\n",
    "    return(result + maxpca$s / n * sum(maxmatmul(residmat, end)))\n",
    "}"
   ]
  },
  {
   "cell_type": "code",
   "execution_count": 10,
   "id": "383c6bae",
   "metadata": {},
   "outputs": [
    {
     "data": {
      "text/html": [
       "0.561241942178685"
      ],
      "text/latex": [
       "0.561241942178685"
      ],
      "text/markdown": [
       "0.561241942178685"
      ],
      "text/plain": [
       "[1] 0.5612419"
      ]
     },
     "metadata": {},
     "output_type": "display_data"
    }
   ],
   "source": [
    "estimate_dist(maxPCAX1P3, 10000, 5, t(maxmatmul(maxPCAX1P3$encoder_matrix, t(X1trafo)))[which(rowSums(X1trafo) > s), ])"
   ]
  },
  {
   "cell_type": "code",
   "execution_count": 11,
   "id": "53e1f645",
   "metadata": {},
   "outputs": [
    {
     "data": {
      "text/html": [
       "<table class=\"dataframe\">\n",
       "<caption>A matrix: 5 × 3 of type dbl</caption>\n",
       "<tbody>\n",
       "\t<tr><td>0.22</td><td>0.26</td><td>1.08</td></tr>\n",
       "\t<tr><td>1.23</td><td>0.19</td><td>0.22</td></tr>\n",
       "\t<tr><td>0.27</td><td>1.02</td><td>0.20</td></tr>\n",
       "\t<tr><td>0.85</td><td>0.84</td><td>0.75</td></tr>\n",
       "\t<tr><td>0.86</td><td>0.88</td><td>0.68</td></tr>\n",
       "</tbody>\n",
       "</table>\n"
      ],
      "text/latex": [
       "A matrix: 5 × 3 of type dbl\n",
       "\\begin{tabular}{lll}\n",
       "\t 0.22 & 0.26 & 1.08\\\\\n",
       "\t 1.23 & 0.19 & 0.22\\\\\n",
       "\t 0.27 & 1.02 & 0.20\\\\\n",
       "\t 0.85 & 0.84 & 0.75\\\\\n",
       "\t 0.86 & 0.88 & 0.68\\\\\n",
       "\\end{tabular}\n"
      ],
      "text/markdown": [
       "\n",
       "A matrix: 5 × 3 of type dbl\n",
       "\n",
       "| 0.22 | 0.26 | 1.08 |\n",
       "| 1.23 | 0.19 | 0.22 |\n",
       "| 0.27 | 1.02 | 0.20 |\n",
       "| 0.85 | 0.84 | 0.75 |\n",
       "| 0.86 | 0.88 | 0.68 |\n",
       "\n"
      ],
      "text/plain": [
       "     [,1] [,2] [,3]\n",
       "[1,] 0.22 0.26 1.08\n",
       "[2,] 1.23 0.19 0.22\n",
       "[3,] 0.27 1.02 0.20\n",
       "[4,] 0.85 0.84 0.75\n",
       "[5,] 0.86 0.88 0.68"
      ]
     },
     "metadata": {},
     "output_type": "display_data"
    }
   ],
   "source": [
    "round(maxPCAX1P3$decoder_matrix, 2)"
   ]
  },
  {
   "cell_type": "code",
   "execution_count": 12,
   "id": "d449f839",
   "metadata": {},
   "outputs": [
    {
     "data": {
      "text/html": [
       "<table class=\"dataframe\">\n",
       "<caption>A matrix: 3 × 5 of type dbl</caption>\n",
       "<tbody>\n",
       "\t<tr><td>0.14</td><td>0.81</td><td>0.15</td><td>0.20</td><td>0.27</td></tr>\n",
       "\t<tr><td>0.13</td><td>0.19</td><td>0.98</td><td>0.26</td><td>0.41</td></tr>\n",
       "\t<tr><td>0.92</td><td>0.22</td><td>0.23</td><td>0.10</td><td>0.21</td></tr>\n",
       "</tbody>\n",
       "</table>\n"
      ],
      "text/latex": [
       "A matrix: 3 × 5 of type dbl\n",
       "\\begin{tabular}{lllll}\n",
       "\t 0.14 & 0.81 & 0.15 & 0.20 & 0.27\\\\\n",
       "\t 0.13 & 0.19 & 0.98 & 0.26 & 0.41\\\\\n",
       "\t 0.92 & 0.22 & 0.23 & 0.10 & 0.21\\\\\n",
       "\\end{tabular}\n"
      ],
      "text/markdown": [
       "\n",
       "A matrix: 3 × 5 of type dbl\n",
       "\n",
       "| 0.14 | 0.81 | 0.15 | 0.20 | 0.27 |\n",
       "| 0.13 | 0.19 | 0.98 | 0.26 | 0.41 |\n",
       "| 0.92 | 0.22 | 0.23 | 0.10 | 0.21 |\n",
       "\n"
      ],
      "text/plain": [
       "     [,1] [,2] [,3] [,4] [,5]\n",
       "[1,] 0.14 0.81 0.15 0.20 0.27\n",
       "[2,] 0.13 0.19 0.98 0.26 0.41\n",
       "[3,] 0.92 0.22 0.23 0.10 0.21"
      ]
     },
     "metadata": {},
     "output_type": "display_data"
    }
   ],
   "source": [
    "round(maxPCAX1P3$encoder_matrix, 2)"
   ]
  },
  {
   "cell_type": "code",
   "execution_count": 13,
   "id": "0a559fa0",
   "metadata": {},
   "outputs": [
    {
     "ename": "ERROR",
     "evalue": "Error in round(maxPCAX1P3$reconst_matrix, 2): non-numeric argument to mathematical function\n",
     "output_type": "error",
     "traceback": [
      "Error in round(maxPCAX1P3$reconst_matrix, 2): non-numeric argument to mathematical function\nTraceback:\n"
     ]
    }
   ],
   "source": [
    "round(maxPCAX1P3$reconst_matrix, 2)"
   ]
  },
  {
   "cell_type": "code",
   "execution_count": null,
   "id": "15cb0f64",
   "metadata": {},
   "outputs": [],
   "source": [
    "maxPCAX1P1$loss_fctn_value"
   ]
  },
  {
   "cell_type": "markdown",
   "id": "1778604b",
   "metadata": {},
   "source": [
    "### elbow plot and pairplot to visually inspect fit"
   ]
  },
  {
   "cell_type": "code",
   "execution_count": null,
   "id": "e26e4a0b",
   "metadata": {},
   "outputs": [],
   "source": [
    "plotlossdatX1 <- data.frame(\n",
    "    p = 1:4, \n",
    "    loss = c(\n",
    "        maxPCAX1P1$loss_fctn_value, \n",
    "        maxPCAX1P2$loss_fctn_value, \n",
    "        maxPCAX1P3$loss_fctn_value, \n",
    "        maxPCAX1P4$loss_fctn_value\n",
    "\n",
    "    )\n",
    ")\n",
    "\n",
    "pe1 <- ggplot(aes(x = p, y = loss), data = plotlossdatX1) + geom_line() + geom_point() + ylim(0,4) + theme_minimal()\n",
    "pe1"
   ]
  },
  {
   "cell_type": "code",
   "execution_count": null,
   "id": "54cef894",
   "metadata": {},
   "outputs": [],
   "source": [
    "ggsave(\"logistic_dephigh_elbow.pdf\", pe1)"
   ]
  },
  {
   "cell_type": "code",
   "execution_count": null,
   "id": "cc6f55df",
   "metadata": {},
   "outputs": [],
   "source": [
    "rec1 <- t(maxmatmul(maxPCAX1P3$reconstr_matrix, t(exp(X1))))"
   ]
  },
  {
   "cell_type": "code",
   "execution_count": null,
   "id": "87c7877b",
   "metadata": {},
   "outputs": [],
   "source": [
    "datX1 <- data.frame(exp(X1))\n",
    "datX1$is_rec = \"original\"\n",
    "datrec1 <- data.frame(rec1)\n",
    "datrec1$is_rec = \"reconstruction\"\n",
    "names(datrec1) <- names(datX1)\n",
    "plot_datX1 <- full_join(datX1, datrec1)"
   ]
  },
  {
   "cell_type": "code",
   "execution_count": null,
   "id": "c1d6cf49",
   "metadata": {},
   "outputs": [],
   "source": [
    "p1 <- ggpairs(\n",
    "    plot_datX1, \n",
    "    aes(color = is_rec), \n",
    "    columns = 1:5,\n",
    "    upper = list(continuous = \"points\", combo = \"dot_no_facet\"),\n",
    "    diag = list(continuous = \"blankDiag\", discrete = \"barDiag\", na = \"naDiag\")\n",
    ") + \n",
    "theme_light() +\n",
    "theme(axis.text.x = element_text(angle = 45, vjust = 1, hjust=1))\n",
    "\n",
    "p1"
   ]
  },
  {
   "cell_type": "code",
   "execution_count": null,
   "id": "ec8eb885",
   "metadata": {},
   "outputs": [],
   "source": [
    "ggsave(\"logistic_dephigh.png\", p1)"
   ]
  },
  {
   "cell_type": "markdown",
   "id": "3c35dfc9",
   "metadata": {},
   "source": [
    "# Max-stable PCA for X2"
   ]
  },
  {
   "cell_type": "code",
   "execution_count": null,
   "id": "17c810e0",
   "metadata": {},
   "outputs": [],
   "source": [
    "length(which(rowSums(X2trafo) > s))"
   ]
  },
  {
   "cell_type": "code",
   "execution_count": null,
   "id": "e4284966",
   "metadata": {},
   "outputs": [],
   "source": [
    "maxPCAX2P1 <- max_stable_prcomp(X2trafo, p = 1, s = s, n_initial_guesses = 15000)\n",
    "maxPCAX2P2 <- max_stable_prcomp(X2trafo, p = 2, s = s, n_initial_guesses = 15000)\n",
    "maxPCAX2P3 <- max_stable_prcomp(X2trafo, p = 3, s = s, n_initial_guesses = 15000)\n",
    "maxPCAX2P4 <- max_stable_prcomp(X2trafo, p = 4, s = s, n_initial_guesses = 15000)"
   ]
  },
  {
   "cell_type": "code",
   "execution_count": null,
   "id": "b67cb1f0",
   "metadata": {},
   "outputs": [],
   "source": [
    "maxPCAX2P3"
   ]
  },
  {
   "cell_type": "code",
   "execution_count": null,
   "id": "df1bef96",
   "metadata": {},
   "outputs": [],
   "source": [
    "estimate_dist(maxPCAX2P3, 10000, 5, t(maxmatmul(maxPCAX2P3$encoder_matrix, t(X2trafo)))[which(rowSums(X2trafo) > s), ])"
   ]
  },
  {
   "cell_type": "code",
   "execution_count": null,
   "id": "a01c39f5",
   "metadata": {},
   "outputs": [],
   "source": [
    "round(maxPCAX2P3$decoder_matrix, 2)"
   ]
  },
  {
   "cell_type": "code",
   "execution_count": null,
   "id": "b716fbfe",
   "metadata": {},
   "outputs": [],
   "source": [
    "round(maxPCAX2P3$encoder_matrix, 2)"
   ]
  },
  {
   "cell_type": "code",
   "execution_count": null,
   "id": "aa4c901f",
   "metadata": {},
   "outputs": [],
   "source": [
    "round(maxPCAX2P3$reconstr_matrix, 2)"
   ]
  },
  {
   "cell_type": "markdown",
   "id": "9bd78482",
   "metadata": {},
   "source": [
    "### elbow plot and pairplot to visually inspect fit"
   ]
  },
  {
   "cell_type": "code",
   "execution_count": null,
   "id": "62f980bb",
   "metadata": {},
   "outputs": [],
   "source": [
    "plotlossdatX2 <- data.frame(\n",
    "    p = 1:4, \n",
    "    loss = c(\n",
    "        maxPCAX2P1$loss_fctn_value,\n",
    "        maxPCAX2P2$loss_fctn_value,\n",
    "        maxPCAX2P3$loss_fctn_value,\n",
    "        maxPCAX2P4$loss_fctn_value\n",
    "\n",
    "    )\n",
    ")\n",
    "\n",
    "pe2 <- ggplot(aes(x = p, y = loss),  data = plotlossdatX2) + geom_line() + geom_point() + ylim(0,4) + theme_minimal()\n",
    "pe2"
   ]
  },
  {
   "cell_type": "code",
   "execution_count": null,
   "id": "2342589d",
   "metadata": {},
   "outputs": [],
   "source": [
    "ggsave(\"logistic_depmed_elbow.pdf\", pe2)"
   ]
  },
  {
   "cell_type": "code",
   "execution_count": null,
   "id": "d24497c9",
   "metadata": {},
   "outputs": [],
   "source": [
    "rec2 <- t(maxmatmul(maxPCAX2P3$reconstr_matrix, t(exp(X2))))"
   ]
  },
  {
   "cell_type": "code",
   "execution_count": null,
   "id": "cb4d968d",
   "metadata": {},
   "outputs": [],
   "source": [
    "datX2 <- data.frame(exp(X2))\n",
    "datX2$is_rec = \"original\"\n",
    "datrec2 <- data.frame(rec2)\n",
    "datrec2$is_rec = \"reconstruction\"\n",
    "names(datrec2) <- names(datX2)\n",
    "plot_datX2 <- full_join(datX2, datrec2)"
   ]
  },
  {
   "cell_type": "code",
   "execution_count": null,
   "id": "86362505",
   "metadata": {},
   "outputs": [],
   "source": [
    "p2 <- ggpairs(\n",
    "    plot_datX2, \n",
    "    aes(color = is_rec), \n",
    "    columns = c(1,3,4,2,5),\n",
    "    upper = list(continuous = \"points\", combo = \"dot_no_facet\"),\n",
    "    diag = list(continuous = \"blankDiag\", discrete = \"barDiag\", na = \"naDiag\")\n",
    ") + \n",
    "theme_light() +\n",
    "theme(axis.text.x = element_text(angle = 45, vjust = 1, hjust=1))\n",
    "\n",
    "p2"
   ]
  },
  {
   "cell_type": "code",
   "execution_count": null,
   "id": "92cba1c2",
   "metadata": {},
   "outputs": [],
   "source": [
    "ggsave(\"logistic_depmed.png\", p2)"
   ]
  },
  {
   "cell_type": "markdown",
   "id": "46d5fd22",
   "metadata": {},
   "source": [
    "# Same for X3"
   ]
  },
  {
   "cell_type": "code",
   "execution_count": null,
   "id": "256d6a56",
   "metadata": {},
   "outputs": [],
   "source": [
    "length(which(rowSums(X3trafo) > s))"
   ]
  },
  {
   "cell_type": "code",
   "execution_count": null,
   "id": "899bc111",
   "metadata": {
    "scrolled": true
   },
   "outputs": [],
   "source": [
    "maxPCAX3P1 <- max_stable_prcomp(X3trafo, p = 1, s = s, n_initial_guesses = 15000)\n",
    "maxPCAX3P2 <- max_stable_prcomp(X3trafo, p = 2, s = s, n_initial_guesses = 15000)\n",
    "maxPCAX3P3 <- max_stable_prcomp(X3trafo, p = 3, s = s, n_initial_guesses = 15000)\n",
    "maxPCAX3P4 <- max_stable_prcomp(X3trafo, p = 4, s = s, n_initial_guesses = 15000)"
   ]
  },
  {
   "cell_type": "code",
   "execution_count": null,
   "id": "aef4bedc",
   "metadata": {},
   "outputs": [],
   "source": [
    "maxPCAX3P3"
   ]
  },
  {
   "cell_type": "code",
   "execution_count": null,
   "id": "d16e0cd3",
   "metadata": {},
   "outputs": [],
   "source": [
    "estimate_dist(maxPCAX3P3, 10000, 5, t(maxmatmul(maxPCAX3P3$encoder_matrix, t(X3trafo)))[which(rowSums(X3trafo) > s), ])"
   ]
  },
  {
   "cell_type": "code",
   "execution_count": null,
   "id": "59770b52",
   "metadata": {},
   "outputs": [],
   "source": [
    "round(maxPCAX3P3$decoder_matrix, 2)"
   ]
  },
  {
   "cell_type": "code",
   "execution_count": null,
   "id": "910bed0a",
   "metadata": {},
   "outputs": [],
   "source": [
    "round(maxPCAX3P3$encoder_matrix, 2)"
   ]
  },
  {
   "cell_type": "markdown",
   "id": "0593129f",
   "metadata": {},
   "source": [
    "### elbow plot and pairplot to visually inspect fit"
   ]
  },
  {
   "cell_type": "code",
   "execution_count": null,
   "id": "531a821d",
   "metadata": {},
   "outputs": [],
   "source": [
    "plotlossdatX3 <- data.frame(\n",
    "    p = 1:4, \n",
    "    loss = c(\n",
    "        maxPCAX3P1$loss_fctn_value,\n",
    "        maxPCAX3P2$loss_fctn_value,\n",
    "        maxPCAX3P3$loss_fctn_value,\n",
    "        maxPCAX3P4$loss_fctn_value\n",
    "\n",
    "    )\n",
    ")\n",
    "\n",
    "pe3 <- ggplot(aes(x = p, y = loss),  data = plotlossdatX3) + geom_line() + geom_point() + ylim(0,4) + theme_minimal()\n",
    "pe3"
   ]
  },
  {
   "cell_type": "code",
   "execution_count": null,
   "id": "4aa665e3",
   "metadata": {},
   "outputs": [],
   "source": [
    "ggsave(\"logistic_deplow_elbow.pdf\", pe3)"
   ]
  },
  {
   "cell_type": "code",
   "execution_count": null,
   "id": "7678458b",
   "metadata": {},
   "outputs": [],
   "source": [
    "rec3 <- t(maxmatmul(maxPCAX3P3$reconstr_matrix, t(exp(X3))))"
   ]
  },
  {
   "cell_type": "code",
   "execution_count": null,
   "id": "be942392",
   "metadata": {},
   "outputs": [],
   "source": [
    "datX3 <- data.frame(exp(X3))\n",
    "datX3$is_rec = \"original\"\n",
    "datrec3 <- data.frame(rec3)\n",
    "datrec3$is_rec = \"reconstruction\"\n",
    "names(datrec3) <- names(datX3)\n",
    "plot_datX3 <- full_join(datX3, datrec3)"
   ]
  },
  {
   "cell_type": "code",
   "execution_count": null,
   "id": "e465a579",
   "metadata": {},
   "outputs": [],
   "source": [
    "p3 <- ggpairs(\n",
    "    plot_datX3, \n",
    "    aes(color = is_rec), \n",
    "    columns = c(2,3,5,1,4),\n",
    "    upper = list(continuous = \"points\", combo = \"dot_no_facet\"),\n",
    "    diag = list(continuous = \"blankDiag\", discrete = \"barDiag\", na = \"naDiag\")\n",
    ") + \n",
    "theme_light() +\n",
    "theme(axis.text.x = element_text(angle = 45, vjust = 1, hjust=1))\n",
    "\n",
    "p3"
   ]
  },
  {
   "cell_type": "code",
   "execution_count": null,
   "id": "42185b47",
   "metadata": {},
   "outputs": [],
   "source": [
    "ggsave(\"logistic_deplow.png\", p3)"
   ]
  }
 ],
 "metadata": {
  "kernelspec": {
   "display_name": "R",
   "language": "R",
   "name": "ir"
  },
  "language_info": {
   "codemirror_mode": "r",
   "file_extension": ".r",
   "mimetype": "text/x-r-source",
   "name": "R",
   "pygments_lexer": "r",
   "version": "4.4.1"
  }
 },
 "nbformat": 4,
 "nbformat_minor": 5
}
