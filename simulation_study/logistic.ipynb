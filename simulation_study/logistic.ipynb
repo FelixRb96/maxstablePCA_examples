{
 "cells": [
  {
   "cell_type": "markdown",
   "id": "314e32e1",
   "metadata": {},
   "source": [
    "# Logistic distribution simulation"
   ]
  },
  {
   "cell_type": "code",
   "execution_count": 1,
   "id": "0d9d33da",
   "metadata": {},
   "outputs": [
    {
     "name": "stderr",
     "output_type": "stream",
     "text": [
      "\n",
      "Attaching package: ‘dplyr’\n",
      "\n",
      "\n",
      "The following objects are masked from ‘package:stats’:\n",
      "\n",
      "    filter, lag\n",
      "\n",
      "\n",
      "The following objects are masked from ‘package:base’:\n",
      "\n",
      "    intersect, setdiff, setequal, union\n",
      "\n",
      "\n",
      "Registered S3 method overwritten by 'GGally':\n",
      "  method from   \n",
      "  +.gg   ggplot2\n",
      "\n"
     ]
    }
   ],
   "source": [
    "library(evd)\n",
    "library(maxstablePCA)\n",
    "library(ggplot2)\n",
    "library(dplyr)\n",
    "library(GGally)"
   ]
  },
  {
   "cell_type": "markdown",
   "id": "e8d4c9fd",
   "metadata": {},
   "source": [
    "### setup parameters and simulate data "
   ]
  },
  {
   "cell_type": "code",
   "execution_count": 2,
   "id": "63a98c69",
   "metadata": {},
   "outputs": [],
   "source": [
    "set.seed(180424)\n",
    "s <- 100"
   ]
  },
  {
   "cell_type": "code",
   "execution_count": 3,
   "id": "e1af8744",
   "metadata": {},
   "outputs": [],
   "source": [
    "X1 <- rmvevd(10000, dep = .2, model = \"log\", d = 5)\n",
    "X2 <- rmvevd(10000, dep = .5, model = \"log\", d = 5)\n",
    "X3 <- rmvevd(10000, dep = .8, model = \"log\", d = 5)"
   ]
  },
  {
   "cell_type": "code",
   "execution_count": 4,
   "id": "c7c0f63d",
   "metadata": {},
   "outputs": [],
   "source": [
    "X1trafo <- transform_unitpareto(X1)\n",
    "X2trafo <- transform_unitpareto(X2)\n",
    "X3trafo <- transform_unitpareto(X3)"
   ]
  },
  {
   "cell_type": "markdown",
   "id": "ef962ee1",
   "metadata": {},
   "source": [
    "# max-stable PCA for X1"
   ]
  },
  {
   "cell_type": "code",
   "execution_count": 5,
   "id": "20d0f9a2",
   "metadata": {},
   "outputs": [
    {
     "data": {
      "text/plain": [
       "     Min.   1st Qu.    Median      Mean   3rd Qu.      Max. \n",
       "    1.004     1.577     2.545    13.033     5.274 10000.000 "
      ]
     },
     "metadata": {},
     "output_type": "display_data"
    }
   ],
   "source": [
    "summary(apply(X1trafo, 1, max))"
   ]
  },
  {
   "cell_type": "code",
   "execution_count": 6,
   "id": "a4122820",
   "metadata": {},
   "outputs": [
    {
     "data": {
      "text/html": [
       "138"
      ],
      "text/latex": [
       "138"
      ],
      "text/markdown": [
       "138"
      ],
      "text/plain": [
       "[1] 138"
      ]
     },
     "metadata": {},
     "output_type": "display_data"
    }
   ],
   "source": [
    "length(which(apply(X1trafo, 1, max) > s))"
   ]
  },
  {
   "cell_type": "code",
   "execution_count": 7,
   "id": "bd8c3ca2",
   "metadata": {},
   "outputs": [],
   "source": [
    "maxPCAX1P1 <- max_stable_prcomp(X1trafo, p = 1, s = s, n_initial_guesses = 15000, norm = \"linfty\")\n",
    "maxPCAX1P2 <- max_stable_prcomp(X1trafo, p = 2, s = s, n_initial_guesses = 15000, norm = \"linfty\")\n",
    "maxPCAX1P3 <- max_stable_prcomp(X1trafo, p = 3, s = s, n_initial_guesses = 15000, norm = \"linfty\")\n",
    "maxPCAX1P4 <- max_stable_prcomp(X1trafo, p = 4, s = s, n_initial_guesses = 15000, norm = \"linfty\")"
   ]
  },
  {
   "cell_type": "code",
   "execution_count": 8,
   "id": "262e519a",
   "metadata": {
    "scrolled": false
   },
   "outputs": [
    {
     "data": {
      "text/plain": [
       "$p\n",
       "[1] 3\n",
       "\n",
       "$d\n",
       "[1] 5\n",
       "\n",
       "$decoder_matrix\n",
       "          [,1]      [,2]      [,3]\n",
       "[1,] 1.2259495 0.3386254 0.2152784\n",
       "[2,] 0.1905930 0.1778669 1.0835299\n",
       "[3,] 0.3598006 1.0707083 0.7151039\n",
       "[4,] 0.9158107 0.8390863 0.8772472\n",
       "[5,] 0.1945241 1.1827976 0.3494505\n",
       "\n",
       "$encoder_matrix\n",
       "          [,1]      [,2]      [,3]      [,4]      [,5]\n",
       "[1,] 0.8156917 0.1346598 0.1796936 0.2370620 0.1445028\n",
       "[2,] 0.1322362 0.2167687 0.4218422 0.1118411 0.8454534\n",
       "[3,] 0.1140770 0.9229008 0.1240546 0.2153098 0.1799514\n",
       "\n",
       "$reconstr_matrix\n",
       "          [,1]      [,2]      [,3]      [,4]      [,5]\n",
       "[1,] 0.9999968 0.1986806 0.2202952 0.2906261 0.2862920\n",
       "[2,] 0.1554651 0.9999906 0.1344169 0.2332946 0.1949827\n",
       "[3,] 0.2934863 0.6599700 0.4516700 0.1539689 0.9052340\n",
       "[4,] 0.7470192 0.8096121 0.3539621 0.2171039 0.7094084\n",
       "[5,] 0.1586717 0.3225082 0.4989540 0.1322854 1.0000003\n",
       "\n",
       "$loss_fctn_value\n",
       "[1] 0.5676394\n",
       "\n",
       "$optim_conv_status\n",
       "[1] 4\n",
       "\n",
       "$s\n",
       "[1] 100\n",
       "\n",
       "$starting_vals\n",
       "$starting_vals$decoder_matrix_x0\n",
       "          [,1]      [,2]      [,3]\n",
       "[1,] 1.0000000 0.3386254 0.2152784\n",
       "[2,] 0.7774409 0.1778669 1.0000000\n",
       "[3,] 0.6990423 0.8244731 0.5939728\n",
       "[4,] 0.9037362 0.6882712 0.6850056\n",
       "[5,] 0.1945241 1.0000000 0.8594333\n",
       "\n",
       "$starting_vals$encoder_matrix_x0\n",
       "          [,1]      [,2]      [,3]      [,4]      [,5]\n",
       "[1,] 0.8857351 0.1346598 0.5991605 0.7713015 0.1445028\n",
       "[2,] 0.1322362 0.2167687 0.7213662 0.1775941 0.9149308\n",
       "[3,] 0.5006605 0.9928229 0.6111841 0.3646026 0.6209403\n",
       "\n",
       "\n",
       "attr(,\"class\")\n",
       "[1] \"max_stable_prcomp\""
      ]
     },
     "metadata": {},
     "output_type": "display_data"
    }
   ],
   "source": [
    "maxPCAX1P3"
   ]
  },
  {
   "cell_type": "code",
   "execution_count": 9,
   "id": "53e1f645",
   "metadata": {},
   "outputs": [
    {
     "data": {
      "text/html": [
       "<table class=\"dataframe\">\n",
       "<caption>A matrix: 5 × 3 of type dbl</caption>\n",
       "<tbody>\n",
       "\t<tr><td>1.23</td><td>0.34</td><td>0.22</td></tr>\n",
       "\t<tr><td>0.19</td><td>0.18</td><td>1.08</td></tr>\n",
       "\t<tr><td>0.36</td><td>1.07</td><td>0.72</td></tr>\n",
       "\t<tr><td>0.92</td><td>0.84</td><td>0.88</td></tr>\n",
       "\t<tr><td>0.19</td><td>1.18</td><td>0.35</td></tr>\n",
       "</tbody>\n",
       "</table>\n"
      ],
      "text/latex": [
       "A matrix: 5 × 3 of type dbl\n",
       "\\begin{tabular}{lll}\n",
       "\t 1.23 & 0.34 & 0.22\\\\\n",
       "\t 0.19 & 0.18 & 1.08\\\\\n",
       "\t 0.36 & 1.07 & 0.72\\\\\n",
       "\t 0.92 & 0.84 & 0.88\\\\\n",
       "\t 0.19 & 1.18 & 0.35\\\\\n",
       "\\end{tabular}\n"
      ],
      "text/markdown": [
       "\n",
       "A matrix: 5 × 3 of type dbl\n",
       "\n",
       "| 1.23 | 0.34 | 0.22 |\n",
       "| 0.19 | 0.18 | 1.08 |\n",
       "| 0.36 | 1.07 | 0.72 |\n",
       "| 0.92 | 0.84 | 0.88 |\n",
       "| 0.19 | 1.18 | 0.35 |\n",
       "\n"
      ],
      "text/plain": [
       "     [,1] [,2] [,3]\n",
       "[1,] 1.23 0.34 0.22\n",
       "[2,] 0.19 0.18 1.08\n",
       "[3,] 0.36 1.07 0.72\n",
       "[4,] 0.92 0.84 0.88\n",
       "[5,] 0.19 1.18 0.35"
      ]
     },
     "metadata": {},
     "output_type": "display_data"
    }
   ],
   "source": [
    "round(maxPCAX1P3$decoder_matrix, 2)"
   ]
  },
  {
   "cell_type": "code",
   "execution_count": 10,
   "id": "d449f839",
   "metadata": {},
   "outputs": [
    {
     "data": {
      "text/html": [
       "<table class=\"dataframe\">\n",
       "<caption>A matrix: 3 × 5 of type dbl</caption>\n",
       "<tbody>\n",
       "\t<tr><td>0.82</td><td>0.13</td><td>0.18</td><td>0.24</td><td>0.14</td></tr>\n",
       "\t<tr><td>0.13</td><td>0.22</td><td>0.42</td><td>0.11</td><td>0.85</td></tr>\n",
       "\t<tr><td>0.11</td><td>0.92</td><td>0.12</td><td>0.22</td><td>0.18</td></tr>\n",
       "</tbody>\n",
       "</table>\n"
      ],
      "text/latex": [
       "A matrix: 3 × 5 of type dbl\n",
       "\\begin{tabular}{lllll}\n",
       "\t 0.82 & 0.13 & 0.18 & 0.24 & 0.14\\\\\n",
       "\t 0.13 & 0.22 & 0.42 & 0.11 & 0.85\\\\\n",
       "\t 0.11 & 0.92 & 0.12 & 0.22 & 0.18\\\\\n",
       "\\end{tabular}\n"
      ],
      "text/markdown": [
       "\n",
       "A matrix: 3 × 5 of type dbl\n",
       "\n",
       "| 0.82 | 0.13 | 0.18 | 0.24 | 0.14 |\n",
       "| 0.13 | 0.22 | 0.42 | 0.11 | 0.85 |\n",
       "| 0.11 | 0.92 | 0.12 | 0.22 | 0.18 |\n",
       "\n"
      ],
      "text/plain": [
       "     [,1] [,2] [,3] [,4] [,5]\n",
       "[1,] 0.82 0.13 0.18 0.24 0.14\n",
       "[2,] 0.13 0.22 0.42 0.11 0.85\n",
       "[3,] 0.11 0.92 0.12 0.22 0.18"
      ]
     },
     "metadata": {},
     "output_type": "display_data"
    }
   ],
   "source": [
    "round(maxPCAX1P3$encoder_matrix, 2)"
   ]
  },
  {
   "cell_type": "code",
   "execution_count": 11,
   "id": "0a559fa0",
   "metadata": {},
   "outputs": [
    {
     "data": {
      "text/html": [
       "<table class=\"dataframe\">\n",
       "<caption>A matrix: 5 × 5 of type dbl</caption>\n",
       "<tbody>\n",
       "\t<tr><td>1.00</td><td>0.20</td><td>0.22</td><td>0.29</td><td>0.29</td></tr>\n",
       "\t<tr><td>0.16</td><td>1.00</td><td>0.13</td><td>0.23</td><td>0.19</td></tr>\n",
       "\t<tr><td>0.29</td><td>0.66</td><td>0.45</td><td>0.15</td><td>0.91</td></tr>\n",
       "\t<tr><td>0.75</td><td>0.81</td><td>0.35</td><td>0.22</td><td>0.71</td></tr>\n",
       "\t<tr><td>0.16</td><td>0.32</td><td>0.50</td><td>0.13</td><td>1.00</td></tr>\n",
       "</tbody>\n",
       "</table>\n"
      ],
      "text/latex": [
       "A matrix: 5 × 5 of type dbl\n",
       "\\begin{tabular}{lllll}\n",
       "\t 1.00 & 0.20 & 0.22 & 0.29 & 0.29\\\\\n",
       "\t 0.16 & 1.00 & 0.13 & 0.23 & 0.19\\\\\n",
       "\t 0.29 & 0.66 & 0.45 & 0.15 & 0.91\\\\\n",
       "\t 0.75 & 0.81 & 0.35 & 0.22 & 0.71\\\\\n",
       "\t 0.16 & 0.32 & 0.50 & 0.13 & 1.00\\\\\n",
       "\\end{tabular}\n"
      ],
      "text/markdown": [
       "\n",
       "A matrix: 5 × 5 of type dbl\n",
       "\n",
       "| 1.00 | 0.20 | 0.22 | 0.29 | 0.29 |\n",
       "| 0.16 | 1.00 | 0.13 | 0.23 | 0.19 |\n",
       "| 0.29 | 0.66 | 0.45 | 0.15 | 0.91 |\n",
       "| 0.75 | 0.81 | 0.35 | 0.22 | 0.71 |\n",
       "| 0.16 | 0.32 | 0.50 | 0.13 | 1.00 |\n",
       "\n"
      ],
      "text/plain": [
       "     [,1] [,2] [,3] [,4] [,5]\n",
       "[1,] 1.00 0.20 0.22 0.29 0.29\n",
       "[2,] 0.16 1.00 0.13 0.23 0.19\n",
       "[3,] 0.29 0.66 0.45 0.15 0.91\n",
       "[4,] 0.75 0.81 0.35 0.22 0.71\n",
       "[5,] 0.16 0.32 0.50 0.13 1.00"
      ]
     },
     "metadata": {},
     "output_type": "display_data"
    }
   ],
   "source": [
    "round(maxPCAX1P3$reconstr_matrix, 2)"
   ]
  },
  {
   "cell_type": "markdown",
   "id": "057a3969",
   "metadata": {},
   "source": [
    "#### rescale the matrices such that the largest rowwise entries of $\\hat W$ are equal to one"
   ]
  },
  {
   "cell_type": "code",
   "execution_count": 12,
   "id": "b0aaa5f2",
   "metadata": {},
   "outputs": [
    {
     "data": {
      "text/html": [
       "<table class=\"dataframe\">\n",
       "<caption>A matrix: 5 × 3 of type dbl</caption>\n",
       "<tbody>\n",
       "\t<tr><td>1.00</td><td>0.29</td><td>0.20</td></tr>\n",
       "\t<tr><td>0.16</td><td>0.15</td><td>1.00</td></tr>\n",
       "\t<tr><td>0.29</td><td>0.91</td><td>0.66</td></tr>\n",
       "\t<tr><td>0.75</td><td>0.71</td><td>0.81</td></tr>\n",
       "\t<tr><td>0.16</td><td>1.00</td><td>0.32</td></tr>\n",
       "</tbody>\n",
       "</table>\n"
      ],
      "text/latex": [
       "A matrix: 5 × 3 of type dbl\n",
       "\\begin{tabular}{lll}\n",
       "\t 1.00 & 0.29 & 0.20\\\\\n",
       "\t 0.16 & 0.15 & 1.00\\\\\n",
       "\t 0.29 & 0.91 & 0.66\\\\\n",
       "\t 0.75 & 0.71 & 0.81\\\\\n",
       "\t 0.16 & 1.00 & 0.32\\\\\n",
       "\\end{tabular}\n"
      ],
      "text/markdown": [
       "\n",
       "A matrix: 5 × 3 of type dbl\n",
       "\n",
       "| 1.00 | 0.29 | 0.20 |\n",
       "| 0.16 | 0.15 | 1.00 |\n",
       "| 0.29 | 0.91 | 0.66 |\n",
       "| 0.75 | 0.71 | 0.81 |\n",
       "| 0.16 | 1.00 | 0.32 |\n",
       "\n"
      ],
      "text/plain": [
       "     [,1] [,2] [,3]\n",
       "[1,] 1.00 0.29 0.20\n",
       "[2,] 0.16 0.15 1.00\n",
       "[3,] 0.29 0.91 0.66\n",
       "[4,] 0.75 0.71 0.81\n",
       "[5,] 0.16 1.00 0.32"
      ]
     },
     "metadata": {},
     "output_type": "display_data"
    }
   ],
   "source": [
    "round(maxmatmul(maxPCAX1P3$decoder_matrix, diag(apply(maxPCAX1P3$encoder_matrix, 1, max))), 2)"
   ]
  },
  {
   "cell_type": "code",
   "execution_count": 13,
   "id": "aaa5e8ed",
   "metadata": {},
   "outputs": [
    {
     "data": {
      "text/html": [
       "<table class=\"dataframe\">\n",
       "<caption>A matrix: 3 × 5 of type dbl</caption>\n",
       "<tbody>\n",
       "\t<tr><td>1.00</td><td>0.17</td><td>0.22</td><td>0.29</td><td>0.18</td></tr>\n",
       "\t<tr><td>0.16</td><td>0.26</td><td>0.50</td><td>0.13</td><td>1.00</td></tr>\n",
       "\t<tr><td>0.12</td><td>1.00</td><td>0.13</td><td>0.23</td><td>0.19</td></tr>\n",
       "</tbody>\n",
       "</table>\n"
      ],
      "text/latex": [
       "A matrix: 3 × 5 of type dbl\n",
       "\\begin{tabular}{lllll}\n",
       "\t 1.00 & 0.17 & 0.22 & 0.29 & 0.18\\\\\n",
       "\t 0.16 & 0.26 & 0.50 & 0.13 & 1.00\\\\\n",
       "\t 0.12 & 1.00 & 0.13 & 0.23 & 0.19\\\\\n",
       "\\end{tabular}\n"
      ],
      "text/markdown": [
       "\n",
       "A matrix: 3 × 5 of type dbl\n",
       "\n",
       "| 1.00 | 0.17 | 0.22 | 0.29 | 0.18 |\n",
       "| 0.16 | 0.26 | 0.50 | 0.13 | 1.00 |\n",
       "| 0.12 | 1.00 | 0.13 | 0.23 | 0.19 |\n",
       "\n"
      ],
      "text/plain": [
       "     [,1] [,2] [,3] [,4] [,5]\n",
       "[1,] 1.00 0.17 0.22 0.29 0.18\n",
       "[2,] 0.16 0.26 0.50 0.13 1.00\n",
       "[3,] 0.12 1.00 0.13 0.23 0.19"
      ]
     },
     "metadata": {},
     "output_type": "display_data"
    }
   ],
   "source": [
    "round(t(apply(maxPCAX1P3$encoder_matrix, 1, function(z) z / max(z))), 2)"
   ]
  },
  {
   "cell_type": "code",
   "execution_count": 14,
   "id": "15cb0f64",
   "metadata": {},
   "outputs": [
    {
     "data": {
      "text/html": [
       "1.1132904838404"
      ],
      "text/latex": [
       "1.1132904838404"
      ],
      "text/markdown": [
       "1.1132904838404"
      ],
      "text/plain": [
       "[1] 1.11329"
      ]
     },
     "metadata": {},
     "output_type": "display_data"
    }
   ],
   "source": [
    "maxPCAX1P1$loss_fctn_value"
   ]
  },
  {
   "cell_type": "markdown",
   "id": "1778604b",
   "metadata": {},
   "source": [
    "### elbow plot and pairplot to visually inspect fit"
   ]
  },
  {
   "cell_type": "code",
   "execution_count": 15,
   "id": "e26e4a0b",
   "metadata": {},
   "outputs": [
    {
     "data": {
      "image/png": "[encoded data removed]",
      "text/plain": [
       "plot without title"
      ]
     },
     "metadata": {
      "image/png": {
       "height": 420,
       "width": 420
      }
     },
     "output_type": "display_data"
    }
   ],
   "source": [
    "plotlossdatX1 <- data.frame(\n",
    "    p = 1:4, \n",
    "    loss = c(\n",
    "        maxPCAX1P1$loss_fctn_value, \n",
    "        maxPCAX1P2$loss_fctn_value, \n",
    "        maxPCAX1P3$loss_fctn_value, \n",
    "        maxPCAX1P4$loss_fctn_value\n",
    "\n",
    "    )\n",
    ")\n",
    "\n",
    "pe1 <- ggplot(aes(x = p, y = loss), data = plotlossdatX1) + geom_line() + geom_point() + ylim(0,4.5) + theme_minimal()\n",
    "pe1"
   ]
  },
  {
   "cell_type": "code",
   "execution_count": 16,
   "id": "54cef894",
   "metadata": {},
   "outputs": [
    {
     "name": "stderr",
     "output_type": "stream",
     "text": [
      "\u001b[1m\u001b[22mSaving 7 x 7 in image\n"
     ]
    }
   ],
   "source": [
    "ggsave(\"logistic_dephigh_elbow.pdf\", pe1)"
   ]
  },
  {
   "cell_type": "code",
   "execution_count": 17,
   "id": "cc6f55df",
   "metadata": {},
   "outputs": [],
   "source": [
    "rec1 <- t(maxmatmul(maxPCAX1P3$reconstr_matrix, t(exp(X1))))"
   ]
  },
  {
   "cell_type": "code",
   "execution_count": 18,
   "id": "87c7877b",
   "metadata": {},
   "outputs": [
    {
     "name": "stderr",
     "output_type": "stream",
     "text": [
      "\u001b[1m\u001b[22mJoining with `by = join_by(X1, X2, X3, X4, X5, is_rec)`\n"
     ]
    }
   ],
   "source": [
    "datX1 <- data.frame(exp(X1))\n",
    "datX1$is_rec = \"original\"\n",
    "datrec1 <- data.frame(rec1)\n",
    "datrec1$is_rec = \"reconstruction\"\n",
    "names(datrec1) <- names(datX1)\n",
    "plot_datX1 <- full_join(datX1, datrec1)"
   ]
  },
  {
   "cell_type": "code",
   "execution_count": 19,
   "id": "c1d6cf49",
   "metadata": {},
   "outputs": [
    {
     "data": {
      "image/png": "[encoded data removed]",
      "text/plain": [
       "plot without title"
      ]
     },
     "metadata": {
      "image/png": {
       "height": 420,
       "width": 420
      }
     },
     "output_type": "display_data"
    }
   ],
   "source": [
    "p1 <- ggpairs(\n",
    "    plot_datX1, \n",
    "    aes(color = is_rec, shape = is_rec, size = 2),\n",
    "    columns = c(1,2,5,3,4),\n",
    "    upper = list(continuous = \"points\", combo = \"dot_no_facet\"),\n",
    "    diag = list(continuous = \"blankDiag\", discrete = \"barDiag\", na = \"naDiag\")\n",
    ") + \n",
    "theme_light() +\n",
    "theme(axis.text.x = element_text(angle = 45, vjust = 1, hjust=1))\n",
    "\n",
    "p1"
   ]
  },
  {
   "cell_type": "code",
   "execution_count": 20,
   "id": "ec8eb885",
   "metadata": {},
   "outputs": [
    {
     "name": "stderr",
     "output_type": "stream",
     "text": [
      "\u001b[1m\u001b[22mSaving 7 x 7 in image\n"
     ]
    }
   ],
   "source": [
    "ggsave(\"logistic_dephigh.png\", p1)"
   ]
  },
  {
   "cell_type": "markdown",
   "id": "3c35dfc9",
   "metadata": {},
   "source": [
    "# Max-stable PCA for X2"
   ]
  },
  {
   "cell_type": "code",
   "execution_count": 21,
   "id": "17c810e0",
   "metadata": {},
   "outputs": [
    {
     "data": {
      "text/html": [
       "225"
      ],
      "text/latex": [
       "225"
      ],
      "text/markdown": [
       "225"
      ],
      "text/plain": [
       "[1] 225"
      ]
     },
     "metadata": {},
     "output_type": "display_data"
    }
   ],
   "source": [
    "length(which(apply(X2trafo, 1, max) > s))"
   ]
  },
  {
   "cell_type": "code",
   "execution_count": 22,
   "id": "e4284966",
   "metadata": {},
   "outputs": [],
   "source": [
    "maxPCAX2P1 <- max_stable_prcomp(X2trafo, p = 1, s = s, n_initial_guesses = 15000, norm = \"linfty\")\n",
    "maxPCAX2P2 <- max_stable_prcomp(X2trafo, p = 2, s = s, n_initial_guesses = 15000, norm = \"linfty\")\n",
    "maxPCAX2P3 <- max_stable_prcomp(X2trafo, p = 3, s = s, n_initial_guesses = 15000, norm = \"linfty\")\n",
    "maxPCAX2P4 <- max_stable_prcomp(X2trafo, p = 4, s = s, n_initial_guesses = 15000, norm = \"linfty\")"
   ]
  },
  {
   "cell_type": "code",
   "execution_count": 23,
   "id": "b67cb1f0",
   "metadata": {},
   "outputs": [
    {
     "data": {
      "text/plain": [
       "$p\n",
       "[1] 3\n",
       "\n",
       "$d\n",
       "[1] 5\n",
       "\n",
       "$decoder_matrix\n",
       "            [,1]        [,2]        [,3]\n",
       "[1,] 0.006375097 0.004294031 1.053848949\n",
       "[2,] 1.328524274 0.001141440 0.009084926\n",
       "[3,] 0.529617440 0.237286564 0.580449861\n",
       "[4,] 0.637281037 0.441794716 0.109611892\n",
       "[5,] 0.007993694 1.706266172 0.004486715\n",
       "\n",
       "$encoder_matrix\n",
       "            [,1]        [,2]        [,3]        [,4]        [,5]\n",
       "[1,] 0.002140774 0.752668786 0.011547330 0.003068910 0.004617031\n",
       "[2,] 0.004973648 0.003689665 0.004317807 0.005696903 0.586070264\n",
       "[3,] 0.948906123 0.002333537 0.011467566 0.008919177 0.001351900\n",
       "\n",
       "$reconstr_matrix\n",
       "            [,1]        [,2]        [,3]        [,4]        [,5]\n",
       "[1,] 1.000003721 0.004798336 0.012085083 0.009399466 0.002516604\n",
       "[2,] 0.008620742 0.999938753 0.015340908 0.004077122 0.006133838\n",
       "[3,] 0.550792428 0.398626516 0.006656347 0.005177135 0.139066599\n",
       "[4,] 0.104011396 0.479661545 0.007358895 0.002516862 0.258922745\n",
       "[5,] 0.008486367 0.006295550 0.007367328 0.009720433 0.999991865\n",
       "\n",
       "$loss_fctn_value\n",
       "[1] 1.462209\n",
       "\n",
       "$optim_conv_status\n",
       "[1] 4\n",
       "\n",
       "$s\n",
       "[1] 100\n",
       "\n",
       "$starting_vals\n",
       "$starting_vals$decoder_matrix_x0\n",
       "          [,1]      [,2]      [,3]\n",
       "[1,] 0.4272579 1.0000000 1.0000000\n",
       "[2,] 1.0000000 0.2452650 0.1484210\n",
       "[3,] 0.5471130 0.6085611 0.4231304\n",
       "[4,] 0.7537600 0.8085691 0.6250285\n",
       "[5,] 0.4414281 0.9352830 0.9372273\n",
       "\n",
       "$starting_vals$encoder_matrix_x0\n",
       "          [,1]      [,2]      [,3]      [,4]      [,5]\n",
       "[1,] 0.1716435 0.9528562 0.2497901 0.3131545 0.2762095\n",
       "[2,] 0.6799496 0.3337874 0.3035072 0.1789310 0.2378530\n",
       "[3,] 0.9256196 0.4981124 0.2912913 0.3237341 0.1634899\n",
       "\n",
       "\n",
       "attr(,\"class\")\n",
       "[1] \"max_stable_prcomp\""
      ]
     },
     "metadata": {},
     "output_type": "display_data"
    }
   ],
   "source": [
    "maxPCAX2P3"
   ]
  },
  {
   "cell_type": "code",
   "execution_count": 24,
   "id": "a01c39f5",
   "metadata": {},
   "outputs": [
    {
     "data": {
      "text/html": [
       "<table class=\"dataframe\">\n",
       "<caption>A matrix: 5 × 3 of type dbl</caption>\n",
       "<tbody>\n",
       "\t<tr><td>0.01</td><td>0.00</td><td>1.05</td></tr>\n",
       "\t<tr><td>1.33</td><td>0.00</td><td>0.01</td></tr>\n",
       "\t<tr><td>0.53</td><td>0.24</td><td>0.58</td></tr>\n",
       "\t<tr><td>0.64</td><td>0.44</td><td>0.11</td></tr>\n",
       "\t<tr><td>0.01</td><td>1.71</td><td>0.00</td></tr>\n",
       "</tbody>\n",
       "</table>\n"
      ],
      "text/latex": [
       "A matrix: 5 × 3 of type dbl\n",
       "\\begin{tabular}{lll}\n",
       "\t 0.01 & 0.00 & 1.05\\\\\n",
       "\t 1.33 & 0.00 & 0.01\\\\\n",
       "\t 0.53 & 0.24 & 0.58\\\\\n",
       "\t 0.64 & 0.44 & 0.11\\\\\n",
       "\t 0.01 & 1.71 & 0.00\\\\\n",
       "\\end{tabular}\n"
      ],
      "text/markdown": [
       "\n",
       "A matrix: 5 × 3 of type dbl\n",
       "\n",
       "| 0.01 | 0.00 | 1.05 |\n",
       "| 1.33 | 0.00 | 0.01 |\n",
       "| 0.53 | 0.24 | 0.58 |\n",
       "| 0.64 | 0.44 | 0.11 |\n",
       "| 0.01 | 1.71 | 0.00 |\n",
       "\n"
      ],
      "text/plain": [
       "     [,1] [,2] [,3]\n",
       "[1,] 0.01 0.00 1.05\n",
       "[2,] 1.33 0.00 0.01\n",
       "[3,] 0.53 0.24 0.58\n",
       "[4,] 0.64 0.44 0.11\n",
       "[5,] 0.01 1.71 0.00"
      ]
     },
     "metadata": {},
     "output_type": "display_data"
    }
   ],
   "source": [
    "round(maxPCAX2P3$decoder_matrix, 2)"
   ]
  },
  {
   "cell_type": "code",
   "execution_count": 25,
   "id": "b716fbfe",
   "metadata": {},
   "outputs": [
    {
     "data": {
      "text/html": [
       "<table class=\"dataframe\">\n",
       "<caption>A matrix: 3 × 5 of type dbl</caption>\n",
       "<tbody>\n",
       "\t<tr><td>0.00</td><td>0.75</td><td>0.01</td><td>0.00</td><td>0.00</td></tr>\n",
       "\t<tr><td>0.00</td><td>0.00</td><td>0.00</td><td>0.01</td><td>0.59</td></tr>\n",
       "\t<tr><td>0.95</td><td>0.00</td><td>0.01</td><td>0.01</td><td>0.00</td></tr>\n",
       "</tbody>\n",
       "</table>\n"
      ],
      "text/latex": [
       "A matrix: 3 × 5 of type dbl\n",
       "\\begin{tabular}{lllll}\n",
       "\t 0.00 & 0.75 & 0.01 & 0.00 & 0.00\\\\\n",
       "\t 0.00 & 0.00 & 0.00 & 0.01 & 0.59\\\\\n",
       "\t 0.95 & 0.00 & 0.01 & 0.01 & 0.00\\\\\n",
       "\\end{tabular}\n"
      ],
      "text/markdown": [
       "\n",
       "A matrix: 3 × 5 of type dbl\n",
       "\n",
       "| 0.00 | 0.75 | 0.01 | 0.00 | 0.00 |\n",
       "| 0.00 | 0.00 | 0.00 | 0.01 | 0.59 |\n",
       "| 0.95 | 0.00 | 0.01 | 0.01 | 0.00 |\n",
       "\n"
      ],
      "text/plain": [
       "     [,1] [,2] [,3] [,4] [,5]\n",
       "[1,] 0.00 0.75 0.01 0.00 0.00\n",
       "[2,] 0.00 0.00 0.00 0.01 0.59\n",
       "[3,] 0.95 0.00 0.01 0.01 0.00"
      ]
     },
     "metadata": {},
     "output_type": "display_data"
    }
   ],
   "source": [
    "round(maxPCAX2P3$encoder_matrix, 2)"
   ]
  },
  {
   "cell_type": "code",
   "execution_count": 26,
   "id": "aa4c901f",
   "metadata": {},
   "outputs": [
    {
     "data": {
      "text/html": [
       "<table class=\"dataframe\">\n",
       "<caption>A matrix: 5 × 5 of type dbl</caption>\n",
       "<tbody>\n",
       "\t<tr><td>1.00</td><td>0.00</td><td>0.01</td><td>0.01</td><td>0.00</td></tr>\n",
       "\t<tr><td>0.01</td><td>1.00</td><td>0.02</td><td>0.00</td><td>0.01</td></tr>\n",
       "\t<tr><td>0.55</td><td>0.40</td><td>0.01</td><td>0.01</td><td>0.14</td></tr>\n",
       "\t<tr><td>0.10</td><td>0.48</td><td>0.01</td><td>0.00</td><td>0.26</td></tr>\n",
       "\t<tr><td>0.01</td><td>0.01</td><td>0.01</td><td>0.01</td><td>1.00</td></tr>\n",
       "</tbody>\n",
       "</table>\n"
      ],
      "text/latex": [
       "A matrix: 5 × 5 of type dbl\n",
       "\\begin{tabular}{lllll}\n",
       "\t 1.00 & 0.00 & 0.01 & 0.01 & 0.00\\\\\n",
       "\t 0.01 & 1.00 & 0.02 & 0.00 & 0.01\\\\\n",
       "\t 0.55 & 0.40 & 0.01 & 0.01 & 0.14\\\\\n",
       "\t 0.10 & 0.48 & 0.01 & 0.00 & 0.26\\\\\n",
       "\t 0.01 & 0.01 & 0.01 & 0.01 & 1.00\\\\\n",
       "\\end{tabular}\n"
      ],
      "text/markdown": [
       "\n",
       "A matrix: 5 × 5 of type dbl\n",
       "\n",
       "| 1.00 | 0.00 | 0.01 | 0.01 | 0.00 |\n",
       "| 0.01 | 1.00 | 0.02 | 0.00 | 0.01 |\n",
       "| 0.55 | 0.40 | 0.01 | 0.01 | 0.14 |\n",
       "| 0.10 | 0.48 | 0.01 | 0.00 | 0.26 |\n",
       "| 0.01 | 0.01 | 0.01 | 0.01 | 1.00 |\n",
       "\n"
      ],
      "text/plain": [
       "     [,1] [,2] [,3] [,4] [,5]\n",
       "[1,] 1.00 0.00 0.01 0.01 0.00\n",
       "[2,] 0.01 1.00 0.02 0.00 0.01\n",
       "[3,] 0.55 0.40 0.01 0.01 0.14\n",
       "[4,] 0.10 0.48 0.01 0.00 0.26\n",
       "[5,] 0.01 0.01 0.01 0.01 1.00"
      ]
     },
     "metadata": {},
     "output_type": "display_data"
    }
   ],
   "source": [
    "round(maxPCAX2P3$reconstr_matrix, 2)"
   ]
  },
  {
   "cell_type": "markdown",
   "id": "f8cb09ef",
   "metadata": {},
   "source": [
    "#### rescale the matrices such that the largest rowwise entries of $\\hat W$ are equal to one"
   ]
  },
  {
   "cell_type": "code",
   "execution_count": 27,
   "id": "4c8c10d4",
   "metadata": {},
   "outputs": [
    {
     "data": {
      "text/html": [
       "<table class=\"dataframe\">\n",
       "<caption>A matrix: 5 × 3 of type dbl</caption>\n",
       "<tbody>\n",
       "\t<tr><td>0.00</td><td>0.00</td><td>1.00</td></tr>\n",
       "\t<tr><td>1.00</td><td>0.00</td><td>0.01</td></tr>\n",
       "\t<tr><td>0.40</td><td>0.14</td><td>0.55</td></tr>\n",
       "\t<tr><td>0.48</td><td>0.26</td><td>0.10</td></tr>\n",
       "\t<tr><td>0.01</td><td>1.00</td><td>0.00</td></tr>\n",
       "</tbody>\n",
       "</table>\n"
      ],
      "text/latex": [
       "A matrix: 5 × 3 of type dbl\n",
       "\\begin{tabular}{lll}\n",
       "\t 0.00 & 0.00 & 1.00\\\\\n",
       "\t 1.00 & 0.00 & 0.01\\\\\n",
       "\t 0.40 & 0.14 & 0.55\\\\\n",
       "\t 0.48 & 0.26 & 0.10\\\\\n",
       "\t 0.01 & 1.00 & 0.00\\\\\n",
       "\\end{tabular}\n"
      ],
      "text/markdown": [
       "\n",
       "A matrix: 5 × 3 of type dbl\n",
       "\n",
       "| 0.00 | 0.00 | 1.00 |\n",
       "| 1.00 | 0.00 | 0.01 |\n",
       "| 0.40 | 0.14 | 0.55 |\n",
       "| 0.48 | 0.26 | 0.10 |\n",
       "| 0.01 | 1.00 | 0.00 |\n",
       "\n"
      ],
      "text/plain": [
       "     [,1] [,2] [,3]\n",
       "[1,] 0.00 0.00 1.00\n",
       "[2,] 1.00 0.00 0.01\n",
       "[3,] 0.40 0.14 0.55\n",
       "[4,] 0.48 0.26 0.10\n",
       "[5,] 0.01 1.00 0.00"
      ]
     },
     "metadata": {},
     "output_type": "display_data"
    }
   ],
   "source": [
    "round(maxmatmul(maxPCAX2P3$decoder_matrix, diag(apply(maxPCAX2P3$encoder_matrix, 1, max))), 2)"
   ]
  },
  {
   "cell_type": "code",
   "execution_count": 28,
   "id": "59805644",
   "metadata": {},
   "outputs": [
    {
     "data": {
      "text/html": [
       "<table class=\"dataframe\">\n",
       "<caption>A matrix: 3 × 5 of type dbl</caption>\n",
       "<tbody>\n",
       "\t<tr><td>0.00</td><td>1.00</td><td>0.02</td><td>0.00</td><td>0.01</td></tr>\n",
       "\t<tr><td>0.01</td><td>0.01</td><td>0.01</td><td>0.01</td><td>1.00</td></tr>\n",
       "\t<tr><td>1.00</td><td>0.00</td><td>0.01</td><td>0.01</td><td>0.00</td></tr>\n",
       "</tbody>\n",
       "</table>\n"
      ],
      "text/latex": [
       "A matrix: 3 × 5 of type dbl\n",
       "\\begin{tabular}{lllll}\n",
       "\t 0.00 & 1.00 & 0.02 & 0.00 & 0.01\\\\\n",
       "\t 0.01 & 0.01 & 0.01 & 0.01 & 1.00\\\\\n",
       "\t 1.00 & 0.00 & 0.01 & 0.01 & 0.00\\\\\n",
       "\\end{tabular}\n"
      ],
      "text/markdown": [
       "\n",
       "A matrix: 3 × 5 of type dbl\n",
       "\n",
       "| 0.00 | 1.00 | 0.02 | 0.00 | 0.01 |\n",
       "| 0.01 | 0.01 | 0.01 | 0.01 | 1.00 |\n",
       "| 1.00 | 0.00 | 0.01 | 0.01 | 0.00 |\n",
       "\n"
      ],
      "text/plain": [
       "     [,1] [,2] [,3] [,4] [,5]\n",
       "[1,] 0.00 1.00 0.02 0.00 0.01\n",
       "[2,] 0.01 0.01 0.01 0.01 1.00\n",
       "[3,] 1.00 0.00 0.01 0.01 0.00"
      ]
     },
     "metadata": {},
     "output_type": "display_data"
    }
   ],
   "source": [
    "round(t(apply(maxPCAX2P3$encoder_matrix, 1, function(z) z / max(z))), 2)"
   ]
  },
  {
   "cell_type": "markdown",
   "id": "9bd78482",
   "metadata": {},
   "source": [
    "### elbow plot and pairplot to visually inspect fit"
   ]
  },
  {
   "cell_type": "code",
   "execution_count": 29,
   "id": "62f980bb",
   "metadata": {},
   "outputs": [
    {
     "data": {
      "image/png": "[encoded data removed]",
      "text/plain": [
       "plot without title"
      ]
     },
     "metadata": {
      "image/png": {
       "height": 420,
       "width": 420
      }
     },
     "output_type": "display_data"
    }
   ],
   "source": [
    "plotlossdatX2 <- data.frame(\n",
    "    p = 1:4, \n",
    "    loss = c(\n",
    "        maxPCAX2P1$loss_fctn_value,\n",
    "        maxPCAX2P2$loss_fctn_value,\n",
    "        maxPCAX2P3$loss_fctn_value,\n",
    "        maxPCAX2P4$loss_fctn_value\n",
    "\n",
    "    )\n",
    ")\n",
    "\n",
    "pe2 <- ggplot(aes(x = p, y = loss),  data = plotlossdatX2) + geom_line() + geom_point() + ylim(0,4.5) + theme_minimal()\n",
    "pe2"
   ]
  },
  {
   "cell_type": "code",
   "execution_count": 30,
   "id": "2342589d",
   "metadata": {},
   "outputs": [
    {
     "name": "stderr",
     "output_type": "stream",
     "text": [
      "\u001b[1m\u001b[22mSaving 7 x 7 in image\n"
     ]
    }
   ],
   "source": [
    "ggsave(\"logistic_depmed_elbow.pdf\", pe2)"
   ]
  },
  {
   "cell_type": "code",
   "execution_count": 31,
   "id": "d24497c9",
   "metadata": {},
   "outputs": [],
   "source": [
    "rec2 <- t(maxmatmul(maxPCAX2P3$reconstr_matrix, t(exp(X2))))"
   ]
  },
  {
   "cell_type": "code",
   "execution_count": 32,
   "id": "cb4d968d",
   "metadata": {},
   "outputs": [
    {
     "name": "stderr",
     "output_type": "stream",
     "text": [
      "\u001b[1m\u001b[22mJoining with `by = join_by(X1, X2, X3, X4, X5, is_rec)`\n"
     ]
    }
   ],
   "source": [
    "datX2 <- data.frame(exp(X2))\n",
    "datX2$is_rec = \"original\"\n",
    "datrec2 <- data.frame(rec2)\n",
    "datrec2$is_rec = \"reconstruction\"\n",
    "names(datrec2) <- names(datX2)\n",
    "plot_datX2 <- full_join(datX2, datrec2)"
   ]
  },
  {
   "cell_type": "code",
   "execution_count": 33,
   "id": "86362505",
   "metadata": {},
   "outputs": [
    {
     "data": {
      "image/png": "[encoded data removed]",
      "text/plain": [
       "plot without title"
      ]
     },
     "metadata": {
      "image/png": {
       "height": 420,
       "width": 420
      }
     },
     "output_type": "display_data"
    }
   ],
   "source": [
    "p2 <- ggpairs(\n",
    "    plot_datX2, \n",
    "    aes(color = is_rec, shape = is_rec, size = 2),\n",
    "    columns = c(1,2,5,3,4),\n",
    "    upper = list(continuous = \"points\", combo = \"dot_no_facet\"),\n",
    "    diag = list(continuous = \"blankDiag\", discrete = \"barDiag\", na = \"naDiag\")\n",
    ") + \n",
    "theme_light() +\n",
    "theme(axis.text.x = element_text(angle = 45, vjust = 1, hjust=1))\n",
    "\n",
    "p2"
   ]
  },
  {
   "cell_type": "code",
   "execution_count": 34,
   "id": "92cba1c2",
   "metadata": {},
   "outputs": [
    {
     "name": "stderr",
     "output_type": "stream",
     "text": [
      "\u001b[1m\u001b[22mSaving 7 x 7 in image\n"
     ]
    }
   ],
   "source": [
    "ggsave(\"logistic_depmed.png\", p2)"
   ]
  },
  {
   "cell_type": "markdown",
   "id": "46d5fd22",
   "metadata": {},
   "source": [
    "# Same for X3"
   ]
  },
  {
   "cell_type": "code",
   "execution_count": 35,
   "id": "256d6a56",
   "metadata": {},
   "outputs": [
    {
     "data": {
      "text/html": [
       "356"
      ],
      "text/latex": [
       "356"
      ],
      "text/markdown": [
       "356"
      ],
      "text/plain": [
       "[1] 356"
      ]
     },
     "metadata": {},
     "output_type": "display_data"
    }
   ],
   "source": [
    "length(which(apply(X3trafo, 1, max) > s))"
   ]
  },
  {
   "cell_type": "code",
   "execution_count": 36,
   "id": "899bc111",
   "metadata": {
    "scrolled": true
   },
   "outputs": [],
   "source": [
    "maxPCAX3P1 <- max_stable_prcomp(X3trafo, p = 1, s = s, n_initial_guesses = 15000, norm = \"linfty\")\n",
    "maxPCAX3P2 <- max_stable_prcomp(X3trafo, p = 2, s = s, n_initial_guesses = 15000, norm = \"linfty\")\n",
    "maxPCAX3P3 <- max_stable_prcomp(X3trafo, p = 3, s = s, n_initial_guesses = 15000, norm = \"linfty\")\n",
    "maxPCAX3P4 <- max_stable_prcomp(X3trafo, p = 4, s = s, n_initial_guesses = 15000, norm = \"linfty\")"
   ]
  },
  {
   "cell_type": "code",
   "execution_count": 37,
   "id": "aef4bedc",
   "metadata": {},
   "outputs": [
    {
     "data": {
      "text/plain": [
       "$p\n",
       "[1] 3\n",
       "\n",
       "$d\n",
       "[1] 5\n",
       "\n",
       "$decoder_matrix\n",
       "            [,1]         [,2]        [,3]\n",
       "[1,] 0.150401953 1.258429e-01 0.018583221\n",
       "[2,] 1.669277362 4.786831e-18 0.003977001\n",
       "[3,] 0.133365348 8.941051e-02 0.028091746\n",
       "[4,] 0.002260317 1.451681e+00 0.003320241\n",
       "[5,] 0.002445769 1.035458e-03 1.498590566\n",
       "\n",
       "$encoder_matrix\n",
       "             [,1]         [,2]         [,3]         [,4]         [,5]\n",
       "[1,] 0.0014703304 5.990663e-01 0.0033174138 0.0004346622 0.0002790334\n",
       "[2,] 0.0001808305 8.029398e-18 0.0012500828 0.6888572700 0.0013243908\n",
       "[3,] 0.0004984025 2.975040e-03 0.0007078408 0.0029820324 0.6674832248\n",
       "\n",
       "$reconstr_matrix\n",
       "             [,1]        [,2]         [,3]         [,4]        [,5]\n",
       "[1,] 0.0002211406 0.090100747 0.0004989455 0.0866878159 0.012403989\n",
       "[2,] 0.0024543892 1.000007872 0.0055376837 0.0007255718 0.002654581\n",
       "[3,] 0.0001960911 0.079894690 0.0004424280 0.0615910786 0.018750769\n",
       "[4,] 0.0002625081 0.001354080 0.0018147211 1.0000008171 0.002216205\n",
       "[5,] 0.0007469012 0.004458367 0.0010607635 0.0044688457 1.000284064\n",
       "\n",
       "$loss_fctn_value\n",
       "[1] 2.001434\n",
       "\n",
       "$optim_conv_status\n",
       "[1] 4\n",
       "\n",
       "$s\n",
       "[1] 100\n",
       "\n",
       "$starting_vals\n",
       "$starting_vals$decoder_matrix_x0\n",
       "          [,1]      [,2]      [,3]\n",
       "[1,] 0.6301180 1.0000000 0.1123456\n",
       "[2,] 0.7610705 0.2336887 0.1623343\n",
       "[3,] 1.0000000 0.9811499 0.1425091\n",
       "[4,] 0.3440576 0.9051340 0.2354339\n",
       "[5,] 0.2018730 0.2291899 1.0000000\n",
       "\n",
       "$starting_vals$encoder_matrix_x0\n",
       "          [,1]      [,2]      [,3]      [,4]      [,5]\n",
       "[1,] 0.4754170 0.6312397 0.1599718 0.2937933 0.1638196\n",
       "[2,] 0.1573863 0.4238109 0.1662951 0.5306536 0.1301071\n",
       "[3,] 0.1904998 0.4834464 0.1683026 0.1418635 0.4356601\n",
       "\n",
       "\n",
       "attr(,\"class\")\n",
       "[1] \"max_stable_prcomp\""
      ]
     },
     "metadata": {},
     "output_type": "display_data"
    }
   ],
   "source": [
    "maxPCAX3P3"
   ]
  },
  {
   "cell_type": "code",
   "execution_count": 38,
   "id": "59770b52",
   "metadata": {},
   "outputs": [
    {
     "data": {
      "text/html": [
       "<table class=\"dataframe\">\n",
       "<caption>A matrix: 5 × 3 of type dbl</caption>\n",
       "<tbody>\n",
       "\t<tr><td>0.15</td><td>0.13</td><td>0.02</td></tr>\n",
       "\t<tr><td>1.67</td><td>0.00</td><td>0.00</td></tr>\n",
       "\t<tr><td>0.13</td><td>0.09</td><td>0.03</td></tr>\n",
       "\t<tr><td>0.00</td><td>1.45</td><td>0.00</td></tr>\n",
       "\t<tr><td>0.00</td><td>0.00</td><td>1.50</td></tr>\n",
       "</tbody>\n",
       "</table>\n"
      ],
      "text/latex": [
       "A matrix: 5 × 3 of type dbl\n",
       "\\begin{tabular}{lll}\n",
       "\t 0.15 & 0.13 & 0.02\\\\\n",
       "\t 1.67 & 0.00 & 0.00\\\\\n",
       "\t 0.13 & 0.09 & 0.03\\\\\n",
       "\t 0.00 & 1.45 & 0.00\\\\\n",
       "\t 0.00 & 0.00 & 1.50\\\\\n",
       "\\end{tabular}\n"
      ],
      "text/markdown": [
       "\n",
       "A matrix: 5 × 3 of type dbl\n",
       "\n",
       "| 0.15 | 0.13 | 0.02 |\n",
       "| 1.67 | 0.00 | 0.00 |\n",
       "| 0.13 | 0.09 | 0.03 |\n",
       "| 0.00 | 1.45 | 0.00 |\n",
       "| 0.00 | 0.00 | 1.50 |\n",
       "\n"
      ],
      "text/plain": [
       "     [,1] [,2] [,3]\n",
       "[1,] 0.15 0.13 0.02\n",
       "[2,] 1.67 0.00 0.00\n",
       "[3,] 0.13 0.09 0.03\n",
       "[4,] 0.00 1.45 0.00\n",
       "[5,] 0.00 0.00 1.50"
      ]
     },
     "metadata": {},
     "output_type": "display_data"
    }
   ],
   "source": [
    "round(maxPCAX3P3$decoder_matrix, 2)"
   ]
  },
  {
   "cell_type": "code",
   "execution_count": 39,
   "id": "910bed0a",
   "metadata": {},
   "outputs": [
    {
     "data": {
      "text/html": [
       "<table class=\"dataframe\">\n",
       "<caption>A matrix: 3 × 5 of type dbl</caption>\n",
       "<tbody>\n",
       "\t<tr><td>0</td><td>0.6</td><td>0</td><td>0.00</td><td>0.00</td></tr>\n",
       "\t<tr><td>0</td><td>0.0</td><td>0</td><td>0.69</td><td>0.00</td></tr>\n",
       "\t<tr><td>0</td><td>0.0</td><td>0</td><td>0.00</td><td>0.67</td></tr>\n",
       "</tbody>\n",
       "</table>\n"
      ],
      "text/latex": [
       "A matrix: 3 × 5 of type dbl\n",
       "\\begin{tabular}{lllll}\n",
       "\t 0 & 0.6 & 0 & 0.00 & 0.00\\\\\n",
       "\t 0 & 0.0 & 0 & 0.69 & 0.00\\\\\n",
       "\t 0 & 0.0 & 0 & 0.00 & 0.67\\\\\n",
       "\\end{tabular}\n"
      ],
      "text/markdown": [
       "\n",
       "A matrix: 3 × 5 of type dbl\n",
       "\n",
       "| 0 | 0.6 | 0 | 0.00 | 0.00 |\n",
       "| 0 | 0.0 | 0 | 0.69 | 0.00 |\n",
       "| 0 | 0.0 | 0 | 0.00 | 0.67 |\n",
       "\n"
      ],
      "text/plain": [
       "     [,1] [,2] [,3] [,4] [,5]\n",
       "[1,] 0    0.6  0    0.00 0.00\n",
       "[2,] 0    0.0  0    0.69 0.00\n",
       "[3,] 0    0.0  0    0.00 0.67"
      ]
     },
     "metadata": {},
     "output_type": "display_data"
    }
   ],
   "source": [
    "round(maxPCAX3P3$encoder_matrix, 2)"
   ]
  },
  {
   "cell_type": "code",
   "execution_count": 40,
   "id": "3535204c",
   "metadata": {},
   "outputs": [
    {
     "data": {
      "text/html": [
       "<table class=\"dataframe\">\n",
       "<caption>A matrix: 5 × 5 of type dbl</caption>\n",
       "<tbody>\n",
       "\t<tr><td>0</td><td>0.09</td><td>0.00</td><td>0.09</td><td>0.01</td></tr>\n",
       "\t<tr><td>0</td><td>1.00</td><td>0.01</td><td>0.00</td><td>0.00</td></tr>\n",
       "\t<tr><td>0</td><td>0.08</td><td>0.00</td><td>0.06</td><td>0.02</td></tr>\n",
       "\t<tr><td>0</td><td>0.00</td><td>0.00</td><td>1.00</td><td>0.00</td></tr>\n",
       "\t<tr><td>0</td><td>0.00</td><td>0.00</td><td>0.00</td><td>1.00</td></tr>\n",
       "</tbody>\n",
       "</table>\n"
      ],
      "text/latex": [
       "A matrix: 5 × 5 of type dbl\n",
       "\\begin{tabular}{lllll}\n",
       "\t 0 & 0.09 & 0.00 & 0.09 & 0.01\\\\\n",
       "\t 0 & 1.00 & 0.01 & 0.00 & 0.00\\\\\n",
       "\t 0 & 0.08 & 0.00 & 0.06 & 0.02\\\\\n",
       "\t 0 & 0.00 & 0.00 & 1.00 & 0.00\\\\\n",
       "\t 0 & 0.00 & 0.00 & 0.00 & 1.00\\\\\n",
       "\\end{tabular}\n"
      ],
      "text/markdown": [
       "\n",
       "A matrix: 5 × 5 of type dbl\n",
       "\n",
       "| 0 | 0.09 | 0.00 | 0.09 | 0.01 |\n",
       "| 0 | 1.00 | 0.01 | 0.00 | 0.00 |\n",
       "| 0 | 0.08 | 0.00 | 0.06 | 0.02 |\n",
       "| 0 | 0.00 | 0.00 | 1.00 | 0.00 |\n",
       "| 0 | 0.00 | 0.00 | 0.00 | 1.00 |\n",
       "\n"
      ],
      "text/plain": [
       "     [,1] [,2] [,3] [,4] [,5]\n",
       "[1,] 0    0.09 0.00 0.09 0.01\n",
       "[2,] 0    1.00 0.01 0.00 0.00\n",
       "[3,] 0    0.08 0.00 0.06 0.02\n",
       "[4,] 0    0.00 0.00 1.00 0.00\n",
       "[5,] 0    0.00 0.00 0.00 1.00"
      ]
     },
     "metadata": {},
     "output_type": "display_data"
    }
   ],
   "source": [
    "round(maxPCAX3P3$reconstr_matrix, 2)"
   ]
  },
  {
   "cell_type": "markdown",
   "id": "b7fd70c7",
   "metadata": {},
   "source": [
    "#### rescale the matrices such that the largest rowwise entries of $\\hat W$ are equal to one"
   ]
  },
  {
   "cell_type": "code",
   "execution_count": 41,
   "id": "64199132",
   "metadata": {},
   "outputs": [
    {
     "data": {
      "text/html": [
       "<table class=\"dataframe\">\n",
       "<caption>A matrix: 5 × 3 of type dbl</caption>\n",
       "<tbody>\n",
       "\t<tr><td>0.09</td><td>0.09</td><td>0.01</td></tr>\n",
       "\t<tr><td>1.00</td><td>0.00</td><td>0.00</td></tr>\n",
       "\t<tr><td>0.08</td><td>0.06</td><td>0.02</td></tr>\n",
       "\t<tr><td>0.00</td><td>1.00</td><td>0.00</td></tr>\n",
       "\t<tr><td>0.00</td><td>0.00</td><td>1.00</td></tr>\n",
       "</tbody>\n",
       "</table>\n"
      ],
      "text/latex": [
       "A matrix: 5 × 3 of type dbl\n",
       "\\begin{tabular}{lll}\n",
       "\t 0.09 & 0.09 & 0.01\\\\\n",
       "\t 1.00 & 0.00 & 0.00\\\\\n",
       "\t 0.08 & 0.06 & 0.02\\\\\n",
       "\t 0.00 & 1.00 & 0.00\\\\\n",
       "\t 0.00 & 0.00 & 1.00\\\\\n",
       "\\end{tabular}\n"
      ],
      "text/markdown": [
       "\n",
       "A matrix: 5 × 3 of type dbl\n",
       "\n",
       "| 0.09 | 0.09 | 0.01 |\n",
       "| 1.00 | 0.00 | 0.00 |\n",
       "| 0.08 | 0.06 | 0.02 |\n",
       "| 0.00 | 1.00 | 0.00 |\n",
       "| 0.00 | 0.00 | 1.00 |\n",
       "\n"
      ],
      "text/plain": [
       "     [,1] [,2] [,3]\n",
       "[1,] 0.09 0.09 0.01\n",
       "[2,] 1.00 0.00 0.00\n",
       "[3,] 0.08 0.06 0.02\n",
       "[4,] 0.00 1.00 0.00\n",
       "[5,] 0.00 0.00 1.00"
      ]
     },
     "metadata": {},
     "output_type": "display_data"
    }
   ],
   "source": [
    "round(maxmatmul(maxPCAX3P3$decoder_matrix, diag(apply(maxPCAX3P3$encoder_matrix, 1, max))), 2)"
   ]
  },
  {
   "cell_type": "code",
   "execution_count": 42,
   "id": "7edc67ce",
   "metadata": {},
   "outputs": [
    {
     "data": {
      "text/html": [
       "<table class=\"dataframe\">\n",
       "<caption>A matrix: 3 × 5 of type dbl</caption>\n",
       "<tbody>\n",
       "\t<tr><td>0</td><td>1</td><td>0.01</td><td>0</td><td>0</td></tr>\n",
       "\t<tr><td>0</td><td>0</td><td>0.00</td><td>1</td><td>0</td></tr>\n",
       "\t<tr><td>0</td><td>0</td><td>0.00</td><td>0</td><td>1</td></tr>\n",
       "</tbody>\n",
       "</table>\n"
      ],
      "text/latex": [
       "A matrix: 3 × 5 of type dbl\n",
       "\\begin{tabular}{lllll}\n",
       "\t 0 & 1 & 0.01 & 0 & 0\\\\\n",
       "\t 0 & 0 & 0.00 & 1 & 0\\\\\n",
       "\t 0 & 0 & 0.00 & 0 & 1\\\\\n",
       "\\end{tabular}\n"
      ],
      "text/markdown": [
       "\n",
       "A matrix: 3 × 5 of type dbl\n",
       "\n",
       "| 0 | 1 | 0.01 | 0 | 0 |\n",
       "| 0 | 0 | 0.00 | 1 | 0 |\n",
       "| 0 | 0 | 0.00 | 0 | 1 |\n",
       "\n"
      ],
      "text/plain": [
       "     [,1] [,2] [,3] [,4] [,5]\n",
       "[1,] 0    1    0.01 0    0   \n",
       "[2,] 0    0    0.00 1    0   \n",
       "[3,] 0    0    0.00 0    1   "
      ]
     },
     "metadata": {},
     "output_type": "display_data"
    }
   ],
   "source": [
    "round(t(apply(maxPCAX3P3$encoder_matrix, 1, function(z) z / max(z))), 2)"
   ]
  },
  {
   "cell_type": "markdown",
   "id": "0593129f",
   "metadata": {},
   "source": [
    "### elbow plot and pairplot to visually inspect fit"
   ]
  },
  {
   "cell_type": "code",
   "execution_count": 43,
   "id": "531a821d",
   "metadata": {},
   "outputs": [
    {
     "data": {
      "image/png": "[encoded data removed]",
      "text/plain": [
       "plot without title"
      ]
     },
     "metadata": {
      "image/png": {
       "height": 420,
       "width": 420
      }
     },
     "output_type": "display_data"
    }
   ],
   "source": [
    "plotlossdatX3 <- data.frame(\n",
    "    p = 1:4, \n",
    "    loss = c(\n",
    "        maxPCAX3P1$loss_fctn_value,\n",
    "        maxPCAX3P2$loss_fctn_value,\n",
    "        maxPCAX3P3$loss_fctn_value,\n",
    "        maxPCAX3P4$loss_fctn_value\n",
    "\n",
    "    )\n",
    ")\n",
    "\n",
    "pe3 <- ggplot(aes(x = p, y = loss),  data = plotlossdatX3) + geom_line() + geom_point() + ylim(0,4.5) + theme_minimal()\n",
    "pe3"
   ]
  },
  {
   "cell_type": "code",
   "execution_count": 44,
   "id": "4aa665e3",
   "metadata": {},
   "outputs": [
    {
     "name": "stderr",
     "output_type": "stream",
     "text": [
      "\u001b[1m\u001b[22mSaving 7 x 7 in image\n"
     ]
    }
   ],
   "source": [
    "ggsave(\"logistic_deplow_elbow.pdf\", pe3)"
   ]
  },
  {
   "cell_type": "code",
   "execution_count": 45,
   "id": "7678458b",
   "metadata": {},
   "outputs": [],
   "source": [
    "rec3 <- t(maxmatmul(maxPCAX3P3$reconstr_matrix, t(exp(X3))))"
   ]
  },
  {
   "cell_type": "code",
   "execution_count": 46,
   "id": "be942392",
   "metadata": {},
   "outputs": [
    {
     "name": "stderr",
     "output_type": "stream",
     "text": [
      "\u001b[1m\u001b[22mJoining with `by = join_by(X1, X2, X3, X4, X5, is_rec)`\n"
     ]
    }
   ],
   "source": [
    "datX3 <- data.frame(exp(X3))\n",
    "datX3$is_rec = \"original\"\n",
    "datrec3 <- data.frame(rec3)\n",
    "datrec3$is_rec = \"reconstruction\"\n",
    "names(datrec3) <- names(datX3)\n",
    "plot_datX3 <- full_join(datX3, datrec3)"
   ]
  },
  {
   "cell_type": "code",
   "execution_count": 47,
   "id": "e465a579",
   "metadata": {},
   "outputs": [
    {
     "data": {
      "image/png": "[encoded data removed]",
      "text/plain": [
       "plot without title"
      ]
     },
     "metadata": {
      "image/png": {
       "height": 420,
       "width": 420
      }
     },
     "output_type": "display_data"
    }
   ],
   "source": [
    "p3 <- ggpairs(\n",
    "    plot_datX3, \n",
    "    aes(color = is_rec, shape = is_rec, size = 2),\n",
    "    columns = c(2,4,5,1,3),\n",
    "    upper = list(continuous = \"points\", combo = \"dot_no_facet\"),\n",
    "    diag = list(continuous = \"blankDiag\", discrete = \"barDiag\", na = \"naDiag\")\n",
    ") + \n",
    "theme_light() +\n",
    "theme(axis.text.x = element_text(angle = 45, vjust = 1, hjust=1))\n",
    "\n",
    "p3"
   ]
  },
  {
   "cell_type": "code",
   "execution_count": 48,
   "id": "42185b47",
   "metadata": {},
   "outputs": [
    {
     "name": "stderr",
     "output_type": "stream",
     "text": [
      "\u001b[1m\u001b[22mSaving 7 x 7 in image\n"
     ]
    }
   ],
   "source": [
    "ggsave(\"logistic_deplow.png\", p3)"
   ]
  }
 ],
 "metadata": {
  "kernelspec": {
   "display_name": "R",
   "language": "R",
   "name": "ir"
  },
  "language_info": {
   "codemirror_mode": "r",
   "file_extension": ".r",
   "mimetype": "text/x-r-source",
   "name": "R",
   "pygments_lexer": "r",
   "version": "4.5.1"
  }
 },
 "nbformat": 4,
 "nbformat_minor": 5
}
