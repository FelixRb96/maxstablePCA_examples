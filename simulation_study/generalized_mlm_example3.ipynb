{
 "cells": [
  {
   "cell_type": "markdown",
   "id": "314e32e1",
   "metadata": {},
   "source": [
    "# Generalized MLM distribution simulation"
   ]
  },
  {
   "cell_type": "code",
   "execution_count": 1,
   "id": "0d9d33da",
   "metadata": {},
   "outputs": [
    {
     "name": "stderr",
     "output_type": "stream",
     "text": [
      "\n",
      "Attaching package: ‘dplyr’\n",
      "\n",
      "\n",
      "The following objects are masked from ‘package:stats’:\n",
      "\n",
      "    filter, lag\n",
      "\n",
      "\n",
      "The following objects are masked from ‘package:base’:\n",
      "\n",
      "    intersect, setdiff, setequal, union\n",
      "\n",
      "\n",
      "Registered S3 method overwritten by 'GGally':\n",
      "  method from   \n",
      "  +.gg   ggplot2\n",
      "\n"
     ]
    }
   ],
   "source": [
    "library(evd)\n",
    "library(maxstablePCA)\n",
    "library(ggplot2)\n",
    "library(dplyr)\n",
    "library(GGally)\n",
    "library(graphicalExtremes)"
   ]
  },
  {
   "cell_type": "markdown",
   "id": "8976d3bc",
   "metadata": {},
   "source": [
    "### setup parameters and simulate data"
   ]
  },
  {
   "cell_type": "code",
   "execution_count": 2,
   "id": "63a98c69",
   "metadata": {},
   "outputs": [],
   "source": [
    "set.seed(74106)\n",
    "s <- 500\n",
    "n <- 100000"
   ]
  },
  {
   "cell_type": "code",
   "execution_count": 3,
   "id": "e1af8744",
   "metadata": {},
   "outputs": [],
   "source": [
    "Z <- rmvevd(n, dep = .8, model = \"log\", d = 3, mar = c(1,1,1))"
   ]
  },
  {
   "cell_type": "code",
   "execution_count": 4,
   "id": "6c58056f",
   "metadata": {},
   "outputs": [],
   "source": [
    "A <- matrix(NA, 6, 3)\n",
    "A[1:3, ] <- matrix(c(\n",
    "    0.9, 0.1, 0.3, 0,0.9,0, 0.1, 0, 0.7\n",
    "), 3, 3)\n",
    "A[4:6, ] <- matrix(\n",
    "    c(0.3, 0.55, 0.15, \n",
    "     0.65, 0, 0.35, \n",
    "     0.3, 0.2, 0.5), \n",
    "    byrow = T, 3, 3)"
   ]
  },
  {
   "cell_type": "code",
   "execution_count": 5,
   "id": "1e3c0e07",
   "metadata": {},
   "outputs": [
    {
     "data": {
      "text/html": [
       "<table class=\"dataframe\">\n",
       "<caption>A matrix: 6 × 3 of type dbl</caption>\n",
       "<tbody>\n",
       "\t<tr><td>0.90</td><td>0.00</td><td>0.10</td></tr>\n",
       "\t<tr><td>0.10</td><td>0.90</td><td>0.00</td></tr>\n",
       "\t<tr><td>0.30</td><td>0.00</td><td>0.70</td></tr>\n",
       "\t<tr><td>0.30</td><td>0.55</td><td>0.15</td></tr>\n",
       "\t<tr><td>0.65</td><td>0.00</td><td>0.35</td></tr>\n",
       "\t<tr><td>0.30</td><td>0.20</td><td>0.50</td></tr>\n",
       "</tbody>\n",
       "</table>\n"
      ],
      "text/latex": [
       "A matrix: 6 × 3 of type dbl\n",
       "\\begin{tabular}{lll}\n",
       "\t 0.90 & 0.00 & 0.10\\\\\n",
       "\t 0.10 & 0.90 & 0.00\\\\\n",
       "\t 0.30 & 0.00 & 0.70\\\\\n",
       "\t 0.30 & 0.55 & 0.15\\\\\n",
       "\t 0.65 & 0.00 & 0.35\\\\\n",
       "\t 0.30 & 0.20 & 0.50\\\\\n",
       "\\end{tabular}\n"
      ],
      "text/markdown": [
       "\n",
       "A matrix: 6 × 3 of type dbl\n",
       "\n",
       "| 0.90 | 0.00 | 0.10 |\n",
       "| 0.10 | 0.90 | 0.00 |\n",
       "| 0.30 | 0.00 | 0.70 |\n",
       "| 0.30 | 0.55 | 0.15 |\n",
       "| 0.65 | 0.00 | 0.35 |\n",
       "| 0.30 | 0.20 | 0.50 |\n",
       "\n"
      ],
      "text/plain": [
       "     [,1] [,2] [,3]\n",
       "[1,] 0.90 0.00 0.10\n",
       "[2,] 0.10 0.90 0.00\n",
       "[3,] 0.30 0.00 0.70\n",
       "[4,] 0.30 0.55 0.15\n",
       "[5,] 0.65 0.00 0.35\n",
       "[6,] 0.30 0.20 0.50"
      ]
     },
     "metadata": {},
     "output_type": "display_data"
    }
   ],
   "source": [
    "A"
   ]
  },
  {
   "cell_type": "code",
   "execution_count": 6,
   "id": "c7c0f63d",
   "metadata": {},
   "outputs": [],
   "source": [
    "X <- t(maxmatmul(A, t(Z)))\n",
    "Xtrafo <- transform_unitpareto(X)"
   ]
  },
  {
   "cell_type": "markdown",
   "id": "ef962ee1",
   "metadata": {},
   "source": [
    "# max-stable PCA for X"
   ]
  },
  {
   "cell_type": "code",
   "execution_count": 7,
   "id": "20d0f9a2",
   "metadata": {},
   "outputs": [
    {
     "data": {
      "text/plain": [
       "    Min.  1st Qu.   Median     Mean  3rd Qu.     Max. \n",
       "     6.0      9.1     13.7     72.5     26.3 500000.0 "
      ]
     },
     "metadata": {},
     "output_type": "display_data"
    }
   ],
   "source": [
    "summary(rowSums(Xtrafo))"
   ]
  },
  {
   "cell_type": "code",
   "execution_count": 8,
   "id": "a4122820",
   "metadata": {},
   "outputs": [
    {
     "data": {
      "text/html": [
       "445"
      ],
      "text/latex": [
       "445"
      ],
      "text/markdown": [
       "445"
      ],
      "text/plain": [
       "[1] 445"
      ]
     },
     "metadata": {},
     "output_type": "display_data"
    }
   ],
   "source": [
    "length(which(apply(Xtrafo, 1, max) > s))"
   ]
  },
  {
   "cell_type": "code",
   "execution_count": 9,
   "id": "bd8c3ca2",
   "metadata": {},
   "outputs": [],
   "source": [
    "maxPCA1 <- max_stable_prcomp(Xtrafo, p = 1, s = s, n_initial_guesses = 15000, norm = \"linfty\")\n",
    "maxPCA2 <- max_stable_prcomp(Xtrafo, p = 2, s = s, n_initial_guesses = 15000, norm = \"linfty\")\n",
    "maxPCA3 <- max_stable_prcomp(Xtrafo, p = 3, s = s, n_initial_guesses = 15000, norm = \"linfty\")\n",
    "maxPCA4 <- max_stable_prcomp(Xtrafo, p = 4, s = s, n_initial_guesses = 15000, norm = \"linfty\")"
   ]
  },
  {
   "cell_type": "markdown",
   "id": "d72d6409",
   "metadata": {},
   "source": [
    "### inspect relevant output "
   ]
  },
  {
   "cell_type": "code",
   "execution_count": 10,
   "id": "262e519a",
   "metadata": {},
   "outputs": [
    {
     "data": {
      "text/plain": [
       "$p\n",
       "[1] 3\n",
       "\n",
       "$d\n",
       "[1] 6\n",
       "\n",
       "$decoder_matrix\n",
       "             [,1]         [,2]      [,3]\n",
       "[1,] 0.0006388014 0.0002403652 1.2514313\n",
       "[2,] 0.0248026137 1.4753723944 0.0904969\n",
       "[3,] 0.0063686655 0.0001515950 0.4619628\n",
       "[4,] 0.0209986019 1.1719794086 0.2770782\n",
       "[5,] 0.0011188704 0.0002227731 1.0308314\n",
       "[6,] 1.2178607613 0.2240295274 0.1593189\n",
       "\n",
       "$encoder_matrix\n",
       "          [,1]         [,2]      [,3]         [,4]      [,5]         [,6]\n",
       "[1,] 0.2080013 6.272138e-02 0.5268083 6.731328e-02 0.1878322 0.8211284622\n",
       "[2,] 0.2130230 2.465796e-01 0.1330210 8.532600e-01 0.1223144 0.0748146903\n",
       "[3,] 0.7990851 2.894971e-05 0.4129583 1.323452e-09 0.3899704 0.0003682796\n",
       "\n",
       "$reconstr_matrix\n",
       "          [,1]         [,2]      [,3]         [,4]      [,5]         [,6]\n",
       "[1,] 1.0000002 5.926915e-05 0.5167890 0.0002050940 0.4880211 0.0005245380\n",
       "[2,] 0.3142882 3.637967e-01 0.1962555 1.2588762297 0.1804592 0.1103795288\n",
       "[3,] 0.3691476 3.994515e-04 0.1907714 0.0004286958 0.1801518 0.0052294925\n",
       "[4,] 0.2496585 2.889862e-01 0.1558979 1.0000031346 0.1433499 0.0876812765\n",
       "[5,] 0.8237220 7.017710e-05 0.4256904 0.0001900834 0.4019937 0.0009187363\n",
       "[6,] 0.2533166 7.638591e-02 0.6415792 0.1911554316 0.2287535 1.0000201341\n",
       "\n",
       "$loss_fctn_value\n",
       "[1] 1.281331\n",
       "\n",
       "$optim_conv_status\n",
       "[1] 4\n",
       "\n",
       "$s\n",
       "[1] 500\n",
       "\n",
       "$starting_vals\n",
       "$starting_vals$decoder_matrix_x0\n",
       "          [,1]      [,2]      [,3]\n",
       "[1,] 0.2995246 0.5134026 1.0000000\n",
       "[2,] 1.0000000 0.1774049 0.2652285\n",
       "[3,] 0.1572006 0.1731073 0.5994293\n",
       "[4,] 0.4561850 1.0000000 0.2770782\n",
       "[5,] 0.2584193 0.4864326 0.9808092\n",
       "[6,] 0.9269911 0.2393591 0.1593189\n",
       "\n",
       "$starting_vals$encoder_matrix_x0\n",
       "          [,1]      [,2]      [,3]      [,4]      [,5]      [,6]\n",
       "[1,] 0.2080013 0.6283391 0.4814396 0.6225814 0.3929762 0.9681972\n",
       "[2,] 0.5737866 0.2465796 0.1365112 0.5418524 0.3055633 0.6264692\n",
       "[3,] 0.9953439 0.1777443 0.3705758 0.3017796 0.3842456 0.3320637\n",
       "\n",
       "\n",
       "attr(,\"class\")\n",
       "[1] \"max_stable_prcomp\""
      ]
     },
     "metadata": {},
     "output_type": "display_data"
    }
   ],
   "source": [
    "maxPCA3"
   ]
  },
  {
   "cell_type": "code",
   "execution_count": 11,
   "id": "e7fd63eb",
   "metadata": {},
   "outputs": [
    {
     "data": {
      "text/html": [
       "4"
      ],
      "text/latex": [
       "4"
      ],
      "text/markdown": [
       "4"
      ],
      "text/plain": [
       "[1] 4"
      ]
     },
     "metadata": {},
     "output_type": "display_data"
    }
   ],
   "source": [
    "maxPCA3$optim_conv_status"
   ]
  },
  {
   "cell_type": "markdown",
   "id": "2f2ef693",
   "metadata": {},
   "source": [
    "### report rounded estimated matrices"
   ]
  },
  {
   "cell_type": "code",
   "execution_count": 12,
   "id": "df66243a",
   "metadata": {},
   "outputs": [
    {
     "data": {
      "text/html": [
       "<table class=\"dataframe\">\n",
       "<caption>A matrix: 6 × 3 of type dbl</caption>\n",
       "<tbody>\n",
       "\t<tr><td>0.00</td><td>0.00</td><td>1.25</td></tr>\n",
       "\t<tr><td>0.02</td><td>1.48</td><td>0.09</td></tr>\n",
       "\t<tr><td>0.01</td><td>0.00</td><td>0.46</td></tr>\n",
       "\t<tr><td>0.02</td><td>1.17</td><td>0.28</td></tr>\n",
       "\t<tr><td>0.00</td><td>0.00</td><td>1.03</td></tr>\n",
       "\t<tr><td>1.22</td><td>0.22</td><td>0.16</td></tr>\n",
       "</tbody>\n",
       "</table>\n"
      ],
      "text/latex": [
       "A matrix: 6 × 3 of type dbl\n",
       "\\begin{tabular}{lll}\n",
       "\t 0.00 & 0.00 & 1.25\\\\\n",
       "\t 0.02 & 1.48 & 0.09\\\\\n",
       "\t 0.01 & 0.00 & 0.46\\\\\n",
       "\t 0.02 & 1.17 & 0.28\\\\\n",
       "\t 0.00 & 0.00 & 1.03\\\\\n",
       "\t 1.22 & 0.22 & 0.16\\\\\n",
       "\\end{tabular}\n"
      ],
      "text/markdown": [
       "\n",
       "A matrix: 6 × 3 of type dbl\n",
       "\n",
       "| 0.00 | 0.00 | 1.25 |\n",
       "| 0.02 | 1.48 | 0.09 |\n",
       "| 0.01 | 0.00 | 0.46 |\n",
       "| 0.02 | 1.17 | 0.28 |\n",
       "| 0.00 | 0.00 | 1.03 |\n",
       "| 1.22 | 0.22 | 0.16 |\n",
       "\n"
      ],
      "text/plain": [
       "     [,1] [,2] [,3]\n",
       "[1,] 0.00 0.00 1.25\n",
       "[2,] 0.02 1.48 0.09\n",
       "[3,] 0.01 0.00 0.46\n",
       "[4,] 0.02 1.17 0.28\n",
       "[5,] 0.00 0.00 1.03\n",
       "[6,] 1.22 0.22 0.16"
      ]
     },
     "metadata": {},
     "output_type": "display_data"
    }
   ],
   "source": [
    "round(maxPCA3$decoder_matrix, 2)"
   ]
  },
  {
   "cell_type": "code",
   "execution_count": 13,
   "id": "409346ba",
   "metadata": {},
   "outputs": [
    {
     "data": {
      "text/html": [
       "<table class=\"dataframe\">\n",
       "<caption>A matrix: 3 × 6 of type dbl</caption>\n",
       "<tbody>\n",
       "\t<tr><td>0.21</td><td>0.06</td><td>0.53</td><td>0.07</td><td>0.19</td><td>0.82</td></tr>\n",
       "\t<tr><td>0.21</td><td>0.25</td><td>0.13</td><td>0.85</td><td>0.12</td><td>0.07</td></tr>\n",
       "\t<tr><td>0.80</td><td>0.00</td><td>0.41</td><td>0.00</td><td>0.39</td><td>0.00</td></tr>\n",
       "</tbody>\n",
       "</table>\n"
      ],
      "text/latex": [
       "A matrix: 3 × 6 of type dbl\n",
       "\\begin{tabular}{llllll}\n",
       "\t 0.21 & 0.06 & 0.53 & 0.07 & 0.19 & 0.82\\\\\n",
       "\t 0.21 & 0.25 & 0.13 & 0.85 & 0.12 & 0.07\\\\\n",
       "\t 0.80 & 0.00 & 0.41 & 0.00 & 0.39 & 0.00\\\\\n",
       "\\end{tabular}\n"
      ],
      "text/markdown": [
       "\n",
       "A matrix: 3 × 6 of type dbl\n",
       "\n",
       "| 0.21 | 0.06 | 0.53 | 0.07 | 0.19 | 0.82 |\n",
       "| 0.21 | 0.25 | 0.13 | 0.85 | 0.12 | 0.07 |\n",
       "| 0.80 | 0.00 | 0.41 | 0.00 | 0.39 | 0.00 |\n",
       "\n"
      ],
      "text/plain": [
       "     [,1] [,2] [,3] [,4] [,5] [,6]\n",
       "[1,] 0.21 0.06 0.53 0.07 0.19 0.82\n",
       "[2,] 0.21 0.25 0.13 0.85 0.12 0.07\n",
       "[3,] 0.80 0.00 0.41 0.00 0.39 0.00"
      ]
     },
     "metadata": {},
     "output_type": "display_data"
    }
   ],
   "source": [
    "round(maxPCA3$encoder_matrix, 2)"
   ]
  },
  {
   "cell_type": "code",
   "execution_count": 14,
   "id": "7042493c",
   "metadata": {},
   "outputs": [
    {
     "data": {
      "text/html": [
       "<table class=\"dataframe\">\n",
       "<caption>A matrix: 6 × 6 of type dbl</caption>\n",
       "<tbody>\n",
       "\t<tr><td>1.00</td><td>0.00</td><td>0.52</td><td>0.00</td><td>0.49</td><td>0.00</td></tr>\n",
       "\t<tr><td>0.31</td><td>0.36</td><td>0.20</td><td>1.26</td><td>0.18</td><td>0.11</td></tr>\n",
       "\t<tr><td>0.37</td><td>0.00</td><td>0.19</td><td>0.00</td><td>0.18</td><td>0.01</td></tr>\n",
       "\t<tr><td>0.25</td><td>0.29</td><td>0.16</td><td>1.00</td><td>0.14</td><td>0.09</td></tr>\n",
       "\t<tr><td>0.82</td><td>0.00</td><td>0.43</td><td>0.00</td><td>0.40</td><td>0.00</td></tr>\n",
       "\t<tr><td>0.25</td><td>0.08</td><td>0.64</td><td>0.19</td><td>0.23</td><td>1.00</td></tr>\n",
       "</tbody>\n",
       "</table>\n"
      ],
      "text/latex": [
       "A matrix: 6 × 6 of type dbl\n",
       "\\begin{tabular}{llllll}\n",
       "\t 1.00 & 0.00 & 0.52 & 0.00 & 0.49 & 0.00\\\\\n",
       "\t 0.31 & 0.36 & 0.20 & 1.26 & 0.18 & 0.11\\\\\n",
       "\t 0.37 & 0.00 & 0.19 & 0.00 & 0.18 & 0.01\\\\\n",
       "\t 0.25 & 0.29 & 0.16 & 1.00 & 0.14 & 0.09\\\\\n",
       "\t 0.82 & 0.00 & 0.43 & 0.00 & 0.40 & 0.00\\\\\n",
       "\t 0.25 & 0.08 & 0.64 & 0.19 & 0.23 & 1.00\\\\\n",
       "\\end{tabular}\n"
      ],
      "text/markdown": [
       "\n",
       "A matrix: 6 × 6 of type dbl\n",
       "\n",
       "| 1.00 | 0.00 | 0.52 | 0.00 | 0.49 | 0.00 |\n",
       "| 0.31 | 0.36 | 0.20 | 1.26 | 0.18 | 0.11 |\n",
       "| 0.37 | 0.00 | 0.19 | 0.00 | 0.18 | 0.01 |\n",
       "| 0.25 | 0.29 | 0.16 | 1.00 | 0.14 | 0.09 |\n",
       "| 0.82 | 0.00 | 0.43 | 0.00 | 0.40 | 0.00 |\n",
       "| 0.25 | 0.08 | 0.64 | 0.19 | 0.23 | 1.00 |\n",
       "\n"
      ],
      "text/plain": [
       "     [,1] [,2] [,3] [,4] [,5] [,6]\n",
       "[1,] 1.00 0.00 0.52 0.00 0.49 0.00\n",
       "[2,] 0.31 0.36 0.20 1.26 0.18 0.11\n",
       "[3,] 0.37 0.00 0.19 0.00 0.18 0.01\n",
       "[4,] 0.25 0.29 0.16 1.00 0.14 0.09\n",
       "[5,] 0.82 0.00 0.43 0.00 0.40 0.00\n",
       "[6,] 0.25 0.08 0.64 0.19 0.23 1.00"
      ]
     },
     "metadata": {},
     "output_type": "display_data"
    }
   ],
   "source": [
    "round(maxPCA3$reconstr_matrix, 2)"
   ]
  },
  {
   "cell_type": "markdown",
   "id": "87046b65",
   "metadata": {},
   "source": [
    "# Elbow plot for reconstruction error "
   ]
  },
  {
   "cell_type": "code",
   "execution_count": 15,
   "id": "572f514d",
   "metadata": {},
   "outputs": [
    {
     "data": {
      "image/png": "[encoded data removed]",
      "text/plain": [
       "plot without title"
      ]
     },
     "metadata": {
      "image/png": {
       "height": 420,
       "width": 420
      }
     },
     "output_type": "display_data"
    }
   ],
   "source": [
    "plotdat <- data.frame(p = 1:4, losses = c(\n",
    "    maxPCA1$loss_fctn_value,\n",
    "    maxPCA2$loss_fctn_value,\n",
    "    maxPCA3$loss_fctn_value,\n",
    "    maxPCA4$loss_fctn_value   \n",
    "))\n",
    "\n",
    "pe <- ggplot(aes(x = p, y = losses), data = plotdat) + geom_line() + geom_point() + theme_minimal()\n",
    "pe"
   ]
  },
  {
   "cell_type": "code",
   "execution_count": 16,
   "id": "d38140ce",
   "metadata": {},
   "outputs": [
    {
     "name": "stderr",
     "output_type": "stream",
     "text": [
      "\u001b[1m\u001b[22mSaving 6.67 x 6.67 in image\n"
     ]
    }
   ],
   "source": [
    "ggsave(\"genmlm_elbow.pdf\", pe)"
   ]
  },
  {
   "cell_type": "markdown",
   "id": "0ca2fa2c",
   "metadata": {},
   "source": [
    "# pairplot to visually inspect reconstruction"
   ]
  },
  {
   "cell_type": "code",
   "execution_count": 17,
   "id": "87c7877b",
   "metadata": {},
   "outputs": [
    {
     "name": "stderr",
     "output_type": "stream",
     "text": [
      "\u001b[1m\u001b[22mJoining with `by = join_by(X1, X2, X3, X4, X5, X6, is_rec)`\n"
     ]
    }
   ],
   "source": [
    "datX <- data.frame(X)\n",
    "rec <- t(maxmatmul(maxPCA3$reconstr_matrix, t(as.matrix(datX))))\n",
    "datX$is_rec = \"original\"\n",
    "datrec <- data.frame(rec)\n",
    "datrec$is_rec = \"reconstruction\"\n",
    "names(datrec) <- names(datX)\n",
    "plot_datX <- full_join(datX, datrec)"
   ]
  },
  {
   "cell_type": "code",
   "execution_count": 18,
   "id": "c1d6cf49",
   "metadata": {},
   "outputs": [
    {
     "data": {
      "image/png": "[encoded data removed]",
      "text/plain": [
       "plot without title"
      ]
     },
     "metadata": {
      "image/png": {
       "height": 420,
       "width": 420
      }
     },
     "output_type": "display_data"
    }
   ],
   "source": [
    "p <- ggpairs(\n",
    "    plot_datX, \n",
    "    aes(color = is_rec, shape = is_rec, size = 2),\n",
    "    columns = 1:6,\n",
    "    upper = list(continuous = \"points\", combo = \"dot_no_facet\"),\n",
    "    diag = list(continuous = \"blankDiag\", discrete = \"barDiag\", na = \"naDiag\")\n",
    ") + \n",
    "theme_light() +\n",
    "theme(axis.text.x = element_text(angle = 45, vjust = 1, hjust=1))\n",
    "\n",
    "p"
   ]
  },
  {
   "cell_type": "markdown",
   "id": "e6a48ec8",
   "metadata": {},
   "source": [
    "# Comparison to other methodologies "
   ]
  },
  {
   "cell_type": "code",
   "execution_count": 19,
   "id": "c900b40f",
   "metadata": {},
   "outputs": [],
   "source": [
    "Xsphere1 <- t(apply(Xtrafo, 1, function(z) z / max(z)))\n",
    "Xsphere1 <- Xsphere1[which(apply(Xtrafo, 1, max) > s), ]"
   ]
  },
  {
   "cell_type": "code",
   "execution_count": 20,
   "id": "50c8404b",
   "metadata": {},
   "outputs": [
    {
     "data": {
      "text/plain": [
       "eigen() decomposition\n",
       "$values\n",
       "[1] 3.001739000 0.964455989 0.468578109 0.017399635 0.005016439 0.004077910\n",
       "\n",
       "$vectors\n",
       "           [,1]        [,2]         [,3]       [,4]        [,5]       [,6]\n",
       "[1,] -0.4477489  0.28515331 -0.636785311  0.2302264 -0.49341797 -0.1274656\n",
       "[2,] -0.3411156 -0.74428866 -0.007649961  0.5097657  0.06073497  0.2570334\n",
       "[3,] -0.4238215  0.28685916  0.621187050  0.3719062  0.04122577 -0.4606518\n",
       "[4,] -0.3755067 -0.42963551 -0.085405210 -0.6179901  0.05164191 -0.5315405\n",
       "[5,] -0.4426927  0.30289770 -0.228332315 -0.0901635  0.75629065  0.2829054\n",
       "[6,] -0.4081106  0.07810318  0.386190238 -0.3984712 -0.42012851  0.5855899\n"
      ]
     },
     "metadata": {},
     "output_type": "display_data"
    }
   ],
   "source": [
    "specdecomp1 <- eigen(s / n * t(Xsphere1) %*% Xsphere1)\n",
    "specdecomp1"
   ]
  },
  {
   "cell_type": "code",
   "execution_count": 21,
   "id": "75c93172",
   "metadata": {},
   "outputs": [
    {
     "name": "stderr",
     "output_type": "stream",
     "text": [
      "\u001b[1m\u001b[22mJoining with `by = join_by(X1, X2, X3, X4, X5, X6)`\n"
     ]
    }
   ],
   "source": [
    "rec1 <- X %*% specdecomp1$vectors[1:6, 1:3] %*% t(specdecomp1$vectors[1:6, 1:3])\n",
    "\n",
    "plotdat_DS1 <- data.frame(X)\n",
    "tmp <- data.frame(rec1)\n",
    "plotdat_DS1 <- full_join(plotdat_DS1, tmp)\n",
    "plotdat_DS1$is_rec <- c(rep(F, 10000), rep(T, 10000))"
   ]
  },
  {
   "cell_type": "code",
   "execution_count": 22,
   "id": "0229cc5c",
   "metadata": {},
   "outputs": [
    {
     "data": {
      "image/png": "[encoded data removed]",
      "text/plain": [
       "plot without title"
      ]
     },
     "metadata": {
      "image/png": {
       "height": 420,
       "width": 420
      }
     },
     "output_type": "display_data"
    }
   ],
   "source": [
    "p <- ggpairs(\n",
    "    plotdat_DS1, \n",
    "    aes(color = is_rec, shape = is_rec, size = 2),\n",
    "    columns = 1:6,\n",
    "    upper = list(continuous = \"points\", combo = \"dot_no_facet\"),\n",
    "    diag = list(continuous = \"blankDiag\", discrete = \"barDiag\", na = \"naDiag\")\n",
    ") + \n",
    "theme_light() +\n",
    "theme(axis.text.x = element_text(angle = 45, vjust = 1, hjust=1))\n",
    "\n",
    "p"
   ]
  },
  {
   "cell_type": "code",
   "execution_count": 23,
   "id": "ee13a594",
   "metadata": {},
   "outputs": [
    {
     "data": {
      "image/png": "[encoded data removed]",
      "text/plain": [
       "plot without title"
      ]
     },
     "metadata": {
      "image/png": {
       "height": 420,
       "width": 420
      }
     },
     "output_type": "display_data"
    }
   ],
   "source": [
    "screeplotdat <- data.frame(p = 1:6, eigenvals = specdecomp1$values)\n",
    "\n",
    "ggplot(aes(x = p, y = eigenvals), data = screeplotdat) + \n",
    "geom_line() + \n",
    "theme_minimal()"
   ]
  },
  {
   "cell_type": "markdown",
   "id": "d57dd2d3",
   "metadata": {},
   "source": [
    "# Spherical K-means"
   ]
  },
  {
   "cell_type": "code",
   "execution_count": 24,
   "id": "96b3d1a0",
   "metadata": {},
   "outputs": [],
   "source": [
    "library(skmeans)"
   ]
  },
  {
   "cell_type": "code",
   "execution_count": 25,
   "id": "ee0510bc",
   "metadata": {},
   "outputs": [],
   "source": [
    "kmeanserrs = data.frame(k = 1:6, errs = NA)\n",
    "kmeansclusterings = list()\n",
    "for(k in 2:6) {\n",
    "    tmp <- skmeans::skmeans(X[which(rowSums(X) > 250), ], k = k)\n",
    "    kmeansclusterings[[k]] <- tmp\n",
    "    kmeanserrs[k,2] <- tmp$value\n",
    "}"
   ]
  },
  {
   "cell_type": "code",
   "execution_count": 26,
   "id": "88b09b52",
   "metadata": {},
   "outputs": [
    {
     "name": "stderr",
     "output_type": "stream",
     "text": [
      "Warning message:\n",
      "“\u001b[1m\u001b[22mRemoved 1 row containing missing values or values outside the scale range\n",
      "(`geom_line()`).”\n"
     ]
    },
    {
     "data": {
      "image/png": "[encoded data removed]",
      "text/plain": [
       "plot without title"
      ]
     },
     "metadata": {
      "image/png": {
       "height": 420,
       "width": 420
      }
     },
     "output_type": "display_data"
    }
   ],
   "source": [
    "ggplot(aes(x = k, y = errs), data = kmeanserrs) + \n",
    "geom_line() +\n",
    "theme_minimal()"
   ]
  },
  {
   "cell_type": "markdown",
   "id": "0620e5cd",
   "metadata": {},
   "source": [
    "### Cooley PCA"
   ]
  },
  {
   "cell_type": "code",
   "execution_count": 27,
   "id": "fe07d5aa",
   "metadata": {},
   "outputs": [],
   "source": [
    "# Tail pairwise dependence matrix code by Yiang \n",
    "\n",
    "decls <- function(x, th, k) {\n",
    "    ## Ordinary decluster.\n",
    "    id.big <- which(x > th)\n",
    "    id.dif <- diff(id.big)\n",
    "    tick <- which(id.dif >= k)\n",
    "    start <- id.big[c(1, tick + 1)]              # Where a new cluster begins\n",
    "    end <- c(id.big[tick], last(id.big, 1))\n",
    "    n <- length(start)\n",
    "    id.res <- rep(0, n)\n",
    "    for ( i in 1 : n) {\n",
    "        temp <- x[start[i] : end[i]]\n",
    "        id.res[i] <- which(temp == max(temp, na.rm = TRUE))[1] + start[i] - 1\n",
    "    }\n",
    "    id.res\n",
    "}\n",
    "\n",
    "rw.Sigma <- function(X, u = 0.98, decluster = F) {\n",
    "    ## Compute TPDM\n",
    "    P <- ncol(X)                      # Number of stations\n",
    "    M <- nrow(X)                      # Number of obs\n",
    "    Sigma <- matrix(0, P, P)\n",
    "    for ( i in 1 : P) {\n",
    "        if (i %% 5 == 0) print(i)\n",
    "        for ( j in 1 : P) {\n",
    "            r <- sqrt(X[, i] ^ 2 + X[, j] ^ 2)\n",
    "            w1 <- X[, i] / r\n",
    "            w2 <- X[, j] / r\n",
    "            th <- quantile(r, u, na.rm = TRUE)\n",
    "            if(decluster) {\n",
    "                id <- decls(r, th, 5)\n",
    "            } else {\n",
    "                id <- which(r > th)\n",
    "            } \n",
    "            Sigma[i, j] <- sum(w1[id] * w2[id], na.rm = TRUE) / (length(id)) * 2\n",
    "        }\n",
    "    }\n",
    "    Sigma\n",
    "}\n",
    "\n",
    "ecdf_shifted <- function(z) length(z) / (length(z) + 1) * ecdf(z)(z) + 1 / (length(z) + 1)"
   ]
  },
  {
   "cell_type": "code",
   "execution_count": 28,
   "id": "7db7199f",
   "metadata": {},
   "outputs": [],
   "source": [
    "# Transform data to approximately 2-Fréchet margins \n",
    "Xtrafo_2frech <- apply(Xtrafo, 2, function(z) sqrt(-log(ecdf_shifted(z))))"
   ]
  },
  {
   "cell_type": "code",
   "execution_count": 29,
   "id": "1fb67294",
   "metadata": {},
   "outputs": [
    {
     "name": "stdout",
     "output_type": "stream",
     "text": [
      "[1] 5\n"
     ]
    }
   ],
   "source": [
    "tpdm <- rw.Sigma(Xtrafo_2frech)\n",
    "# tpdm <- nearPD(tpdm)$mat"
   ]
  },
  {
   "cell_type": "code",
   "execution_count": 30,
   "id": "5f438ac1",
   "metadata": {},
   "outputs": [],
   "source": [
    "specdecomp_cy <- eigen(tpdm)"
   ]
  },
  {
   "cell_type": "code",
   "execution_count": 31,
   "id": "2e4c4b0c",
   "metadata": {},
   "outputs": [
    {
     "data": {
      "text/plain": [
       "eigen() decomposition\n",
       "$values\n",
       "[1] 5.700869486 0.188882969 0.082634985 0.015411284 0.007351770 0.004849506\n",
       "\n",
       "$vectors\n",
       "           [,1]       [,2]        [,3]       [,4]        [,5]       [,6]\n",
       "[1,] -0.4066608 -0.2916656  0.68573005 -0.2363810  0.37942614 -0.2819438\n",
       "[2,] -0.3964198  0.7277114  0.03414941 -0.4844911 -0.02302687  0.2772352\n",
       "[3,] -0.4085874 -0.3319048 -0.52987849 -0.4229809 -0.30530594 -0.4123103\n",
       "[4,] -0.4115203  0.3737053  0.06620205  0.6431063 -0.22368195 -0.4722217\n",
       "[5,] -0.4122247 -0.3537556  0.20180773  0.1931060 -0.50504389  0.6097887\n",
       "[6,] -0.4138316 -0.1020189 -0.45025307  0.2821415  0.67615893  0.2807365\n"
      ]
     },
     "metadata": {},
     "output_type": "display_data"
    }
   ],
   "source": [
    "specdecomp_cy"
   ]
  },
  {
   "cell_type": "code",
   "execution_count": 32,
   "id": "5bf21dfe",
   "metadata": {},
   "outputs": [
    {
     "name": "stderr",
     "output_type": "stream",
     "text": [
      "\u001b[1m\u001b[22mSaving 6.67 x 6.67 in image\n"
     ]
    },
    {
     "data": {
      "image/png": "[encoded data removed]",
      "text/plain": [
       "plot without title"
      ]
     },
     "metadata": {
      "image/png": {
       "height": 420,
       "width": 420
      }
     },
     "output_type": "display_data"
    }
   ],
   "source": [
    "elbow_dat_cy <- data.frame(p = 1:6, eigenvals = specdecomp_cy$values)\n",
    "elbow_cy <- ggplot(aes(x = p, y = eigenvals), data = elbow_dat_cy) +\n",
    "geom_line() + \n",
    "geom_point () + \n",
    "theme_minimal()\n",
    "\n",
    "ggsave(\"elbow_epca_cy_genmlm.pdf\", elbow_cy)\n",
    "elbow_cy"
   ]
  }
 ],
 "metadata": {
  "kernelspec": {
   "display_name": "R",
   "language": "R",
   "name": "ir"
  },
  "language_info": {
   "codemirror_mode": "r",
   "file_extension": ".r",
   "mimetype": "text/x-r-source",
   "name": "R",
   "pygments_lexer": "r",
   "version": "4.4.3"
  }
 },
 "nbformat": 4,
 "nbformat_minor": 5
}
