{
 "cells": [
  {
   "cell_type": "markdown",
   "id": "70b35fcc",
   "metadata": {},
   "source": [
    "# Fitting max-stable PCA to max-linear models"
   ]
  },
  {
   "cell_type": "code",
   "execution_count": 1,
   "id": "9e1aa225",
   "metadata": {},
   "outputs": [
    {
     "name": "stderr",
     "output_type": "stream",
     "text": [
      "\n",
      "Attaching package: ‘dplyr’\n",
      "\n",
      "\n",
      "The following objects are masked from ‘package:stats’:\n",
      "\n",
      "    filter, lag\n",
      "\n",
      "\n",
      "The following objects are masked from ‘package:base’:\n",
      "\n",
      "    intersect, setdiff, setequal, union\n",
      "\n",
      "\n",
      "Loading required package: ggplot2\n",
      "\n",
      "Registered S3 method overwritten by 'GGally':\n",
      "  method from   \n",
      "  +.gg   ggplot2\n",
      "\n"
     ]
    }
   ],
   "source": [
    "library(evd)\n",
    "library(maxstablePCA)\n",
    "library(dplyr)\n",
    "library(GGally)\n",
    "library(ggplot2)"
   ]
  },
  {
   "cell_type": "code",
   "execution_count": 2,
   "id": "583b6fb8",
   "metadata": {},
   "outputs": [],
   "source": [
    "set.seed(1357)\n",
    "s <- 200"
   ]
  },
  {
   "cell_type": "code",
   "execution_count": 3,
   "id": "7a4fe472",
   "metadata": {},
   "outputs": [],
   "source": [
    "A <- matrix(\n",
    "    c(1, 1/3, 0, 1/2, 1/5, 1/4, \n",
    "      0, 2/3, 0, 1/2, 0, 1/4, \n",
    "      0, 0, 1, 0, 4/5, 1/2, \n",
    "      rep(0, 6*3)\n",
    "     ), \n",
    "    6, 6\n",
    ")"
   ]
  },
  {
   "cell_type": "code",
   "execution_count": 4,
   "id": "45d826db",
   "metadata": {},
   "outputs": [
    {
     "data": {
      "text/html": [
       "<table class=\"dataframe\">\n",
       "<caption>A matrix: 6 × 6 of type dbl</caption>\n",
       "<tbody>\n",
       "\t<tr><td>1.0000000</td><td>0.0000000</td><td>0.0</td><td>0</td><td>0</td><td>0</td></tr>\n",
       "\t<tr><td>0.3333333</td><td>0.6666667</td><td>0.0</td><td>0</td><td>0</td><td>0</td></tr>\n",
       "\t<tr><td>0.0000000</td><td>0.0000000</td><td>1.0</td><td>0</td><td>0</td><td>0</td></tr>\n",
       "\t<tr><td>0.5000000</td><td>0.5000000</td><td>0.0</td><td>0</td><td>0</td><td>0</td></tr>\n",
       "\t<tr><td>0.2000000</td><td>0.0000000</td><td>0.8</td><td>0</td><td>0</td><td>0</td></tr>\n",
       "\t<tr><td>0.2500000</td><td>0.2500000</td><td>0.5</td><td>0</td><td>0</td><td>0</td></tr>\n",
       "</tbody>\n",
       "</table>\n"
      ],
      "text/latex": [
       "A matrix: 6 × 6 of type dbl\n",
       "\\begin{tabular}{llllll}\n",
       "\t 1.0000000 & 0.0000000 & 0.0 & 0 & 0 & 0\\\\\n",
       "\t 0.3333333 & 0.6666667 & 0.0 & 0 & 0 & 0\\\\\n",
       "\t 0.0000000 & 0.0000000 & 1.0 & 0 & 0 & 0\\\\\n",
       "\t 0.5000000 & 0.5000000 & 0.0 & 0 & 0 & 0\\\\\n",
       "\t 0.2000000 & 0.0000000 & 0.8 & 0 & 0 & 0\\\\\n",
       "\t 0.2500000 & 0.2500000 & 0.5 & 0 & 0 & 0\\\\\n",
       "\\end{tabular}\n"
      ],
      "text/markdown": [
       "\n",
       "A matrix: 6 × 6 of type dbl\n",
       "\n",
       "| 1.0000000 | 0.0000000 | 0.0 | 0 | 0 | 0 |\n",
       "| 0.3333333 | 0.6666667 | 0.0 | 0 | 0 | 0 |\n",
       "| 0.0000000 | 0.0000000 | 1.0 | 0 | 0 | 0 |\n",
       "| 0.5000000 | 0.5000000 | 0.0 | 0 | 0 | 0 |\n",
       "| 0.2000000 | 0.0000000 | 0.8 | 0 | 0 | 0 |\n",
       "| 0.2500000 | 0.2500000 | 0.5 | 0 | 0 | 0 |\n",
       "\n"
      ],
      "text/plain": [
       "     [,1]      [,2]      [,3] [,4] [,5] [,6]\n",
       "[1,] 1.0000000 0.0000000 0.0  0    0    0   \n",
       "[2,] 0.3333333 0.6666667 0.0  0    0    0   \n",
       "[3,] 0.0000000 0.0000000 1.0  0    0    0   \n",
       "[4,] 0.5000000 0.5000000 0.0  0    0    0   \n",
       "[5,] 0.2000000 0.0000000 0.8  0    0    0   \n",
       "[6,] 0.2500000 0.2500000 0.5  0    0    0   "
      ]
     },
     "metadata": {},
     "output_type": "display_data"
    }
   ],
   "source": [
    "A"
   ]
  },
  {
   "cell_type": "code",
   "execution_count": 5,
   "id": "e3bbbf05",
   "metadata": {},
   "outputs": [
    {
     "name": "stderr",
     "output_type": "stream",
     "text": [
      "Loading required package: iterators\n",
      "\n",
      "Loading required package: parallel\n",
      "\n"
     ]
    }
   ],
   "source": [
    "library(foreach)\n",
    "library(doParallel)\n",
    "\n",
    "#setup parallel backend to use many processors\n",
    "cores=detectCores()\n",
    "cl <- makeCluster(cores[1]-1) #not to overload your computer\n",
    "registerDoParallel(cl)\n",
    "\n",
    "emp_errors_A <- foreach(i=1:100, .combine=c) %dopar% {\n",
    "    \n",
    "    library(evd)\n",
    "    library(maxstablePCA)\n",
    "    \n",
    "    Z <- matrix(rfrechet(60000), 10000, 6)\n",
    "    X <- t(maxmatmulC(A, t(Z)))\n",
    "    Xtrafo <- transform_unitpareto(X)\n",
    "    \n",
    "    maxPCA_curr <- max_stable_prcomp(Xtrafo, p = 3, s = s)\n",
    "    \n",
    "   emp_error_curr = maxPCA_curr$loss_fctn_value\n",
    "   emp_error_curr \n",
    "}\n",
    "\n",
    "#stop cluster\n",
    "stopCluster(cl)"
   ]
  },
  {
   "cell_type": "code",
   "execution_count": 6,
   "id": "4bbea8a4",
   "metadata": {},
   "outputs": [
    {
     "data": {
      "text/html": [
       "<style>\n",
       ".list-inline {list-style: none; margin:0; padding: 0}\n",
       ".list-inline>li {display: inline-block}\n",
       ".list-inline>li:not(:last-child)::after {content: \"\\00b7\"; padding: 0 .5ex}\n",
       "</style>\n",
       "<ol class=list-inline><li>0.376149071215389</li><li>0.451605076308289</li><li>0.428214610166595</li><li>1.36448125216393</li><li>0.233773722824113</li><li>1.35196708023194</li><li>0.43355966205625</li><li>1.52115309654552</li><li>1.47064120639674</li><li>0.18365442851789</li><li>0.132730134859521</li><li>0.138285245311323</li><li>0.150526862996994</li><li>1.36080566104077</li><li>1.32643744580456</li><li>0.544202039616169</li><li>1.3853045856379</li><li>1.57956821874329</li><li>0.410619751663019</li><li>1.52597175107637</li><li>0.391807646770577</li><li>0.152606555535557</li><li>1.42447597133836</li><li>0.352462105946649</li><li>0.332287834904879</li><li>0.169224315570658</li><li>1.48459454818703</li><li>1.53359326483686</li><li>0.15889117260946</li><li>0.421710332336712</li><li>0.372079188918267</li><li>1.41533948982135</li><li>0.385904152386757</li><li>0.459073911397817</li><li>0.390302245891799</li><li>0.139493126211399</li><li>0.142065189915757</li><li>1.51867549041134</li><li>0.580738639300217</li><li>0.139323670370189</li><li>0.284992773894413</li><li>0.119812391368584</li><li>1.43378719485532</li><li>1.52571724609201</li><li>0.146446056643795</li><li>0.124640916379276</li><li>0.387786638932001</li><li>1.51858480244283</li><li>0.199977648462559</li><li>0.25377156122431</li><li>0.232875488796071</li><li>1.36468215630702</li><li>0.120955033434187</li><li>1.46885914967999</li><li>0.154809889763165</li><li>0.601517889143867</li><li>0.147910706602561</li><li>0.128735673266268</li><li>1.41098061943638</li><li>1.39770011210328</li><li>0.620548931998248</li><li>0.440795426517576</li><li>0.614380916391702</li><li>0.351331066562242</li><li>0.15016027066343</li><li>0.133963581359168</li><li>1.41253375694497</li><li>0.347587028737943</li><li>0.364784482424053</li><li>0.44817926385518</li><li>0.37423342157612</li><li>0.189353800543519</li><li>0.0942622049303464</li><li>0.417071923955885</li><li>1.16978887123016</li><li>0.525933682314316</li><li>1.17213693625664</li><li>0.366576704783668</li><li>0.351374559618477</li><li>0.217034443813655</li><li>0.326633735815833</li><li>0.432175767713879</li><li>0.348069797578792</li><li>0.640808901368204</li><li>0.330967137544124</li><li>0.239451308530533</li><li>0.251551879324654</li><li>2.02281110844697</li><li>1.51495728521491</li><li>1.56260859894326</li><li>1.41611735800084</li><li>0.486144036499223</li><li>0.371304263361012</li><li>1.37355364743481</li><li>0.569490152279278</li><li>0.137169237283949</li><li>0.139732457912147</li><li>1.52249462101441</li><li>0.321293511940754</li><li>0.392804137078925</li></ol>\n"
      ],
      "text/latex": [
       "\\begin{enumerate*}\n",
       "\\item 0.376149071215389\n",
       "\\item 0.451605076308289\n",
       "\\item 0.428214610166595\n",
       "\\item 1.36448125216393\n",
       "\\item 0.233773722824113\n",
       "\\item 1.35196708023194\n",
       "\\item 0.43355966205625\n",
       "\\item 1.52115309654552\n",
       "\\item 1.47064120639674\n",
       "\\item 0.18365442851789\n",
       "\\item 0.132730134859521\n",
       "\\item 0.138285245311323\n",
       "\\item 0.150526862996994\n",
       "\\item 1.36080566104077\n",
       "\\item 1.32643744580456\n",
       "\\item 0.544202039616169\n",
       "\\item 1.3853045856379\n",
       "\\item 1.57956821874329\n",
       "\\item 0.410619751663019\n",
       "\\item 1.52597175107637\n",
       "\\item 0.391807646770577\n",
       "\\item 0.152606555535557\n",
       "\\item 1.42447597133836\n",
       "\\item 0.352462105946649\n",
       "\\item 0.332287834904879\n",
       "\\item 0.169224315570658\n",
       "\\item 1.48459454818703\n",
       "\\item 1.53359326483686\n",
       "\\item 0.15889117260946\n",
       "\\item 0.421710332336712\n",
       "\\item 0.372079188918267\n",
       "\\item 1.41533948982135\n",
       "\\item 0.385904152386757\n",
       "\\item 0.459073911397817\n",
       "\\item 0.390302245891799\n",
       "\\item 0.139493126211399\n",
       "\\item 0.142065189915757\n",
       "\\item 1.51867549041134\n",
       "\\item 0.580738639300217\n",
       "\\item 0.139323670370189\n",
       "\\item 0.284992773894413\n",
       "\\item 0.119812391368584\n",
       "\\item 1.43378719485532\n",
       "\\item 1.52571724609201\n",
       "\\item 0.146446056643795\n",
       "\\item 0.124640916379276\n",
       "\\item 0.387786638932001\n",
       "\\item 1.51858480244283\n",
       "\\item 0.199977648462559\n",
       "\\item 0.25377156122431\n",
       "\\item 0.232875488796071\n",
       "\\item 1.36468215630702\n",
       "\\item 0.120955033434187\n",
       "\\item 1.46885914967999\n",
       "\\item 0.154809889763165\n",
       "\\item 0.601517889143867\n",
       "\\item 0.147910706602561\n",
       "\\item 0.128735673266268\n",
       "\\item 1.41098061943638\n",
       "\\item 1.39770011210328\n",
       "\\item 0.620548931998248\n",
       "\\item 0.440795426517576\n",
       "\\item 0.614380916391702\n",
       "\\item 0.351331066562242\n",
       "\\item 0.15016027066343\n",
       "\\item 0.133963581359168\n",
       "\\item 1.41253375694497\n",
       "\\item 0.347587028737943\n",
       "\\item 0.364784482424053\n",
       "\\item 0.44817926385518\n",
       "\\item 0.37423342157612\n",
       "\\item 0.189353800543519\n",
       "\\item 0.0942622049303464\n",
       "\\item 0.417071923955885\n",
       "\\item 1.16978887123016\n",
       "\\item 0.525933682314316\n",
       "\\item 1.17213693625664\n",
       "\\item 0.366576704783668\n",
       "\\item 0.351374559618477\n",
       "\\item 0.217034443813655\n",
       "\\item 0.326633735815833\n",
       "\\item 0.432175767713879\n",
       "\\item 0.348069797578792\n",
       "\\item 0.640808901368204\n",
       "\\item 0.330967137544124\n",
       "\\item 0.239451308530533\n",
       "\\item 0.251551879324654\n",
       "\\item 2.02281110844697\n",
       "\\item 1.51495728521491\n",
       "\\item 1.56260859894326\n",
       "\\item 1.41611735800084\n",
       "\\item 0.486144036499223\n",
       "\\item 0.371304263361012\n",
       "\\item 1.37355364743481\n",
       "\\item 0.569490152279278\n",
       "\\item 0.137169237283949\n",
       "\\item 0.139732457912147\n",
       "\\item 1.52249462101441\n",
       "\\item 0.321293511940754\n",
       "\\item 0.392804137078925\n",
       "\\end{enumerate*}\n"
      ],
      "text/markdown": [
       "1. 0.376149071215389\n",
       "2. 0.451605076308289\n",
       "3. 0.428214610166595\n",
       "4. 1.36448125216393\n",
       "5. 0.233773722824113\n",
       "6. 1.35196708023194\n",
       "7. 0.43355966205625\n",
       "8. 1.52115309654552\n",
       "9. 1.47064120639674\n",
       "10. 0.18365442851789\n",
       "11. 0.132730134859521\n",
       "12. 0.138285245311323\n",
       "13. 0.150526862996994\n",
       "14. 1.36080566104077\n",
       "15. 1.32643744580456\n",
       "16. 0.544202039616169\n",
       "17. 1.3853045856379\n",
       "18. 1.57956821874329\n",
       "19. 0.410619751663019\n",
       "20. 1.52597175107637\n",
       "21. 0.391807646770577\n",
       "22. 0.152606555535557\n",
       "23. 1.42447597133836\n",
       "24. 0.352462105946649\n",
       "25. 0.332287834904879\n",
       "26. 0.169224315570658\n",
       "27. 1.48459454818703\n",
       "28. 1.53359326483686\n",
       "29. 0.15889117260946\n",
       "30. 0.421710332336712\n",
       "31. 0.372079188918267\n",
       "32. 1.41533948982135\n",
       "33. 0.385904152386757\n",
       "34. 0.459073911397817\n",
       "35. 0.390302245891799\n",
       "36. 0.139493126211399\n",
       "37. 0.142065189915757\n",
       "38. 1.51867549041134\n",
       "39. 0.580738639300217\n",
       "40. 0.139323670370189\n",
       "41. 0.284992773894413\n",
       "42. 0.119812391368584\n",
       "43. 1.43378719485532\n",
       "44. 1.52571724609201\n",
       "45. 0.146446056643795\n",
       "46. 0.124640916379276\n",
       "47. 0.387786638932001\n",
       "48. 1.51858480244283\n",
       "49. 0.199977648462559\n",
       "50. 0.25377156122431\n",
       "51. 0.232875488796071\n",
       "52. 1.36468215630702\n",
       "53. 0.120955033434187\n",
       "54. 1.46885914967999\n",
       "55. 0.154809889763165\n",
       "56. 0.601517889143867\n",
       "57. 0.147910706602561\n",
       "58. 0.128735673266268\n",
       "59. 1.41098061943638\n",
       "60. 1.39770011210328\n",
       "61. 0.620548931998248\n",
       "62. 0.440795426517576\n",
       "63. 0.614380916391702\n",
       "64. 0.351331066562242\n",
       "65. 0.15016027066343\n",
       "66. 0.133963581359168\n",
       "67. 1.41253375694497\n",
       "68. 0.347587028737943\n",
       "69. 0.364784482424053\n",
       "70. 0.44817926385518\n",
       "71. 0.37423342157612\n",
       "72. 0.189353800543519\n",
       "73. 0.0942622049303464\n",
       "74. 0.417071923955885\n",
       "75. 1.16978887123016\n",
       "76. 0.525933682314316\n",
       "77. 1.17213693625664\n",
       "78. 0.366576704783668\n",
       "79. 0.351374559618477\n",
       "80. 0.217034443813655\n",
       "81. 0.326633735815833\n",
       "82. 0.432175767713879\n",
       "83. 0.348069797578792\n",
       "84. 0.640808901368204\n",
       "85. 0.330967137544124\n",
       "86. 0.239451308530533\n",
       "87. 0.251551879324654\n",
       "88. 2.02281110844697\n",
       "89. 1.51495728521491\n",
       "90. 1.56260859894326\n",
       "91. 1.41611735800084\n",
       "92. 0.486144036499223\n",
       "93. 0.371304263361012\n",
       "94. 1.37355364743481\n",
       "95. 0.569490152279278\n",
       "96. 0.137169237283949\n",
       "97. 0.139732457912147\n",
       "98. 1.52249462101441\n",
       "99. 0.321293511940754\n",
       "100. 0.392804137078925\n",
       "\n",
       "\n"
      ],
      "text/plain": [
       "  [1] 0.3761491 0.4516051 0.4282146 1.3644813 0.2337737 1.3519671 0.4335597\n",
       "  [8] 1.5211531 1.4706412 0.1836544 0.1327301 0.1382852 0.1505269 1.3608057\n",
       " [15] 1.3264374 0.5442020 1.3853046 1.5795682 0.4106198 1.5259718 0.3918076\n",
       " [22] 0.1526066 1.4244760 0.3524621 0.3322878 0.1692243 1.4845945 1.5335933\n",
       " [29] 0.1588912 0.4217103 0.3720792 1.4153395 0.3859042 0.4590739 0.3903022\n",
       " [36] 0.1394931 0.1420652 1.5186755 0.5807386 0.1393237 0.2849928 0.1198124\n",
       " [43] 1.4337872 1.5257172 0.1464461 0.1246409 0.3877866 1.5185848 0.1999776\n",
       " [50] 0.2537716 0.2328755 1.3646822 0.1209550 1.4688591 0.1548099 0.6015179\n",
       " [57] 0.1479107 0.1287357 1.4109806 1.3977001 0.6205489 0.4407954 0.6143809\n",
       " [64] 0.3513311 0.1501603 0.1339636 1.4125338 0.3475870 0.3647845 0.4481793\n",
       " [71] 0.3742334 0.1893538 0.0942622 0.4170719 1.1697889 0.5259337 1.1721369\n",
       " [78] 0.3665767 0.3513746 0.2170344 0.3266337 0.4321758 0.3480698 0.6408089\n",
       " [85] 0.3309671 0.2394513 0.2515519 2.0228111 1.5149573 1.5626086 1.4161174\n",
       " [92] 0.4861440 0.3713043 1.3735536 0.5694902 0.1371692 0.1397325 1.5224946\n",
       " [99] 0.3212935 0.3928041"
      ]
     },
     "metadata": {},
     "output_type": "display_data"
    }
   ],
   "source": [
    "emp_errors_A"
   ]
  },
  {
   "cell_type": "code",
   "execution_count": 7,
   "id": "79dea5b6",
   "metadata": {},
   "outputs": [],
   "source": [
    "plot_dat <- data.frame(emp_errors = emp_errors_A)"
   ]
  },
  {
   "cell_type": "code",
   "execution_count": 8,
   "id": "ea14f5b9",
   "metadata": {},
   "outputs": [
    {
     "data": {
      "image/png": "[encoded data removed]",
      "text/plain": [
       "plot without title"
      ]
     },
     "metadata": {
      "image/png": {
       "height": 420,
       "width": 420
      }
     },
     "output_type": "display_data"
    }
   ],
   "source": [
    "p1 <- ggplot(aes(y = emp_errors), data = plot_dat) + \n",
    "geom_boxplot() + \n",
    "theme_minimal()\n",
    "\n",
    "p1"
   ]
  },
  {
   "cell_type": "code",
   "execution_count": 9,
   "id": "29faac58",
   "metadata": {},
   "outputs": [
    {
     "data": {
      "image/png": "[encoded data removed]",
      "text/plain": [
       "plot without title"
      ]
     },
     "metadata": {
      "image/png": {
       "height": 420,
       "width": 420
      }
     },
     "output_type": "display_data"
    }
   ],
   "source": [
    "p2 <- ggplot(aes(x = emp_errors), data = plot_dat) + \n",
    "geom_density() + \n",
    "theme_minimal()\n",
    "\n",
    "p2"
   ]
  },
  {
   "cell_type": "code",
   "execution_count": 12,
   "id": "62f70f22",
   "metadata": {},
   "outputs": [
    {
     "name": "stderr",
     "output_type": "stream",
     "text": [
      "\u001b[1m\u001b[22mSaving 6.67 x 6.67 in image\n",
      "\u001b[1m\u001b[22mSaving 6.67 x 6.67 in image\n"
     ]
    }
   ],
   "source": [
    "ggsave(\"boxplots_mlmgraphicalsim.png\", p1)\n",
    "ggsave(\"densplots_mlmgraphicalsim.png\", p2)"
   ]
  }
 ],
 "metadata": {
  "kernelspec": {
   "display_name": "R",
   "language": "R",
   "name": "ir"
  },
  "language_info": {
   "codemirror_mode": "r",
   "file_extension": ".r",
   "mimetype": "text/x-r-source",
   "name": "R",
   "pygments_lexer": "r",
   "version": "4.3.0"
  }
 },
 "nbformat": 4,
 "nbformat_minor": 5
}
