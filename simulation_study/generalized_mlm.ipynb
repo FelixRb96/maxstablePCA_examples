{
 "cells": [
  {
   "cell_type": "markdown",
   "id": "314e32e1",
   "metadata": {},
   "source": [
    "# Logistic distribution simulation"
   ]
  },
  {
   "cell_type": "code",
   "execution_count": 1,
   "id": "0d9d33da",
   "metadata": {},
   "outputs": [
    {
     "name": "stderr",
     "output_type": "stream",
     "text": [
      "\n",
      "Attaching package: ‘dplyr’\n",
      "\n",
      "\n",
      "The following objects are masked from ‘package:stats’:\n",
      "\n",
      "    filter, lag\n",
      "\n",
      "\n",
      "The following objects are masked from ‘package:base’:\n",
      "\n",
      "    intersect, setdiff, setequal, union\n",
      "\n",
      "\n",
      "Registered S3 method overwritten by 'GGally':\n",
      "  method from   \n",
      "  +.gg   ggplot2\n",
      "\n"
     ]
    }
   ],
   "source": [
    "library(evd)\n",
    "library(maxstablePCA)\n",
    "library(ggplot2)\n",
    "library(dplyr)\n",
    "library(GGally)\n",
    "library(graphicalExtremes)"
   ]
  },
  {
   "cell_type": "markdown",
   "id": "8976d3bc",
   "metadata": {},
   "source": [
    "### setup parameters and simulate data"
   ]
  },
  {
   "cell_type": "code",
   "execution_count": 2,
   "id": "63a98c69",
   "metadata": {},
   "outputs": [],
   "source": [
    "set.seed(123456789)\n",
    "s <- 250"
   ]
  },
  {
   "cell_type": "code",
   "execution_count": 3,
   "id": "e1af8744",
   "metadata": {},
   "outputs": [],
   "source": [
    "Z <- rmvevd(10000, dep = .5, model = \"log\", d = 2, mar = c(1,1,1))"
   ]
  },
  {
   "cell_type": "code",
   "execution_count": 4,
   "id": "34239e1e",
   "metadata": {},
   "outputs": [],
   "source": [
    "Z2 <- rmstable(10000, d = 2, par = matrix(c(0, .6, .6, 0), 2, 2))"
   ]
  },
  {
   "cell_type": "code",
   "execution_count": 5,
   "id": "6c58056f",
   "metadata": {},
   "outputs": [],
   "source": [
    "A <- matrix(c(0.8, 0.05, 0.6, 0.45, 0.2, 0.95, 0.4, 0.55), 4, 2)\n",
    "X <- t(maxmatmul(A, t(Z)))\n",
    "X2 <- t(maxmatmul(A, t(Z2)))"
   ]
  },
  {
   "cell_type": "code",
   "execution_count": 6,
   "id": "1e3c0e07",
   "metadata": {},
   "outputs": [
    {
     "data": {
      "text/html": [
       "<table class=\"dataframe\">\n",
       "<caption>A matrix: 4 × 2 of type dbl</caption>\n",
       "<tbody>\n",
       "\t<tr><td>0.80</td><td>0.20</td></tr>\n",
       "\t<tr><td>0.05</td><td>0.95</td></tr>\n",
       "\t<tr><td>0.60</td><td>0.40</td></tr>\n",
       "\t<tr><td>0.45</td><td>0.55</td></tr>\n",
       "</tbody>\n",
       "</table>\n"
      ],
      "text/latex": [
       "A matrix: 4 × 2 of type dbl\n",
       "\\begin{tabular}{ll}\n",
       "\t 0.80 & 0.20\\\\\n",
       "\t 0.05 & 0.95\\\\\n",
       "\t 0.60 & 0.40\\\\\n",
       "\t 0.45 & 0.55\\\\\n",
       "\\end{tabular}\n"
      ],
      "text/markdown": [
       "\n",
       "A matrix: 4 × 2 of type dbl\n",
       "\n",
       "| 0.80 | 0.20 |\n",
       "| 0.05 | 0.95 |\n",
       "| 0.60 | 0.40 |\n",
       "| 0.45 | 0.55 |\n",
       "\n"
      ],
      "text/plain": [
       "     [,1] [,2]\n",
       "[1,] 0.80 0.20\n",
       "[2,] 0.05 0.95\n",
       "[3,] 0.60 0.40\n",
       "[4,] 0.45 0.55"
      ]
     },
     "metadata": {},
     "output_type": "display_data"
    }
   ],
   "source": [
    "A"
   ]
  },
  {
   "cell_type": "code",
   "execution_count": 9,
   "id": "c7c0f63d",
   "metadata": {},
   "outputs": [],
   "source": [
    "Xtrafo <- transform_unitpareto(X)"
   ]
  },
  {
   "cell_type": "markdown",
   "id": "ef962ee1",
   "metadata": {},
   "source": [
    "# max-stable PCA for X"
   ]
  },
  {
   "cell_type": "code",
   "execution_count": 11,
   "id": "20d0f9a2",
   "metadata": {},
   "outputs": [
    {
     "data": {
      "text/plain": [
       "    Min.  1st Qu.   Median     Mean  3rd Qu.     Max. \n",
       "    4.00     5.53     8.28    39.15    16.46 40000.00 "
      ]
     },
     "metadata": {},
     "output_type": "display_data"
    }
   ],
   "source": [
    "summary(rowSums(Xtrafo))"
   ]
  },
  {
   "cell_type": "code",
   "execution_count": 12,
   "id": "a4122820",
   "metadata": {},
   "outputs": [
    {
     "data": {
      "text/html": [
       "166"
      ],
      "text/latex": [
       "166"
      ],
      "text/markdown": [
       "166"
      ],
      "text/plain": [
       "[1] 166"
      ]
     },
     "metadata": {},
     "output_type": "display_data"
    }
   ],
   "source": [
    "length(which(rowSums(Xtrafo) > s))"
   ]
  },
  {
   "cell_type": "code",
   "execution_count": 13,
   "id": "bd8c3ca2",
   "metadata": {},
   "outputs": [],
   "source": [
    "maxPCA1 <- max_stable_prcomp(Xtrafo, p = 1, s = s, n_initial_guesses = 15000)\n",
    "maxPCA2 <- max_stable_prcomp(Xtrafo, p = 2, s = s, n_initial_guesses = 15000)\n",
    "maxPCA3 <- max_stable_prcomp(Xtrafo, p = 3, s = s, n_initial_guesses = 15000)\n",
    "maxPCA4 <- max_stable_prcomp(Xtrafo, p = 4, s = s, n_initial_guesses = 15000)"
   ]
  },
  {
   "cell_type": "markdown",
   "id": "d72d6409",
   "metadata": {},
   "source": [
    "### inspect relevant output "
   ]
  },
  {
   "cell_type": "code",
   "execution_count": 14,
   "id": "262e519a",
   "metadata": {},
   "outputs": [
    {
     "data": {
      "text/plain": [
       "$p\n",
       "[1] 2\n",
       "\n",
       "$d\n",
       "[1] 4\n",
       "\n",
       "$decoder_matrix\n",
       "          [,1]      [,2]\n",
       "[1,] 1.1309407 0.1886080\n",
       "[2,] 0.0497363 1.1009284\n",
       "[3,] 0.9399330 0.6232022\n",
       "[4,] 0.7355829 0.8239992\n",
       "\n",
       "$encoder_matrix\n",
       "           [,1]       [,2]       [,3]       [,4]\n",
       "[1,] 0.88422511 0.09220151 0.10007825 0.10210594\n",
       "[2,] 0.02404776 0.90832464 0.04415476 0.06921006\n",
       "\n",
       "$reconstr_matrix\n",
       "           [,1]      [,2]       [,3]       [,4]\n",
       "[1,] 1.00000614 0.1713173 0.11318257 0.11547576\n",
       "[2,] 0.04397808 1.0000004 0.04861122 0.07619532\n",
       "[3,] 0.83111239 0.5660699 0.09406686 0.09597274\n",
       "[4,] 0.65042083 0.7484588 0.07361585 0.07510738\n",
       "\n",
       "$loss_fctn_value\n",
       "[1] 0.08985532\n",
       "\n",
       "$optim_conv_status\n",
       "[1] 4\n",
       "\n",
       "$s\n",
       "[1] 250\n",
       "\n",
       "$starting_vals\n",
       "$starting_vals$decoder_matrix_x0\n",
       "          [,1]      [,2]\n",
       "[1,] 1.0000000 0.5063524\n",
       "[2,] 0.2268462 1.0000000\n",
       "[3,] 0.7601431 0.6656747\n",
       "[4,] 0.7091768 0.5594043\n",
       "\n",
       "$starting_vals$encoder_matrix_x0\n",
       "          [,1]      [,2]      [,3]      [,4]\n",
       "[1,] 0.9238539 0.6327019 0.1000783 0.5706224\n",
       "[2,] 0.4854059 0.9951438 0.5318367 0.7954519\n",
       "\n",
       "\n",
       "attr(,\"class\")\n",
       "[1] \"max_stable_prcomp\""
      ]
     },
     "metadata": {},
     "output_type": "display_data"
    }
   ],
   "source": [
    "maxPCA2"
   ]
  },
  {
   "cell_type": "code",
   "execution_count": 15,
   "id": "e7fd63eb",
   "metadata": {},
   "outputs": [
    {
     "data": {
      "text/html": [
       "4"
      ],
      "text/latex": [
       "4"
      ],
      "text/markdown": [
       "4"
      ],
      "text/plain": [
       "[1] 4"
      ]
     },
     "metadata": {},
     "output_type": "display_data"
    }
   ],
   "source": [
    "maxPCA3$optim_conv_status"
   ]
  },
  {
   "cell_type": "markdown",
   "id": "2f2ef693",
   "metadata": {},
   "source": [
    "### report rounded estimated matrices"
   ]
  },
  {
   "cell_type": "code",
   "execution_count": 16,
   "id": "df66243a",
   "metadata": {},
   "outputs": [
    {
     "data": {
      "text/html": [
       "<table class=\"dataframe\">\n",
       "<caption>A matrix: 4 × 2 of type dbl</caption>\n",
       "<tbody>\n",
       "\t<tr><td>1.13</td><td>0.19</td></tr>\n",
       "\t<tr><td>0.05</td><td>1.10</td></tr>\n",
       "\t<tr><td>0.94</td><td>0.62</td></tr>\n",
       "\t<tr><td>0.74</td><td>0.82</td></tr>\n",
       "</tbody>\n",
       "</table>\n"
      ],
      "text/latex": [
       "A matrix: 4 × 2 of type dbl\n",
       "\\begin{tabular}{ll}\n",
       "\t 1.13 & 0.19\\\\\n",
       "\t 0.05 & 1.10\\\\\n",
       "\t 0.94 & 0.62\\\\\n",
       "\t 0.74 & 0.82\\\\\n",
       "\\end{tabular}\n"
      ],
      "text/markdown": [
       "\n",
       "A matrix: 4 × 2 of type dbl\n",
       "\n",
       "| 1.13 | 0.19 |\n",
       "| 0.05 | 1.10 |\n",
       "| 0.94 | 0.62 |\n",
       "| 0.74 | 0.82 |\n",
       "\n"
      ],
      "text/plain": [
       "     [,1] [,2]\n",
       "[1,] 1.13 0.19\n",
       "[2,] 0.05 1.10\n",
       "[3,] 0.94 0.62\n",
       "[4,] 0.74 0.82"
      ]
     },
     "metadata": {},
     "output_type": "display_data"
    }
   ],
   "source": [
    "round(maxPCA2$decoder_matrix, 2)"
   ]
  },
  {
   "cell_type": "code",
   "execution_count": 17,
   "id": "409346ba",
   "metadata": {},
   "outputs": [
    {
     "data": {
      "text/html": [
       "<table class=\"dataframe\">\n",
       "<caption>A matrix: 2 × 4 of type dbl</caption>\n",
       "<tbody>\n",
       "\t<tr><td>0.88</td><td>0.09</td><td>0.10</td><td>0.10</td></tr>\n",
       "\t<tr><td>0.02</td><td>0.91</td><td>0.04</td><td>0.07</td></tr>\n",
       "</tbody>\n",
       "</table>\n"
      ],
      "text/latex": [
       "A matrix: 2 × 4 of type dbl\n",
       "\\begin{tabular}{llll}\n",
       "\t 0.88 & 0.09 & 0.10 & 0.10\\\\\n",
       "\t 0.02 & 0.91 & 0.04 & 0.07\\\\\n",
       "\\end{tabular}\n"
      ],
      "text/markdown": [
       "\n",
       "A matrix: 2 × 4 of type dbl\n",
       "\n",
       "| 0.88 | 0.09 | 0.10 | 0.10 |\n",
       "| 0.02 | 0.91 | 0.04 | 0.07 |\n",
       "\n"
      ],
      "text/plain": [
       "     [,1] [,2] [,3] [,4]\n",
       "[1,] 0.88 0.09 0.10 0.10\n",
       "[2,] 0.02 0.91 0.04 0.07"
      ]
     },
     "metadata": {},
     "output_type": "display_data"
    }
   ],
   "source": [
    "round(maxPCA2$encoder_matrix, 2)"
   ]
  },
  {
   "cell_type": "code",
   "execution_count": 18,
   "id": "7042493c",
   "metadata": {},
   "outputs": [
    {
     "data": {
      "text/html": [
       "<table class=\"dataframe\">\n",
       "<caption>A matrix: 4 × 4 of type dbl</caption>\n",
       "<tbody>\n",
       "\t<tr><td>1.00</td><td>0.17</td><td>0.11</td><td>0.12</td></tr>\n",
       "\t<tr><td>0.04</td><td>1.00</td><td>0.05</td><td>0.08</td></tr>\n",
       "\t<tr><td>0.83</td><td>0.57</td><td>0.09</td><td>0.10</td></tr>\n",
       "\t<tr><td>0.65</td><td>0.75</td><td>0.07</td><td>0.08</td></tr>\n",
       "</tbody>\n",
       "</table>\n"
      ],
      "text/latex": [
       "A matrix: 4 × 4 of type dbl\n",
       "\\begin{tabular}{llll}\n",
       "\t 1.00 & 0.17 & 0.11 & 0.12\\\\\n",
       "\t 0.04 & 1.00 & 0.05 & 0.08\\\\\n",
       "\t 0.83 & 0.57 & 0.09 & 0.10\\\\\n",
       "\t 0.65 & 0.75 & 0.07 & 0.08\\\\\n",
       "\\end{tabular}\n"
      ],
      "text/markdown": [
       "\n",
       "A matrix: 4 × 4 of type dbl\n",
       "\n",
       "| 1.00 | 0.17 | 0.11 | 0.12 |\n",
       "| 0.04 | 1.00 | 0.05 | 0.08 |\n",
       "| 0.83 | 0.57 | 0.09 | 0.10 |\n",
       "| 0.65 | 0.75 | 0.07 | 0.08 |\n",
       "\n"
      ],
      "text/plain": [
       "     [,1] [,2] [,3] [,4]\n",
       "[1,] 1.00 0.17 0.11 0.12\n",
       "[2,] 0.04 1.00 0.05 0.08\n",
       "[3,] 0.83 0.57 0.09 0.10\n",
       "[4,] 0.65 0.75 0.07 0.08"
      ]
     },
     "metadata": {},
     "output_type": "display_data"
    }
   ],
   "source": [
    "round(maxPCA2$reconstr_matrix, 2)"
   ]
  },
  {
   "cell_type": "markdown",
   "id": "87046b65",
   "metadata": {},
   "source": [
    "# Elbow plot for reconstruction error "
   ]
  },
  {
   "cell_type": "code",
   "execution_count": 22,
   "id": "572f514d",
   "metadata": {},
   "outputs": [
    {
     "data": {
      "image/png": "[encoded data removed]",
      "text/plain": [
       "plot without title"
      ]
     },
     "metadata": {
      "image/png": {
       "height": 420,
       "width": 420
      }
     },
     "output_type": "display_data"
    }
   ],
   "source": [
    "plotdat <- data.frame(p = 1:4, losses = c(\n",
    "    maxPCA1$loss_fctn_value,\n",
    "    maxPCA2$loss_fctn_value,\n",
    "    maxPCA3$loss_fctn_value,\n",
    "    maxPCA4$loss_fctn_value   \n",
    "))\n",
    "\n",
    "pe <- ggplot(aes(x = p, y = losses), data = plotdat) + geom_line() + geom_point() + theme_minimal()\n",
    "pe"
   ]
  },
  {
   "cell_type": "code",
   "execution_count": 23,
   "id": "d38140ce",
   "metadata": {},
   "outputs": [
    {
     "name": "stderr",
     "output_type": "stream",
     "text": [
      "\u001b[1m\u001b[22mSaving 6.67 x 6.67 in image\n"
     ]
    }
   ],
   "source": [
    "ggsave(\"genmlm_elbow.pdf\", pe)"
   ]
  },
  {
   "cell_type": "markdown",
   "id": "0ca2fa2c",
   "metadata": {},
   "source": [
    "# pairplot to visually inspect reconstruction"
   ]
  },
  {
   "cell_type": "code",
   "execution_count": 24,
   "id": "87c7877b",
   "metadata": {},
   "outputs": [
    {
     "name": "stderr",
     "output_type": "stream",
     "text": [
      "\u001b[1m\u001b[22mJoining with `by = join_by(X1, X2, X3, X4, is_rec)`\n"
     ]
    }
   ],
   "source": [
    "datX <- data.frame(X) %>% sample_n(5000)\n",
    "rec <- t(maxmatmul(maxPCA2$reconstr_matrix, t(as.matrix(datX))))\n",
    "datX$is_rec = \"original\"\n",
    "datrec <- data.frame(rec)\n",
    "datrec$is_rec = \"reconstruction\"\n",
    "names(datrec) <- names(datX)\n",
    "plot_datX <- full_join(datX, datrec)"
   ]
  },
  {
   "cell_type": "code",
   "execution_count": 25,
   "id": "c1d6cf49",
   "metadata": {},
   "outputs": [
    {
     "data": {
      "image/png": "[encoded data removed]",
      "text/plain": [
       "plot without title"
      ]
     },
     "metadata": {
      "image/png": {
       "height": 420,
       "width": 420
      }
     },
     "output_type": "display_data"
    }
   ],
   "source": [
    "p <- ggpairs(\n",
    "    plot_datX, \n",
    "    aes(color = is_rec),\n",
    "    columns = 1:4,\n",
    "    upper = list(continuous = \"points\", combo = \"dot_no_facet\"),\n",
    "    diag = list(continuous = \"blankDiag\", discrete = \"barDiag\", na = \"naDiag\")\n",
    ") + \n",
    "theme_light() +\n",
    "theme(axis.text.x = element_text(angle = 45, vjust = 1, hjust=1))\n",
    "\n",
    "p"
   ]
  },
  {
   "cell_type": "code",
   "execution_count": 26,
   "id": "6834249d",
   "metadata": {},
   "outputs": [
    {
     "data": {
      "text/html": [
       "<table class=\"dataframe\">\n",
       "<caption>A tibble: 2 × 2</caption>\n",
       "<thead>\n",
       "\t<tr><th scope=col>is_rec</th><th scope=col>max(X1)</th></tr>\n",
       "\t<tr><th scope=col>&lt;chr&gt;</th><th scope=col>&lt;dbl&gt;</th></tr>\n",
       "</thead>\n",
       "<tbody>\n",
       "\t<tr><td>original      </td><td>4603.506</td></tr>\n",
       "\t<tr><td>reconstruction</td><td>4603.534</td></tr>\n",
       "</tbody>\n",
       "</table>\n"
      ],
      "text/latex": [
       "A tibble: 2 × 2\n",
       "\\begin{tabular}{ll}\n",
       " is\\_rec & max(X1)\\\\\n",
       " <chr> & <dbl>\\\\\n",
       "\\hline\n",
       "\t original       & 4603.506\\\\\n",
       "\t reconstruction & 4603.534\\\\\n",
       "\\end{tabular}\n"
      ],
      "text/markdown": [
       "\n",
       "A tibble: 2 × 2\n",
       "\n",
       "| is_rec &lt;chr&gt; | max(X1) &lt;dbl&gt; |\n",
       "|---|---|\n",
       "| original       | 4603.506 |\n",
       "| reconstruction | 4603.534 |\n",
       "\n"
      ],
      "text/plain": [
       "  is_rec         max(X1) \n",
       "1 original       4603.506\n",
       "2 reconstruction 4603.534"
      ]
     },
     "metadata": {},
     "output_type": "display_data"
    }
   ],
   "source": [
    "plot_datX %>% group_by(is_rec) %>% summarize(max(X1))"
   ]
  },
  {
   "cell_type": "code",
   "execution_count": 27,
   "id": "a6a3dc41",
   "metadata": {},
   "outputs": [
    {
     "name": "stderr",
     "output_type": "stream",
     "text": [
      "\u001b[1m\u001b[22mSaving 6.67 x 6.67 in image\n"
     ]
    }
   ],
   "source": [
    "ggsave(\"genmlm.png\", p)"
   ]
  }
 ],
 "metadata": {
  "kernelspec": {
   "display_name": "R",
   "language": "R",
   "name": "ir"
  },
  "language_info": {
   "codemirror_mode": "r",
   "file_extension": ".r",
   "mimetype": "text/x-r-source",
   "name": "R",
   "pygments_lexer": "r",
   "version": "4.4.1"
  }
 },
 "nbformat": 4,
 "nbformat_minor": 5
}
