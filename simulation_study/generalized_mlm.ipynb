{
 "cells": [
  {
   "cell_type": "markdown",
   "id": "314e32e1",
   "metadata": {},
   "source": [
    "# Generalized MLM distribution simulation"
   ]
  },
  {
   "cell_type": "code",
   "execution_count": 1,
   "id": "0d9d33da",
   "metadata": {},
   "outputs": [
    {
     "name": "stderr",
     "output_type": "stream",
     "text": [
      "\n",
      "Attaching package: ‘dplyr’\n",
      "\n",
      "\n",
      "The following objects are masked from ‘package:stats’:\n",
      "\n",
      "    filter, lag\n",
      "\n",
      "\n",
      "The following objects are masked from ‘package:base’:\n",
      "\n",
      "    intersect, setdiff, setequal, union\n",
      "\n",
      "\n",
      "Registered S3 method overwritten by 'GGally':\n",
      "  method from   \n",
      "  +.gg   ggplot2\n",
      "\n"
     ]
    }
   ],
   "source": [
    "library(evd)\n",
    "library(maxstablePCA)\n",
    "library(ggplot2)\n",
    "library(dplyr)\n",
    "library(GGally)\n",
    "library(graphicalExtremes)\n",
    "library(Matrix)"
   ]
  },
  {
   "cell_type": "markdown",
   "id": "8976d3bc",
   "metadata": {},
   "source": [
    "### setup parameters and simulate data"
   ]
  },
  {
   "cell_type": "code",
   "execution_count": 2,
   "id": "63a98c69",
   "metadata": {},
   "outputs": [],
   "source": [
    "set.seed(86420)\n",
    "s <- 100"
   ]
  },
  {
   "cell_type": "code",
   "execution_count": 3,
   "id": "e1af8744",
   "metadata": {},
   "outputs": [],
   "source": [
    "Z <- rmvevd(10000, dep = .5, model = \"log\", d = 2, mar = c(1,1,1))"
   ]
  },
  {
   "cell_type": "code",
   "execution_count": 4,
   "id": "34239e1e",
   "metadata": {},
   "outputs": [],
   "source": [
    "Z2 <- rmstable(10000, d = 2, par = matrix(c(0, .6, .6, 0), 2, 2))"
   ]
  },
  {
   "cell_type": "code",
   "execution_count": 5,
   "id": "6c58056f",
   "metadata": {},
   "outputs": [],
   "source": [
    "A <- matrix(c(0.8, 0.05, 0.6, 0.45, 0.2, 0.95, 0.4, 0.55), 4, 2)\n",
    "X <- t(maxmatmul(A, t(Z)))\n",
    "X2 <- t(maxmatmul(A, t(Z2)))"
   ]
  },
  {
   "cell_type": "code",
   "execution_count": 6,
   "id": "1e3c0e07",
   "metadata": {},
   "outputs": [
    {
     "data": {
      "text/html": [
       "<table class=\"dataframe\">\n",
       "<caption>A matrix: 4 × 2 of type dbl</caption>\n",
       "<tbody>\n",
       "\t<tr><td>0.80</td><td>0.20</td></tr>\n",
       "\t<tr><td>0.05</td><td>0.95</td></tr>\n",
       "\t<tr><td>0.60</td><td>0.40</td></tr>\n",
       "\t<tr><td>0.45</td><td>0.55</td></tr>\n",
       "</tbody>\n",
       "</table>\n"
      ],
      "text/latex": [
       "A matrix: 4 × 2 of type dbl\n",
       "\\begin{tabular}{ll}\n",
       "\t 0.80 & 0.20\\\\\n",
       "\t 0.05 & 0.95\\\\\n",
       "\t 0.60 & 0.40\\\\\n",
       "\t 0.45 & 0.55\\\\\n",
       "\\end{tabular}\n"
      ],
      "text/markdown": [
       "\n",
       "A matrix: 4 × 2 of type dbl\n",
       "\n",
       "| 0.80 | 0.20 |\n",
       "| 0.05 | 0.95 |\n",
       "| 0.60 | 0.40 |\n",
       "| 0.45 | 0.55 |\n",
       "\n"
      ],
      "text/plain": [
       "     [,1] [,2]\n",
       "[1,] 0.80 0.20\n",
       "[2,] 0.05 0.95\n",
       "[3,] 0.60 0.40\n",
       "[4,] 0.45 0.55"
      ]
     },
     "metadata": {},
     "output_type": "display_data"
    }
   ],
   "source": [
    "A"
   ]
  },
  {
   "cell_type": "code",
   "execution_count": 7,
   "id": "c7c0f63d",
   "metadata": {},
   "outputs": [],
   "source": [
    "Xtrafo <- transform_unitpareto(X)"
   ]
  },
  {
   "cell_type": "markdown",
   "id": "ef962ee1",
   "metadata": {},
   "source": [
    "# max-stable PCA for X"
   ]
  },
  {
   "cell_type": "code",
   "execution_count": 8,
   "id": "20d0f9a2",
   "metadata": {},
   "outputs": [
    {
     "data": {
      "text/plain": [
       "     Min.   1st Qu.    Median      Mean   3rd Qu.      Max. \n",
       "    1.000     1.580     2.562    13.786     5.308 10000.000 "
      ]
     },
     "metadata": {},
     "output_type": "display_data"
    }
   ],
   "source": [
    "summary(apply(Xtrafo, 1, max))"
   ]
  },
  {
   "cell_type": "code",
   "execution_count": 9,
   "id": "a4122820",
   "metadata": {},
   "outputs": [
    {
     "data": {
      "text/html": [
       "141"
      ],
      "text/latex": [
       "141"
      ],
      "text/markdown": [
       "141"
      ],
      "text/plain": [
       "[1] 141"
      ]
     },
     "metadata": {},
     "output_type": "display_data"
    }
   ],
   "source": [
    "length(which(apply(Xtrafo, 1, max) > s))"
   ]
  },
  {
   "cell_type": "code",
   "execution_count": 10,
   "id": "bd8c3ca2",
   "metadata": {},
   "outputs": [],
   "source": [
    "maxPCA1 <- max_stable_prcomp(Xtrafo, p = 1, s = s, n_initial_guesses = 15000, norm = \"linfty\")\n",
    "maxPCA2 <- max_stable_prcomp(Xtrafo, p = 2, s = s, n_initial_guesses = 15000, norm = \"linfty\")\n",
    "maxPCA3 <- max_stable_prcomp(Xtrafo, p = 3, s = s, n_initial_guesses = 15000, norm = \"linfty\")\n",
    "maxPCA4 <- max_stable_prcomp(Xtrafo, p = 4, s = s, n_initial_guesses = 15000, norm = \"linfty\")"
   ]
  },
  {
   "cell_type": "markdown",
   "id": "d72d6409",
   "metadata": {},
   "source": [
    "### inspect relevant output "
   ]
  },
  {
   "cell_type": "code",
   "execution_count": 11,
   "id": "262e519a",
   "metadata": {},
   "outputs": [
    {
     "data": {
      "text/plain": [
       "$p\n",
       "[1] 2\n",
       "\n",
       "$d\n",
       "[1] 4\n",
       "\n",
       "$decoder_matrix\n",
       "            [,1]      [,2]\n",
       "[1,] 1.113205334 0.1178866\n",
       "[2,] 0.004055144 1.0324646\n",
       "[3,] 0.943135665 0.5481915\n",
       "[4,] 0.726003414 0.7855713\n",
       "\n",
       "$encoder_matrix\n",
       "           [,1]      [,2]      [,3]       [,4]\n",
       "[1,] 0.89830691 0.1493983 0.1277844 0.10263591\n",
       "[2,] 0.02084733 0.9685562 0.0318197 0.07499711\n",
       "\n",
       "$reconstr_matrix\n",
       "           [,1]      [,2]       [,3]       [,4]\n",
       "[1,] 1.00000005 0.1663109 0.14225032 0.11425484\n",
       "[2,] 0.02152413 1.0000000 0.03285272 0.07743186\n",
       "[3,] 0.84722529 0.5309542 0.12051806 0.09679959\n",
       "[4,] 0.65217389 0.7608700 0.09277194 0.07451402\n",
       "\n",
       "$loss_fctn_value\n",
       "[1] 0.09400289\n",
       "\n",
       "$optim_conv_status\n",
       "[1] 4\n",
       "\n",
       "$s\n",
       "[1] 100\n",
       "\n",
       "$starting_vals\n",
       "$starting_vals$decoder_matrix_x0\n",
       "          [,1]      [,2]\n",
       "[1,] 1.0000000 0.3224842\n",
       "[2,] 0.9329724 1.0000000\n",
       "[3,] 0.8991738 0.4720304\n",
       "[4,] 0.4290549 0.8517225\n",
       "\n",
       "$starting_vals$encoder_matrix_x0\n",
       "          [,1]      [,2]      [,3]      [,4]\n",
       "[1,] 0.9176525 0.1697999 0.5183002 0.1026359\n",
       "[2,] 0.7946069 0.9461765 0.2165304 0.9791701\n",
       "\n",
       "\n",
       "attr(,\"class\")\n",
       "[1] \"max_stable_prcomp\""
      ]
     },
     "metadata": {},
     "output_type": "display_data"
    }
   ],
   "source": [
    "maxPCA2"
   ]
  },
  {
   "cell_type": "code",
   "execution_count": 12,
   "id": "e7fd63eb",
   "metadata": {},
   "outputs": [
    {
     "data": {
      "text/html": [
       "4"
      ],
      "text/latex": [
       "4"
      ],
      "text/markdown": [
       "4"
      ],
      "text/plain": [
       "[1] 4"
      ]
     },
     "metadata": {},
     "output_type": "display_data"
    }
   ],
   "source": [
    "maxPCA3$optim_conv_status"
   ]
  },
  {
   "cell_type": "markdown",
   "id": "2f2ef693",
   "metadata": {},
   "source": [
    "### report rounded estimated matrices"
   ]
  },
  {
   "cell_type": "code",
   "execution_count": 13,
   "id": "df66243a",
   "metadata": {},
   "outputs": [
    {
     "data": {
      "text/html": [
       "<table class=\"dataframe\">\n",
       "<caption>A matrix: 4 × 2 of type dbl</caption>\n",
       "<tbody>\n",
       "\t<tr><td>1.11</td><td>0.12</td></tr>\n",
       "\t<tr><td>0.00</td><td>1.03</td></tr>\n",
       "\t<tr><td>0.94</td><td>0.55</td></tr>\n",
       "\t<tr><td>0.73</td><td>0.79</td></tr>\n",
       "</tbody>\n",
       "</table>\n"
      ],
      "text/latex": [
       "A matrix: 4 × 2 of type dbl\n",
       "\\begin{tabular}{ll}\n",
       "\t 1.11 & 0.12\\\\\n",
       "\t 0.00 & 1.03\\\\\n",
       "\t 0.94 & 0.55\\\\\n",
       "\t 0.73 & 0.79\\\\\n",
       "\\end{tabular}\n"
      ],
      "text/markdown": [
       "\n",
       "A matrix: 4 × 2 of type dbl\n",
       "\n",
       "| 1.11 | 0.12 |\n",
       "| 0.00 | 1.03 |\n",
       "| 0.94 | 0.55 |\n",
       "| 0.73 | 0.79 |\n",
       "\n"
      ],
      "text/plain": [
       "     [,1] [,2]\n",
       "[1,] 1.11 0.12\n",
       "[2,] 0.00 1.03\n",
       "[3,] 0.94 0.55\n",
       "[4,] 0.73 0.79"
      ]
     },
     "metadata": {},
     "output_type": "display_data"
    }
   ],
   "source": [
    "round(maxPCA2$decoder_matrix, 2)"
   ]
  },
  {
   "cell_type": "code",
   "execution_count": 14,
   "id": "409346ba",
   "metadata": {},
   "outputs": [
    {
     "data": {
      "text/html": [
       "<table class=\"dataframe\">\n",
       "<caption>A matrix: 2 × 4 of type dbl</caption>\n",
       "<tbody>\n",
       "\t<tr><td>0.90</td><td>0.15</td><td>0.13</td><td>0.10</td></tr>\n",
       "\t<tr><td>0.02</td><td>0.97</td><td>0.03</td><td>0.07</td></tr>\n",
       "</tbody>\n",
       "</table>\n"
      ],
      "text/latex": [
       "A matrix: 2 × 4 of type dbl\n",
       "\\begin{tabular}{llll}\n",
       "\t 0.90 & 0.15 & 0.13 & 0.10\\\\\n",
       "\t 0.02 & 0.97 & 0.03 & 0.07\\\\\n",
       "\\end{tabular}\n"
      ],
      "text/markdown": [
       "\n",
       "A matrix: 2 × 4 of type dbl\n",
       "\n",
       "| 0.90 | 0.15 | 0.13 | 0.10 |\n",
       "| 0.02 | 0.97 | 0.03 | 0.07 |\n",
       "\n"
      ],
      "text/plain": [
       "     [,1] [,2] [,3] [,4]\n",
       "[1,] 0.90 0.15 0.13 0.10\n",
       "[2,] 0.02 0.97 0.03 0.07"
      ]
     },
     "metadata": {},
     "output_type": "display_data"
    }
   ],
   "source": [
    "round(maxPCA2$encoder_matrix, 2)"
   ]
  },
  {
   "cell_type": "code",
   "execution_count": 15,
   "id": "7042493c",
   "metadata": {},
   "outputs": [
    {
     "data": {
      "text/html": [
       "<table class=\"dataframe\">\n",
       "<caption>A matrix: 4 × 4 of type dbl</caption>\n",
       "<tbody>\n",
       "\t<tr><td>1.00</td><td>0.17</td><td>0.14</td><td>0.11</td></tr>\n",
       "\t<tr><td>0.02</td><td>1.00</td><td>0.03</td><td>0.08</td></tr>\n",
       "\t<tr><td>0.85</td><td>0.53</td><td>0.12</td><td>0.10</td></tr>\n",
       "\t<tr><td>0.65</td><td>0.76</td><td>0.09</td><td>0.07</td></tr>\n",
       "</tbody>\n",
       "</table>\n"
      ],
      "text/latex": [
       "A matrix: 4 × 4 of type dbl\n",
       "\\begin{tabular}{llll}\n",
       "\t 1.00 & 0.17 & 0.14 & 0.11\\\\\n",
       "\t 0.02 & 1.00 & 0.03 & 0.08\\\\\n",
       "\t 0.85 & 0.53 & 0.12 & 0.10\\\\\n",
       "\t 0.65 & 0.76 & 0.09 & 0.07\\\\\n",
       "\\end{tabular}\n"
      ],
      "text/markdown": [
       "\n",
       "A matrix: 4 × 4 of type dbl\n",
       "\n",
       "| 1.00 | 0.17 | 0.14 | 0.11 |\n",
       "| 0.02 | 1.00 | 0.03 | 0.08 |\n",
       "| 0.85 | 0.53 | 0.12 | 0.10 |\n",
       "| 0.65 | 0.76 | 0.09 | 0.07 |\n",
       "\n"
      ],
      "text/plain": [
       "     [,1] [,2] [,3] [,4]\n",
       "[1,] 1.00 0.17 0.14 0.11\n",
       "[2,] 0.02 1.00 0.03 0.08\n",
       "[3,] 0.85 0.53 0.12 0.10\n",
       "[4,] 0.65 0.76 0.09 0.07"
      ]
     },
     "metadata": {},
     "output_type": "display_data"
    }
   ],
   "source": [
    "round(maxPCA2$reconstr_matrix, 2)"
   ]
  },
  {
   "cell_type": "markdown",
   "id": "3023a2ba",
   "metadata": {},
   "source": [
    "#### rescale the matrices such that the largest rowwise entries of $\\hat W$ are equal to one"
   ]
  },
  {
   "cell_type": "code",
   "execution_count": 16,
   "id": "1091749a",
   "metadata": {},
   "outputs": [
    {
     "data": {
      "text/html": [
       "<table class=\"dataframe\">\n",
       "<caption>A matrix: 4 × 2 of type dbl</caption>\n",
       "<tbody>\n",
       "\t<tr><td>1.00</td><td>0.11</td></tr>\n",
       "\t<tr><td>0.00</td><td>1.00</td></tr>\n",
       "\t<tr><td>0.85</td><td>0.53</td></tr>\n",
       "\t<tr><td>0.65</td><td>0.76</td></tr>\n",
       "</tbody>\n",
       "</table>\n"
      ],
      "text/latex": [
       "A matrix: 4 × 2 of type dbl\n",
       "\\begin{tabular}{ll}\n",
       "\t 1.00 & 0.11\\\\\n",
       "\t 0.00 & 1.00\\\\\n",
       "\t 0.85 & 0.53\\\\\n",
       "\t 0.65 & 0.76\\\\\n",
       "\\end{tabular}\n"
      ],
      "text/markdown": [
       "\n",
       "A matrix: 4 × 2 of type dbl\n",
       "\n",
       "| 1.00 | 0.11 |\n",
       "| 0.00 | 1.00 |\n",
       "| 0.85 | 0.53 |\n",
       "| 0.65 | 0.76 |\n",
       "\n"
      ],
      "text/plain": [
       "     [,1] [,2]\n",
       "[1,] 1.00 0.11\n",
       "[2,] 0.00 1.00\n",
       "[3,] 0.85 0.53\n",
       "[4,] 0.65 0.76"
      ]
     },
     "metadata": {},
     "output_type": "display_data"
    }
   ],
   "source": [
    "round(maxmatmul(maxPCA2$decoder_matrix, diag(apply(maxPCA2$encoder_matrix, 1, max))), 2)"
   ]
  },
  {
   "cell_type": "code",
   "execution_count": 17,
   "id": "100bee4c",
   "metadata": {},
   "outputs": [
    {
     "data": {
      "text/html": [
       "<table class=\"dataframe\">\n",
       "<caption>A matrix: 2 × 4 of type dbl</caption>\n",
       "<tbody>\n",
       "\t<tr><td>1.00</td><td>0.17</td><td>0.14</td><td>0.11</td></tr>\n",
       "\t<tr><td>0.02</td><td>1.00</td><td>0.03</td><td>0.08</td></tr>\n",
       "</tbody>\n",
       "</table>\n"
      ],
      "text/latex": [
       "A matrix: 2 × 4 of type dbl\n",
       "\\begin{tabular}{llll}\n",
       "\t 1.00 & 0.17 & 0.14 & 0.11\\\\\n",
       "\t 0.02 & 1.00 & 0.03 & 0.08\\\\\n",
       "\\end{tabular}\n"
      ],
      "text/markdown": [
       "\n",
       "A matrix: 2 × 4 of type dbl\n",
       "\n",
       "| 1.00 | 0.17 | 0.14 | 0.11 |\n",
       "| 0.02 | 1.00 | 0.03 | 0.08 |\n",
       "\n"
      ],
      "text/plain": [
       "     [,1] [,2] [,3] [,4]\n",
       "[1,] 1.00 0.17 0.14 0.11\n",
       "[2,] 0.02 1.00 0.03 0.08"
      ]
     },
     "metadata": {},
     "output_type": "display_data"
    }
   ],
   "source": [
    "round(t(apply(maxPCA2$encoder_matrix, 1, function(z) z / max(z))), 2)"
   ]
  },
  {
   "cell_type": "markdown",
   "id": "87046b65",
   "metadata": {},
   "source": [
    "# Elbow plot for reconstruction error "
   ]
  },
  {
   "cell_type": "code",
   "execution_count": 18,
   "id": "572f514d",
   "metadata": {},
   "outputs": [
    {
     "data": {
      "image/png": "[encoded data removed]",
      "text/plain": [
       "plot without title"
      ]
     },
     "metadata": {
      "image/png": {
       "height": 420,
       "width": 420
      }
     },
     "output_type": "display_data"
    }
   ],
   "source": [
    "plotdat <- data.frame(p = 1:4, losses = c(\n",
    "    maxPCA1$loss_fctn_value,\n",
    "    maxPCA2$loss_fctn_value,\n",
    "    maxPCA3$loss_fctn_value,\n",
    "    maxPCA4$loss_fctn_value   \n",
    "))\n",
    "\n",
    "pe <- ggplot(aes(x = p, y = losses), data = plotdat) + geom_line() + geom_point() + theme_minimal()\n",
    "pe"
   ]
  },
  {
   "cell_type": "code",
   "execution_count": 19,
   "id": "d38140ce",
   "metadata": {},
   "outputs": [
    {
     "name": "stderr",
     "output_type": "stream",
     "text": [
      "\u001b[1m\u001b[22mSaving 6.67 x 6.67 in image\n"
     ]
    }
   ],
   "source": [
    "ggsave(\"genmlm_elbow.pdf\", pe)"
   ]
  },
  {
   "cell_type": "markdown",
   "id": "0ca2fa2c",
   "metadata": {},
   "source": [
    "# pairplot to visually inspect reconstruction"
   ]
  },
  {
   "cell_type": "code",
   "execution_count": 20,
   "id": "87c7877b",
   "metadata": {},
   "outputs": [
    {
     "name": "stderr",
     "output_type": "stream",
     "text": [
      "\u001b[1m\u001b[22mJoining with `by = join_by(X1, X2, X3, X4, is_rec)`\n"
     ]
    }
   ],
   "source": [
    "datX <- data.frame(X)\n",
    "rec <- t(maxmatmul(maxPCA2$reconstr_matrix, t(as.matrix(datX))))\n",
    "datX$is_rec = \"original\"\n",
    "datrec <- data.frame(rec)\n",
    "datrec$is_rec = \"reconstruction\"\n",
    "names(datrec) <- names(datX)\n",
    "plot_datX <- full_join(datX, datrec)"
   ]
  },
  {
   "cell_type": "code",
   "execution_count": 21,
   "id": "c1d6cf49",
   "metadata": {},
   "outputs": [
    {
     "data": {
      "image/png": "[encoded data removed]",
      "text/plain": [
       "plot without title"
      ]
     },
     "metadata": {
      "image/png": {
       "height": 420,
       "width": 420
      }
     },
     "output_type": "display_data"
    }
   ],
   "source": [
    "p <- ggpairs(\n",
    "    plot_datX, \n",
    "    aes(color = is_rec, shape = is_rec, size = 2),\n",
    "    columns = 1:4,\n",
    "    upper = list(continuous = \"points\", combo = \"dot_no_facet\"),\n",
    "    diag = list(continuous = \"blankDiag\", discrete = \"barDiag\", na = \"naDiag\")\n",
    ") + \n",
    "theme_light() +\n",
    "theme(axis.text.x = element_text(angle = 45, vjust = 1, hjust=1))\n",
    "\n",
    "p"
   ]
  },
  {
   "cell_type": "code",
   "execution_count": 22,
   "id": "6834249d",
   "metadata": {},
   "outputs": [
    {
     "data": {
      "text/html": [
       "<table class=\"dataframe\">\n",
       "<caption>A tibble: 2 × 2</caption>\n",
       "<thead>\n",
       "\t<tr><th scope=col>is_rec</th><th scope=col>max(X1)</th></tr>\n",
       "\t<tr><th scope=col>&lt;chr&gt;</th><th scope=col>&lt;dbl&gt;</th></tr>\n",
       "</thead>\n",
       "<tbody>\n",
       "\t<tr><td>original      </td><td>16083.69</td></tr>\n",
       "\t<tr><td>reconstruction</td><td>16083.69</td></tr>\n",
       "</tbody>\n",
       "</table>\n"
      ],
      "text/latex": [
       "A tibble: 2 × 2\n",
       "\\begin{tabular}{ll}\n",
       " is\\_rec & max(X1)\\\\\n",
       " <chr> & <dbl>\\\\\n",
       "\\hline\n",
       "\t original       & 16083.69\\\\\n",
       "\t reconstruction & 16083.69\\\\\n",
       "\\end{tabular}\n"
      ],
      "text/markdown": [
       "\n",
       "A tibble: 2 × 2\n",
       "\n",
       "| is_rec &lt;chr&gt; | max(X1) &lt;dbl&gt; |\n",
       "|---|---|\n",
       "| original       | 16083.69 |\n",
       "| reconstruction | 16083.69 |\n",
       "\n"
      ],
      "text/plain": [
       "  is_rec         max(X1) \n",
       "1 original       16083.69\n",
       "2 reconstruction 16083.69"
      ]
     },
     "metadata": {},
     "output_type": "display_data"
    }
   ],
   "source": [
    "plot_datX %>% group_by(is_rec) %>% summarize(max(X1))"
   ]
  },
  {
   "cell_type": "code",
   "execution_count": 23,
   "id": "a6a3dc41",
   "metadata": {},
   "outputs": [
    {
     "name": "stderr",
     "output_type": "stream",
     "text": [
      "\u001b[1m\u001b[22mSaving 6.67 x 6.67 in image\n"
     ]
    }
   ],
   "source": [
    "ggsave(\"genmlm.png\", p)"
   ]
  },
  {
   "cell_type": "markdown",
   "id": "6463ccc5",
   "metadata": {},
   "source": [
    "# Comparison to other methodologies "
   ]
  },
  {
   "cell_type": "code",
   "execution_count": 24,
   "id": "01234d6d",
   "metadata": {},
   "outputs": [],
   "source": [
    "Xsphere1 <- t(apply(Xtrafo, 1, function(z) z / max(z)))\n",
    "Xsphere1 <- Xsphere1[which(apply(Xtrafo, 1, max) > 100), ]"
   ]
  },
  {
   "cell_type": "code",
   "execution_count": 25,
   "id": "7a811ec8",
   "metadata": {},
   "outputs": [
    {
     "data": {
      "text/html": [
       "141"
      ],
      "text/latex": [
       "141"
      ],
      "text/markdown": [
       "141"
      ],
      "text/plain": [
       "[1] 141"
      ]
     },
     "metadata": {},
     "output_type": "display_data"
    }
   ],
   "source": [
    "length(which(apply(Xtrafo, 1, max) > 100))"
   ]
  },
  {
   "cell_type": "code",
   "execution_count": 26,
   "id": "ba47ec13",
   "metadata": {},
   "outputs": [
    {
     "data": {
      "text/plain": [
       "eigen() decomposition\n",
       "$values\n",
       "[1] 2.835024402 0.319985000 0.018958945 0.003998635\n",
       "\n",
       "$vectors\n",
       "           [,1]       [,2]       [,3]       [,4]\n",
       "[1,] -0.5067064 -0.6040583  0.5270575  0.3171319\n",
       "[2,] -0.4965872  0.7368990  0.4416450 -0.1238171\n",
       "[3,] -0.4986745 -0.2659624 -0.3290380 -0.7565195\n",
       "[4,] -0.4979694  0.1461420 -0.6472202  0.5583681\n"
      ]
     },
     "metadata": {},
     "output_type": "display_data"
    }
   ],
   "source": [
    "specdecomp1 <- eigen(t(Xsphere1) %*% Xsphere1 / 100)\n",
    "specdecomp1"
   ]
  },
  {
   "cell_type": "code",
   "execution_count": 27,
   "id": "0eed9cc2",
   "metadata": {},
   "outputs": [
    {
     "name": "stderr",
     "output_type": "stream",
     "text": [
      "\u001b[1m\u001b[22mJoining with `by = join_by(X1, X2, X3, X4)`\n"
     ]
    }
   ],
   "source": [
    "rec1 <- X %*% specdecomp1$vectors[1:4, 1:2] %*% t(specdecomp1$vectors[1:4, 1:2])\n",
    "\n",
    "plotdat_DS1 <- data.frame(X)\n",
    "tmp <- data.frame(rec1)\n",
    "plotdat_DS1 <- full_join(plotdat_DS1, tmp)\n",
    "plotdat_DS1$is_rec <- c(rep(F, 10000), rep(T, 10000))"
   ]
  },
  {
   "cell_type": "code",
   "execution_count": 28,
   "id": "64b01b0e",
   "metadata": {},
   "outputs": [
    {
     "data": {
      "image/png": "[encoded data removed]",
      "text/plain": [
       "plot without title"
      ]
     },
     "metadata": {
      "image/png": {
       "height": 420,
       "width": 420
      }
     },
     "output_type": "display_data"
    }
   ],
   "source": [
    "ggpairs(plotdat_DS1,     \n",
    "        aes(color = is_rec, shape = is_rec, size = 2),\n",
    "        columns = 1:4,\n",
    "        upper = list(continuous = \"points\", combo = \"dot_no_facet\"),\n",
    "        diag = list(continuous = \"blankDiag\", discrete = \"barDiag\", na = \"naDiag\")\n",
    ") + \n",
    "theme_light() +\n",
    "theme(axis.text.x = element_text(angle = 45, vjust = 1, hjust=1))"
   ]
  },
  {
   "cell_type": "code",
   "execution_count": 29,
   "id": "94909988",
   "metadata": {},
   "outputs": [
    {
     "data": {
      "image/png": "[encoded data removed]",
      "text/plain": [
       "plot without title"
      ]
     },
     "metadata": {
      "image/png": {
       "height": 420,
       "width": 420
      }
     },
     "output_type": "display_data"
    }
   ],
   "source": [
    "screeplotdat <- data.frame(p = 1:4, eigenvals = specdecomp1$values)\n",
    "\n",
    "ggplot(aes(x = p, y = eigenvals), data = screeplotdat) + \n",
    "geom_line() + \n",
    "theme_minimal()"
   ]
  },
  {
   "cell_type": "markdown",
   "id": "b81cf39c",
   "metadata": {},
   "source": [
    "# PCA as by Cooley and Thibaud "
   ]
  },
  {
   "cell_type": "code",
   "execution_count": 30,
   "id": "32443a23",
   "metadata": {},
   "outputs": [],
   "source": [
    "# Tail pairwise dependence matrix code by Yiang \n",
    "\n",
    "decls <- function(x, th, k) {\n",
    "    ## Ordinary decluster.\n",
    "    id.big <- which(x > th)\n",
    "    id.dif <- diff(id.big)\n",
    "    tick <- which(id.dif >= k)\n",
    "    start <- id.big[c(1, tick + 1)]              # Where a new cluster begins\n",
    "    end <- c(id.big[tick], last(id.big, 1))\n",
    "    n <- length(start)\n",
    "    id.res <- rep(0, n)\n",
    "    for ( i in 1 : n) {\n",
    "        temp <- x[start[i] : end[i]]\n",
    "        id.res[i] <- which(temp == max(temp, na.rm = TRUE))[1] + start[i] - 1\n",
    "    }\n",
    "    id.res\n",
    "}\n",
    "\n",
    "rw.Sigma <- function(X, u = 0.98, decluster = F) {\n",
    "    ## Compute TPDM\n",
    "    P <- ncol(X)                      # Number of stations\n",
    "    M <- nrow(X)                      # Number of obs\n",
    "    Sigma <- matrix(0, P, P)\n",
    "    for ( i in 1 : P) {\n",
    "        if (i %% 5 == 0) print(i)\n",
    "        for ( j in 1 : P) {\n",
    "            r <- sqrt(X[, i] ^ 2 + X[, j] ^ 2)\n",
    "            w1 <- X[, i] / r\n",
    "            w2 <- X[, j] / r\n",
    "            th <- quantile(r, u, na.rm = TRUE)\n",
    "            if(decluster) {\n",
    "                id <- decls(r, th, 5)\n",
    "            } else {\n",
    "                id <- which(r > th)\n",
    "            } \n",
    "            Sigma[i, j] <- sum(w1[id] * w2[id], na.rm = TRUE) / (length(id)) * 2\n",
    "        }\n",
    "    }\n",
    "    Sigma\n",
    "}"
   ]
  },
  {
   "cell_type": "code",
   "execution_count": 31,
   "id": "a997cff4",
   "metadata": {},
   "outputs": [],
   "source": [
    "# use a multiplicatively rescaled estimator to ensure that the ecdf does not take the values 0 and 1.\n",
    "ecdf_shifted <- function(z) length(z) / (length(z) + 1) * ecdf(z)(z)"
   ]
  },
  {
   "cell_type": "code",
   "execution_count": 32,
   "id": "512e116f",
   "metadata": {},
   "outputs": [],
   "source": [
    "# Transform data to approximately 2-Fréchet margins \n",
    "Xtrafo_2frech <- apply(Xtrafo, 2, function(z) 1 / sqrt(-log(ecdf_shifted(z))))"
   ]
  },
  {
   "cell_type": "code",
   "execution_count": 33,
   "id": "765d7a3b",
   "metadata": {},
   "outputs": [],
   "source": [
    "X2sphere <- t(apply(Xtrafo_2frech, 1, function(z) z / sqrt(sum(z^2))))\n",
    "rownorms <- apply(Xtrafo_2frech, 1, function(z) sqrt(sum(z^2)))\n",
    "\n",
    "# for t = 16.89 we have the same number of observations exceeding the threshold as for the other procedure\n",
    "X2sphere_extr <- X2sphere[which(rownorms > 16.89), ]\n",
    "tpdm <- t(X2sphere_extr) %*% X2sphere_extr / 117"
   ]
  },
  {
   "cell_type": "code",
   "execution_count": 34,
   "id": "9a5b1114",
   "metadata": {},
   "outputs": [
    {
     "data": {
      "text/html": [
       "<style>\n",
       ".dl-inline {width: auto; margin:0; padding: 0}\n",
       ".dl-inline>dt, .dl-inline>dd {float: none; width: auto; display: inline-block}\n",
       ".dl-inline>dt::after {content: \":\\0020\"; padding-right: .5ex}\n",
       ".dl-inline>dt:not(:first-of-type) {padding-left: .5ex}\n",
       "</style><dl class=dl-inline><dt>50%</dt><dd>2.45877502090782</dd><dt>75%</dt><dd>3.76834390517565</dd><dt>90%</dt><dd>6.18155826980728</dd><dt>95%</dt><dd>8.83371606899797</dd><dt>99%</dt><dd>19.4575240577605</dd></dl>\n"
      ],
      "text/latex": [
       "\\begin{description*}\n",
       "\\item[50\\textbackslash{}\\%] 2.45877502090782\n",
       "\\item[75\\textbackslash{}\\%] 3.76834390517565\n",
       "\\item[90\\textbackslash{}\\%] 6.18155826980728\n",
       "\\item[95\\textbackslash{}\\%] 8.83371606899797\n",
       "\\item[99\\textbackslash{}\\%] 19.4575240577605\n",
       "\\end{description*}\n"
      ],
      "text/markdown": [
       "50%\n",
       ":   2.4587750209078275%\n",
       ":   3.7683439051756590%\n",
       ":   6.1815582698072895%\n",
       ":   8.8337160689979799%\n",
       ":   19.4575240577605\n",
       "\n"
      ],
      "text/plain": [
       "      50%       75%       90%       95%       99% \n",
       " 2.458775  3.768344  6.181558  8.833716 19.457524 "
      ]
     },
     "metadata": {},
     "output_type": "display_data"
    }
   ],
   "source": [
    "quantile(rownorms, c(0.5, 0.75, 0.9, 0.95, 0.99))"
   ]
  },
  {
   "cell_type": "code",
   "execution_count": 35,
   "id": "ba5c99d2",
   "metadata": {},
   "outputs": [
    {
     "data": {
      "text/html": [
       "141"
      ],
      "text/latex": [
       "141"
      ],
      "text/markdown": [
       "141"
      ],
      "text/plain": [
       "[1] 141"
      ]
     },
     "metadata": {},
     "output_type": "display_data"
    }
   ],
   "source": [
    "length(which(rownorms > 16.89))"
   ]
  },
  {
   "cell_type": "code",
   "execution_count": 36,
   "id": "a5f2b86a",
   "metadata": {},
   "outputs": [],
   "source": [
    "specdecomp_cy <- eigen(tpdm)"
   ]
  },
  {
   "cell_type": "code",
   "execution_count": 37,
   "id": "37705f0f",
   "metadata": {},
   "outputs": [],
   "source": [
    "specdecomp_cy$vectors[,1] <- -specdecomp_cy$vectors[,1]"
   ]
  },
  {
   "cell_type": "code",
   "execution_count": 38,
   "id": "a679ce96",
   "metadata": {},
   "outputs": [
    {
     "data": {
      "text/plain": [
       "eigen() decomposition\n",
       "$values\n",
       "[1] 1.1550758462 0.0459585007 0.0035202301 0.0005736282\n",
       "\n",
       "$vectors\n",
       "          [,1]        [,2]       [,3]        [,4]\n",
       "[1,] 0.4967254 -0.58769569  0.5628846  0.30172610\n",
       "[2,] 0.4845179  0.76221915  0.4187804 -0.09427249\n",
       "[3,] 0.5079648 -0.25241845 -0.3008574 -0.76664303\n",
       "[4,] 0.5103705  0.09960252 -0.6459634  0.55886718\n"
      ]
     },
     "metadata": {},
     "output_type": "display_data"
    }
   ],
   "source": [
    "specdecomp_cy"
   ]
  },
  {
   "cell_type": "code",
   "execution_count": 39,
   "id": "a6a6a131",
   "metadata": {},
   "outputs": [
    {
     "name": "stderr",
     "output_type": "stream",
     "text": [
      "\u001b[1m\u001b[22mSaving 6.67 x 6.67 in image\n"
     ]
    },
    {
     "data": {
      "image/png": "[encoded data removed]",
      "text/plain": [
       "plot without title"
      ]
     },
     "metadata": {
      "image/png": {
       "height": 420,
       "width": 420
      }
     },
     "output_type": "display_data"
    }
   ],
   "source": [
    "elbow_dat_cy <- data.frame(p = 1:4, eigenvals = specdecomp_cy$values)\n",
    "elbow_cy <- ggplot(aes(x = p, y = eigenvals), data = elbow_dat_cy) +\n",
    "geom_line() + \n",
    "geom_point () + \n",
    "theme_minimal()\n",
    "\n",
    "ggsave(\"elbow_epca_cy_genmlm.pdf\", elbow_cy)\n",
    "elbow_cy"
   ]
  },
  {
   "cell_type": "code",
   "execution_count": 40,
   "id": "41d78cf0",
   "metadata": {},
   "outputs": [],
   "source": [
    "##applies the transformation t\n",
    "trans <- function(x)\n",
    "{\n",
    "    ##because it takes an exponential, this function flakes out if x is too big\n",
    "    ##hence for big values of x, we return x\n",
    "    v <- log(1 + exp(x))\n",
    "    id <- which(x < -20)\n",
    "    v[!is.finite(v)] <- x[!is.finite(v)]\n",
    "    v[id] <- exp(x[id])\n",
    "    return(v)\n",
    "}\n",
    "\n",
    "##applies the inverse transformation t^{-1}\n",
    "invTrans <- function(v)\n",
    "{\n",
    "    ##same trickeration for big values of v\n",
    "    ##still returns -Inf if v is machine zero\n",
    "    x <- log(exp(v) - 1)\n",
    "    x[!is.finite(x) & v > 1 & !is.na(x)] <- v[!is.finite(x) & v > 1 &\n",
    "                                                  !is.na(x)]\n",
    "\n",
    "    return(x)\n",
    "}"
   ]
  },
  {
   "cell_type": "code",
   "execution_count": 41,
   "id": "6f2e6ee3",
   "metadata": {},
   "outputs": [],
   "source": [
    "enc_cy <- t(specdecomp_cy$vectors[, 1:2]) %*% t(invTrans(Xtrafo_2frech))\n",
    "rec_cy <- t(specdecomp_cy$vectors[, 1:2] %*% trans(enc_cy))"
   ]
  },
  {
   "cell_type": "code",
   "execution_count": 42,
   "id": "d3d71d36",
   "metadata": {},
   "outputs": [
    {
     "data": {
      "image/png": "[encoded data removed]",
      "text/plain": [
       "plot without title"
      ]
     },
     "metadata": {
      "image/png": {
       "height": 420,
       "width": 420
      }
     },
     "output_type": "display_data"
    }
   ],
   "source": [
    "ggpairs(data.frame(t(enc_cy)))"
   ]
  },
  {
   "cell_type": "code",
   "execution_count": 43,
   "id": "99aa0fe7",
   "metadata": {},
   "outputs": [
    {
     "data": {
      "text/html": [
       "<style>\n",
       ".list-inline {list-style: none; margin:0; padding: 0}\n",
       ".list-inline>li {display: inline-block}\n",
       ".list-inline>li:not(:last-child)::after {content: \"\\00b7\"; padding: 0 .5ex}\n",
       "</style>\n",
       "<ol class=list-inline><li>10000</li><li>4</li></ol>\n"
      ],
      "text/latex": [
       "\\begin{enumerate*}\n",
       "\\item 10000\n",
       "\\item 4\n",
       "\\end{enumerate*}\n"
      ],
      "text/markdown": [
       "1. 10000\n",
       "2. 4\n",
       "\n",
       "\n"
      ],
      "text/plain": [
       "[1] 10000     4"
      ]
     },
     "metadata": {},
     "output_type": "display_data"
    }
   ],
   "source": [
    "dim(rec_cy)"
   ]
  },
  {
   "cell_type": "code",
   "execution_count": 44,
   "id": "c9246617",
   "metadata": {},
   "outputs": [
    {
     "name": "stderr",
     "output_type": "stream",
     "text": [
      "\u001b[1m\u001b[22mJoining with `by = join_by(X1, X2, X3, X4)`\n"
     ]
    },
    {
     "data": {
      "image/png": "[encoded data removed]",
      "text/plain": [
       "plot without title"
      ]
     },
     "metadata": {
      "image/png": {
       "height": 420,
       "width": 420
      }
     },
     "output_type": "display_data"
    }
   ],
   "source": [
    "plot_dat <- data.frame(Xtrafo_2frech)\n",
    "tmp <- data.frame(rec_cy)\n",
    "plot_dat <- full_join(plot_dat, tmp)\n",
    "plot_dat$is_rec <- c(rep(\"False\", 10000), rep(\"True\", 10000))\n",
    "\n",
    "\n",
    "ggpairs(plot_dat,     \n",
    "        aes(color = is_rec, shape = is_rec, size = 2),\n",
    "        columns = 1:4,\n",
    "        upper = list(continuous = \"points\", combo = \"dot_no_facet\"),\n",
    "        diag = list(continuous = \"blankDiag\", discrete = \"barDiag\", na = \"naDiag\")\n",
    ") + \n",
    "theme_light() +\n",
    "theme(axis.text.x = element_text(angle = 45, vjust = 1, hjust=1))"
   ]
  },
  {
   "cell_type": "markdown",
   "id": "2cdf5645",
   "metadata": {},
   "source": [
    "# Spherical K-means"
   ]
  },
  {
   "cell_type": "code",
   "execution_count": 45,
   "id": "60c66eea",
   "metadata": {},
   "outputs": [],
   "source": [
    "library(skmeans)"
   ]
  },
  {
   "cell_type": "code",
   "execution_count": 46,
   "id": "6ef0274d",
   "metadata": {},
   "outputs": [
    {
     "data": {
      "text/plain": [
       "     Min.   1st Qu.    Median      Mean   3rd Qu.      Max. \n",
       "    2.000     2.789     4.237    20.815     8.411 17500.000 "
      ]
     },
     "metadata": {},
     "output_type": "display_data"
    }
   ],
   "source": [
    "summary(apply(Xtrafo, 1, function(z) sqrt(sum(z^2))))"
   ]
  },
  {
   "cell_type": "code",
   "execution_count": 47,
   "id": "844961e2",
   "metadata": {},
   "outputs": [
    {
     "data": {
      "text/html": [
       "141"
      ],
      "text/latex": [
       "141"
      ],
      "text/markdown": [
       "141"
      ],
      "text/plain": [
       "[1] 141"
      ]
     },
     "metadata": {},
     "output_type": "display_data"
    }
   ],
   "source": [
    "# choosing threshold = 150 yields roughly the same number of exceedances\n",
    "sum(apply(Xtrafo, 1, function(z) sqrt(sum(z^2))) > 150)"
   ]
  },
  {
   "cell_type": "code",
   "execution_count": 48,
   "id": "a9c9b76f",
   "metadata": {},
   "outputs": [],
   "source": [
    "kmeanserrs = data.frame(k = 1:4, errs = NA)\n",
    "kmeansclusterings = list()\n",
    "for(k in 2:4) {\n",
    "    tmp <- skmeans::skmeans(Xtrafo[which(apply(Xtrafo, 1, function(z) sqrt(sum(z^2))) > 150), ], k = k)\n",
    "    kmeansclusterings[[k]] <- tmp\n",
    "    kmeanserrs[k,2] <- tmp$value\n",
    "}"
   ]
  },
  {
   "cell_type": "code",
   "execution_count": 49,
   "id": "e441588a",
   "metadata": {},
   "outputs": [
    {
     "name": "stderr",
     "output_type": "stream",
     "text": [
      "Warning message:\n",
      "“\u001b[1m\u001b[22mRemoved 1 row containing missing values or values outside the scale range\n",
      "(`geom_line()`).”\n"
     ]
    },
    {
     "data": {
      "image/png": "[encoded data removed]",
      "text/plain": [
       "plot without title"
      ]
     },
     "metadata": {
      "image/png": {
       "height": 420,
       "width": 420
      }
     },
     "output_type": "display_data"
    }
   ],
   "source": [
    "ggplot(aes(x = k, y = errs), data = kmeanserrs) + \n",
    "geom_line() +\n",
    "theme_minimal()"
   ]
  }
 ],
 "metadata": {
  "kernelspec": {
   "display_name": "R",
   "language": "R",
   "name": "ir"
  },
  "language_info": {
   "codemirror_mode": "r",
   "file_extension": ".r",
   "mimetype": "text/x-r-source",
   "name": "R",
   "pygments_lexer": "r",
   "version": "4.5.0"
  }
 },
 "nbformat": 4,
 "nbformat_minor": 5
}
